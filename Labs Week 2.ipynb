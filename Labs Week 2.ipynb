{
 "cells": [
  {
   "cell_type": "code",
   "execution_count": 2,
   "metadata": {},
   "outputs": [],
   "source": [
    "import pandas as pd\n",
    "ind = pd.read_csv(\"data/ind30_m_vw_rets.csv\", header=0, index_col=0, parse_dates=True)/100\n"
   ]
  },
  {
   "cell_type": "code",
   "execution_count": 3,
   "metadata": {},
   "outputs": [
    {
     "data": {
      "text/html": [
       "<div>\n",
       "<style scoped>\n",
       "    .dataframe tbody tr th:only-of-type {\n",
       "        vertical-align: middle;\n",
       "    }\n",
       "\n",
       "    .dataframe tbody tr th {\n",
       "        vertical-align: top;\n",
       "    }\n",
       "\n",
       "    .dataframe thead th {\n",
       "        text-align: right;\n",
       "    }\n",
       "</style>\n",
       "<table border=\"1\" class=\"dataframe\">\n",
       "  <thead>\n",
       "    <tr style=\"text-align: right;\">\n",
       "      <th></th>\n",
       "      <th>Food</th>\n",
       "      <th>Beer</th>\n",
       "      <th>Smoke</th>\n",
       "      <th>Games</th>\n",
       "      <th>Books</th>\n",
       "      <th>Hshld</th>\n",
       "      <th>Clths</th>\n",
       "      <th>Hlth</th>\n",
       "      <th>Chems</th>\n",
       "      <th>Txtls</th>\n",
       "      <th>...</th>\n",
       "      <th>Telcm</th>\n",
       "      <th>Servs</th>\n",
       "      <th>BusEq</th>\n",
       "      <th>Paper</th>\n",
       "      <th>Trans</th>\n",
       "      <th>Whlsl</th>\n",
       "      <th>Rtail</th>\n",
       "      <th>Meals</th>\n",
       "      <th>Fin</th>\n",
       "      <th>Other</th>\n",
       "    </tr>\n",
       "  </thead>\n",
       "  <tbody>\n",
       "    <tr>\n",
       "      <th>192607</th>\n",
       "      <td>0.0056</td>\n",
       "      <td>-0.0519</td>\n",
       "      <td>0.0129</td>\n",
       "      <td>0.0293</td>\n",
       "      <td>0.1097</td>\n",
       "      <td>-0.0048</td>\n",
       "      <td>0.0808</td>\n",
       "      <td>0.0177</td>\n",
       "      <td>0.0814</td>\n",
       "      <td>0.0039</td>\n",
       "      <td>...</td>\n",
       "      <td>0.0083</td>\n",
       "      <td>0.0922</td>\n",
       "      <td>0.0206</td>\n",
       "      <td>0.0770</td>\n",
       "      <td>0.0193</td>\n",
       "      <td>-0.2379</td>\n",
       "      <td>0.0007</td>\n",
       "      <td>0.0187</td>\n",
       "      <td>0.0037</td>\n",
       "      <td>0.0520</td>\n",
       "    </tr>\n",
       "    <tr>\n",
       "      <th>192608</th>\n",
       "      <td>0.0259</td>\n",
       "      <td>0.2703</td>\n",
       "      <td>0.0650</td>\n",
       "      <td>0.0055</td>\n",
       "      <td>0.1001</td>\n",
       "      <td>-0.0358</td>\n",
       "      <td>-0.0251</td>\n",
       "      <td>0.0425</td>\n",
       "      <td>0.0550</td>\n",
       "      <td>0.0814</td>\n",
       "      <td>...</td>\n",
       "      <td>0.0217</td>\n",
       "      <td>0.0202</td>\n",
       "      <td>0.0439</td>\n",
       "      <td>-0.0238</td>\n",
       "      <td>0.0488</td>\n",
       "      <td>0.0539</td>\n",
       "      <td>-0.0075</td>\n",
       "      <td>-0.0013</td>\n",
       "      <td>0.0446</td>\n",
       "      <td>0.0676</td>\n",
       "    </tr>\n",
       "    <tr>\n",
       "      <th>192609</th>\n",
       "      <td>0.0116</td>\n",
       "      <td>0.0402</td>\n",
       "      <td>0.0126</td>\n",
       "      <td>0.0658</td>\n",
       "      <td>-0.0099</td>\n",
       "      <td>0.0073</td>\n",
       "      <td>-0.0051</td>\n",
       "      <td>0.0069</td>\n",
       "      <td>0.0533</td>\n",
       "      <td>0.0231</td>\n",
       "      <td>...</td>\n",
       "      <td>0.0241</td>\n",
       "      <td>0.0225</td>\n",
       "      <td>0.0019</td>\n",
       "      <td>-0.0554</td>\n",
       "      <td>0.0005</td>\n",
       "      <td>-0.0787</td>\n",
       "      <td>0.0025</td>\n",
       "      <td>-0.0056</td>\n",
       "      <td>-0.0123</td>\n",
       "      <td>-0.0386</td>\n",
       "    </tr>\n",
       "    <tr>\n",
       "      <th>192610</th>\n",
       "      <td>-0.0306</td>\n",
       "      <td>-0.0331</td>\n",
       "      <td>0.0106</td>\n",
       "      <td>-0.0476</td>\n",
       "      <td>0.0947</td>\n",
       "      <td>-0.0468</td>\n",
       "      <td>0.0012</td>\n",
       "      <td>-0.0057</td>\n",
       "      <td>-0.0476</td>\n",
       "      <td>0.0100</td>\n",
       "      <td>...</td>\n",
       "      <td>-0.0011</td>\n",
       "      <td>-0.0200</td>\n",
       "      <td>-0.0109</td>\n",
       "      <td>-0.0508</td>\n",
       "      <td>-0.0264</td>\n",
       "      <td>-0.1538</td>\n",
       "      <td>-0.0220</td>\n",
       "      <td>-0.0411</td>\n",
       "      <td>-0.0516</td>\n",
       "      <td>-0.0849</td>\n",
       "    </tr>\n",
       "    <tr>\n",
       "      <th>192611</th>\n",
       "      <td>0.0635</td>\n",
       "      <td>0.0729</td>\n",
       "      <td>0.0455</td>\n",
       "      <td>0.0166</td>\n",
       "      <td>-0.0580</td>\n",
       "      <td>-0.0054</td>\n",
       "      <td>0.0187</td>\n",
       "      <td>0.0542</td>\n",
       "      <td>0.0520</td>\n",
       "      <td>0.0311</td>\n",
       "      <td>...</td>\n",
       "      <td>0.0163</td>\n",
       "      <td>0.0377</td>\n",
       "      <td>0.0364</td>\n",
       "      <td>0.0384</td>\n",
       "      <td>0.0160</td>\n",
       "      <td>0.0467</td>\n",
       "      <td>0.0652</td>\n",
       "      <td>0.0433</td>\n",
       "      <td>0.0224</td>\n",
       "      <td>0.0400</td>\n",
       "    </tr>\n",
       "  </tbody>\n",
       "</table>\n",
       "<p>5 rows × 30 columns</p>\n",
       "</div>"
      ],
      "text/plain": [
       "         Food    Beer    Smoke   Games   Books   Hshld   Clths   Hlth   \\\n",
       "192607  0.0056 -0.0519  0.0129  0.0293  0.1097 -0.0048  0.0808  0.0177   \n",
       "192608  0.0259  0.2703  0.0650  0.0055  0.1001 -0.0358 -0.0251  0.0425   \n",
       "192609  0.0116  0.0402  0.0126  0.0658 -0.0099  0.0073 -0.0051  0.0069   \n",
       "192610 -0.0306 -0.0331  0.0106 -0.0476  0.0947 -0.0468  0.0012 -0.0057   \n",
       "192611  0.0635  0.0729  0.0455  0.0166 -0.0580 -0.0054  0.0187  0.0542   \n",
       "\n",
       "         Chems   Txtls  ...   Telcm   Servs   BusEq   Paper   Trans   Whlsl  \\\n",
       "192607  0.0814  0.0039  ...  0.0083  0.0922  0.0206  0.0770  0.0193 -0.2379   \n",
       "192608  0.0550  0.0814  ...  0.0217  0.0202  0.0439 -0.0238  0.0488  0.0539   \n",
       "192609  0.0533  0.0231  ...  0.0241  0.0225  0.0019 -0.0554  0.0005 -0.0787   \n",
       "192610 -0.0476  0.0100  ... -0.0011 -0.0200 -0.0109 -0.0508 -0.0264 -0.1538   \n",
       "192611  0.0520  0.0311  ...  0.0163  0.0377  0.0364  0.0384  0.0160  0.0467   \n",
       "\n",
       "         Rtail   Meals   Fin     Other  \n",
       "192607  0.0007  0.0187  0.0037  0.0520  \n",
       "192608 -0.0075 -0.0013  0.0446  0.0676  \n",
       "192609  0.0025 -0.0056 -0.0123 -0.0386  \n",
       "192610 -0.0220 -0.0411 -0.0516 -0.0849  \n",
       "192611  0.0652  0.0433  0.0224  0.0400  \n",
       "\n",
       "[5 rows x 30 columns]"
      ]
     },
     "execution_count": 3,
     "metadata": {},
     "output_type": "execute_result"
    }
   ],
   "source": [
    "ind.head()"
   ]
  },
  {
   "cell_type": "code",
   "execution_count": 4,
   "metadata": {},
   "outputs": [],
   "source": [
    "ind.index = pd.to_datetime(ind.index, format=\"%Y%m\").to_period(\"M\")"
   ]
  },
  {
   "cell_type": "code",
   "execution_count": 5,
   "metadata": {},
   "outputs": [
    {
     "data": {
      "text/html": [
       "<div>\n",
       "<style scoped>\n",
       "    .dataframe tbody tr th:only-of-type {\n",
       "        vertical-align: middle;\n",
       "    }\n",
       "\n",
       "    .dataframe tbody tr th {\n",
       "        vertical-align: top;\n",
       "    }\n",
       "\n",
       "    .dataframe thead th {\n",
       "        text-align: right;\n",
       "    }\n",
       "</style>\n",
       "<table border=\"1\" class=\"dataframe\">\n",
       "  <thead>\n",
       "    <tr style=\"text-align: right;\">\n",
       "      <th></th>\n",
       "      <th>Food</th>\n",
       "      <th>Beer</th>\n",
       "      <th>Smoke</th>\n",
       "      <th>Games</th>\n",
       "      <th>Books</th>\n",
       "      <th>Hshld</th>\n",
       "      <th>Clths</th>\n",
       "      <th>Hlth</th>\n",
       "      <th>Chems</th>\n",
       "      <th>Txtls</th>\n",
       "      <th>...</th>\n",
       "      <th>Telcm</th>\n",
       "      <th>Servs</th>\n",
       "      <th>BusEq</th>\n",
       "      <th>Paper</th>\n",
       "      <th>Trans</th>\n",
       "      <th>Whlsl</th>\n",
       "      <th>Rtail</th>\n",
       "      <th>Meals</th>\n",
       "      <th>Fin</th>\n",
       "      <th>Other</th>\n",
       "    </tr>\n",
       "  </thead>\n",
       "  <tbody>\n",
       "    <tr>\n",
       "      <th>1926-07</th>\n",
       "      <td>0.0056</td>\n",
       "      <td>-0.0519</td>\n",
       "      <td>0.0129</td>\n",
       "      <td>0.0293</td>\n",
       "      <td>0.1097</td>\n",
       "      <td>-0.0048</td>\n",
       "      <td>0.0808</td>\n",
       "      <td>0.0177</td>\n",
       "      <td>0.0814</td>\n",
       "      <td>0.0039</td>\n",
       "      <td>...</td>\n",
       "      <td>0.0083</td>\n",
       "      <td>0.0922</td>\n",
       "      <td>0.0206</td>\n",
       "      <td>0.0770</td>\n",
       "      <td>0.0193</td>\n",
       "      <td>-0.2379</td>\n",
       "      <td>0.0007</td>\n",
       "      <td>0.0187</td>\n",
       "      <td>0.0037</td>\n",
       "      <td>0.0520</td>\n",
       "    </tr>\n",
       "    <tr>\n",
       "      <th>1926-08</th>\n",
       "      <td>0.0259</td>\n",
       "      <td>0.2703</td>\n",
       "      <td>0.0650</td>\n",
       "      <td>0.0055</td>\n",
       "      <td>0.1001</td>\n",
       "      <td>-0.0358</td>\n",
       "      <td>-0.0251</td>\n",
       "      <td>0.0425</td>\n",
       "      <td>0.0550</td>\n",
       "      <td>0.0814</td>\n",
       "      <td>...</td>\n",
       "      <td>0.0217</td>\n",
       "      <td>0.0202</td>\n",
       "      <td>0.0439</td>\n",
       "      <td>-0.0238</td>\n",
       "      <td>0.0488</td>\n",
       "      <td>0.0539</td>\n",
       "      <td>-0.0075</td>\n",
       "      <td>-0.0013</td>\n",
       "      <td>0.0446</td>\n",
       "      <td>0.0676</td>\n",
       "    </tr>\n",
       "    <tr>\n",
       "      <th>1926-09</th>\n",
       "      <td>0.0116</td>\n",
       "      <td>0.0402</td>\n",
       "      <td>0.0126</td>\n",
       "      <td>0.0658</td>\n",
       "      <td>-0.0099</td>\n",
       "      <td>0.0073</td>\n",
       "      <td>-0.0051</td>\n",
       "      <td>0.0069</td>\n",
       "      <td>0.0533</td>\n",
       "      <td>0.0231</td>\n",
       "      <td>...</td>\n",
       "      <td>0.0241</td>\n",
       "      <td>0.0225</td>\n",
       "      <td>0.0019</td>\n",
       "      <td>-0.0554</td>\n",
       "      <td>0.0005</td>\n",
       "      <td>-0.0787</td>\n",
       "      <td>0.0025</td>\n",
       "      <td>-0.0056</td>\n",
       "      <td>-0.0123</td>\n",
       "      <td>-0.0386</td>\n",
       "    </tr>\n",
       "    <tr>\n",
       "      <th>1926-10</th>\n",
       "      <td>-0.0306</td>\n",
       "      <td>-0.0331</td>\n",
       "      <td>0.0106</td>\n",
       "      <td>-0.0476</td>\n",
       "      <td>0.0947</td>\n",
       "      <td>-0.0468</td>\n",
       "      <td>0.0012</td>\n",
       "      <td>-0.0057</td>\n",
       "      <td>-0.0476</td>\n",
       "      <td>0.0100</td>\n",
       "      <td>...</td>\n",
       "      <td>-0.0011</td>\n",
       "      <td>-0.0200</td>\n",
       "      <td>-0.0109</td>\n",
       "      <td>-0.0508</td>\n",
       "      <td>-0.0264</td>\n",
       "      <td>-0.1538</td>\n",
       "      <td>-0.0220</td>\n",
       "      <td>-0.0411</td>\n",
       "      <td>-0.0516</td>\n",
       "      <td>-0.0849</td>\n",
       "    </tr>\n",
       "    <tr>\n",
       "      <th>1926-11</th>\n",
       "      <td>0.0635</td>\n",
       "      <td>0.0729</td>\n",
       "      <td>0.0455</td>\n",
       "      <td>0.0166</td>\n",
       "      <td>-0.0580</td>\n",
       "      <td>-0.0054</td>\n",
       "      <td>0.0187</td>\n",
       "      <td>0.0542</td>\n",
       "      <td>0.0520</td>\n",
       "      <td>0.0311</td>\n",
       "      <td>...</td>\n",
       "      <td>0.0163</td>\n",
       "      <td>0.0377</td>\n",
       "      <td>0.0364</td>\n",
       "      <td>0.0384</td>\n",
       "      <td>0.0160</td>\n",
       "      <td>0.0467</td>\n",
       "      <td>0.0652</td>\n",
       "      <td>0.0433</td>\n",
       "      <td>0.0224</td>\n",
       "      <td>0.0400</td>\n",
       "    </tr>\n",
       "  </tbody>\n",
       "</table>\n",
       "<p>5 rows × 30 columns</p>\n",
       "</div>"
      ],
      "text/plain": [
       "          Food    Beer    Smoke   Games   Books   Hshld   Clths   Hlth   \\\n",
       "1926-07  0.0056 -0.0519  0.0129  0.0293  0.1097 -0.0048  0.0808  0.0177   \n",
       "1926-08  0.0259  0.2703  0.0650  0.0055  0.1001 -0.0358 -0.0251  0.0425   \n",
       "1926-09  0.0116  0.0402  0.0126  0.0658 -0.0099  0.0073 -0.0051  0.0069   \n",
       "1926-10 -0.0306 -0.0331  0.0106 -0.0476  0.0947 -0.0468  0.0012 -0.0057   \n",
       "1926-11  0.0635  0.0729  0.0455  0.0166 -0.0580 -0.0054  0.0187  0.0542   \n",
       "\n",
       "          Chems   Txtls  ...   Telcm   Servs   BusEq   Paper   Trans   Whlsl  \\\n",
       "1926-07  0.0814  0.0039  ...  0.0083  0.0922  0.0206  0.0770  0.0193 -0.2379   \n",
       "1926-08  0.0550  0.0814  ...  0.0217  0.0202  0.0439 -0.0238  0.0488  0.0539   \n",
       "1926-09  0.0533  0.0231  ...  0.0241  0.0225  0.0019 -0.0554  0.0005 -0.0787   \n",
       "1926-10 -0.0476  0.0100  ... -0.0011 -0.0200 -0.0109 -0.0508 -0.0264 -0.1538   \n",
       "1926-11  0.0520  0.0311  ...  0.0163  0.0377  0.0364  0.0384  0.0160  0.0467   \n",
       "\n",
       "          Rtail   Meals   Fin     Other  \n",
       "1926-07  0.0007  0.0187  0.0037  0.0520  \n",
       "1926-08 -0.0075 -0.0013  0.0446  0.0676  \n",
       "1926-09  0.0025 -0.0056 -0.0123 -0.0386  \n",
       "1926-10 -0.0220 -0.0411 -0.0516 -0.0849  \n",
       "1926-11  0.0652  0.0433  0.0224  0.0400  \n",
       "\n",
       "[5 rows x 30 columns]"
      ]
     },
     "execution_count": 5,
     "metadata": {},
     "output_type": "execute_result"
    }
   ],
   "source": [
    "ind.head()"
   ]
  },
  {
   "cell_type": "code",
   "execution_count": 6,
   "metadata": {},
   "outputs": [
    {
     "data": {
      "text/plain": [
       "Index(['Food ', 'Beer ', 'Smoke', 'Games', 'Books', 'Hshld', 'Clths', 'Hlth ',\n",
       "       'Chems', 'Txtls', 'Cnstr', 'Steel', 'FabPr', 'ElcEq', 'Autos', 'Carry',\n",
       "       'Mines', 'Coal ', 'Oil  ', 'Util ', 'Telcm', 'Servs', 'BusEq', 'Paper',\n",
       "       'Trans', 'Whlsl', 'Rtail', 'Meals', 'Fin  ', 'Other'],\n",
       "      dtype='object')"
      ]
     },
     "execution_count": 6,
     "metadata": {},
     "output_type": "execute_result"
    }
   ],
   "source": [
    "ind.columns"
   ]
  },
  {
   "cell_type": "code",
   "execution_count": 7,
   "metadata": {},
   "outputs": [
    {
     "data": {
      "text/plain": [
       "Index(['Food', 'Beer', 'Smoke', 'Games', 'Books', 'Hshld', 'Clths', 'Hlth',\n",
       "       'Chems', 'Txtls', 'Cnstr', 'Steel', 'FabPr', 'ElcEq', 'Autos', 'Carry',\n",
       "       'Mines', 'Coal', 'Oil', 'Util', 'Telcm', 'Servs', 'BusEq', 'Paper',\n",
       "       'Trans', 'Whlsl', 'Rtail', 'Meals', 'Fin', 'Other'],\n",
       "      dtype='object')"
      ]
     },
     "execution_count": 7,
     "metadata": {},
     "output_type": "execute_result"
    }
   ],
   "source": [
    "ind.columns = ind.columns.str.strip()\n",
    "ind.columns"
   ]
  },
  {
   "cell_type": "code",
   "execution_count": 8,
   "metadata": {},
   "outputs": [
    {
     "data": {
      "text/plain": [
       "(1110, 30)"
      ]
     },
     "execution_count": 8,
     "metadata": {},
     "output_type": "execute_result"
    }
   ],
   "source": [
    "ind.shape"
   ]
  },
  {
   "cell_type": "code",
   "execution_count": 9,
   "metadata": {},
   "outputs": [],
   "source": [
    "%load_ext autoreload\n",
    "%autoreload 2"
   ]
  },
  {
   "cell_type": "code",
   "execution_count": 10,
   "metadata": {},
   "outputs": [],
   "source": [
    "import risk_kit as rk"
   ]
  },
  {
   "cell_type": "code",
   "execution_count": 11,
   "metadata": {},
   "outputs": [
    {
     "data": {
      "text/plain": [
       "(1110, 30)"
      ]
     },
     "execution_count": 11,
     "metadata": {},
     "output_type": "execute_result"
    }
   ],
   "source": [
    "ind = rk.get_ind_returns()\n",
    "ind.shape"
   ]
  },
  {
   "cell_type": "code",
   "execution_count": 12,
   "metadata": {},
   "outputs": [
    {
     "data": {
      "text/html": [
       "<div>\n",
       "<style scoped>\n",
       "    .dataframe tbody tr th:only-of-type {\n",
       "        vertical-align: middle;\n",
       "    }\n",
       "\n",
       "    .dataframe tbody tr th {\n",
       "        vertical-align: top;\n",
       "    }\n",
       "\n",
       "    .dataframe thead th {\n",
       "        text-align: right;\n",
       "    }\n",
       "</style>\n",
       "<table border=\"1\" class=\"dataframe\">\n",
       "  <thead>\n",
       "    <tr style=\"text-align: right;\">\n",
       "      <th></th>\n",
       "      <th>Food</th>\n",
       "      <th>Beer</th>\n",
       "      <th>Smoke</th>\n",
       "      <th>Games</th>\n",
       "      <th>Books</th>\n",
       "      <th>Hshld</th>\n",
       "      <th>Clths</th>\n",
       "      <th>Hlth</th>\n",
       "      <th>Chems</th>\n",
       "      <th>Txtls</th>\n",
       "      <th>...</th>\n",
       "      <th>Telcm</th>\n",
       "      <th>Servs</th>\n",
       "      <th>BusEq</th>\n",
       "      <th>Paper</th>\n",
       "      <th>Trans</th>\n",
       "      <th>Whlsl</th>\n",
       "      <th>Rtail</th>\n",
       "      <th>Meals</th>\n",
       "      <th>Fin</th>\n",
       "      <th>Other</th>\n",
       "    </tr>\n",
       "  </thead>\n",
       "  <tbody>\n",
       "    <tr>\n",
       "      <th>1926-07</th>\n",
       "      <td>0.0056</td>\n",
       "      <td>-0.0519</td>\n",
       "      <td>0.0129</td>\n",
       "      <td>0.0293</td>\n",
       "      <td>0.1097</td>\n",
       "      <td>-0.0048</td>\n",
       "      <td>0.0808</td>\n",
       "      <td>0.0177</td>\n",
       "      <td>0.0814</td>\n",
       "      <td>0.0039</td>\n",
       "      <td>...</td>\n",
       "      <td>0.0083</td>\n",
       "      <td>0.0922</td>\n",
       "      <td>0.0206</td>\n",
       "      <td>0.0770</td>\n",
       "      <td>0.0193</td>\n",
       "      <td>-0.2379</td>\n",
       "      <td>0.0007</td>\n",
       "      <td>0.0187</td>\n",
       "      <td>0.0037</td>\n",
       "      <td>0.0520</td>\n",
       "    </tr>\n",
       "    <tr>\n",
       "      <th>1926-08</th>\n",
       "      <td>0.0259</td>\n",
       "      <td>0.2703</td>\n",
       "      <td>0.0650</td>\n",
       "      <td>0.0055</td>\n",
       "      <td>0.1001</td>\n",
       "      <td>-0.0358</td>\n",
       "      <td>-0.0251</td>\n",
       "      <td>0.0425</td>\n",
       "      <td>0.0550</td>\n",
       "      <td>0.0814</td>\n",
       "      <td>...</td>\n",
       "      <td>0.0217</td>\n",
       "      <td>0.0202</td>\n",
       "      <td>0.0439</td>\n",
       "      <td>-0.0238</td>\n",
       "      <td>0.0488</td>\n",
       "      <td>0.0539</td>\n",
       "      <td>-0.0075</td>\n",
       "      <td>-0.0013</td>\n",
       "      <td>0.0446</td>\n",
       "      <td>0.0676</td>\n",
       "    </tr>\n",
       "    <tr>\n",
       "      <th>1926-09</th>\n",
       "      <td>0.0116</td>\n",
       "      <td>0.0402</td>\n",
       "      <td>0.0126</td>\n",
       "      <td>0.0658</td>\n",
       "      <td>-0.0099</td>\n",
       "      <td>0.0073</td>\n",
       "      <td>-0.0051</td>\n",
       "      <td>0.0069</td>\n",
       "      <td>0.0533</td>\n",
       "      <td>0.0231</td>\n",
       "      <td>...</td>\n",
       "      <td>0.0241</td>\n",
       "      <td>0.0225</td>\n",
       "      <td>0.0019</td>\n",
       "      <td>-0.0554</td>\n",
       "      <td>0.0005</td>\n",
       "      <td>-0.0787</td>\n",
       "      <td>0.0025</td>\n",
       "      <td>-0.0056</td>\n",
       "      <td>-0.0123</td>\n",
       "      <td>-0.0386</td>\n",
       "    </tr>\n",
       "    <tr>\n",
       "      <th>1926-10</th>\n",
       "      <td>-0.0306</td>\n",
       "      <td>-0.0331</td>\n",
       "      <td>0.0106</td>\n",
       "      <td>-0.0476</td>\n",
       "      <td>0.0947</td>\n",
       "      <td>-0.0468</td>\n",
       "      <td>0.0012</td>\n",
       "      <td>-0.0057</td>\n",
       "      <td>-0.0476</td>\n",
       "      <td>0.0100</td>\n",
       "      <td>...</td>\n",
       "      <td>-0.0011</td>\n",
       "      <td>-0.0200</td>\n",
       "      <td>-0.0109</td>\n",
       "      <td>-0.0508</td>\n",
       "      <td>-0.0264</td>\n",
       "      <td>-0.1538</td>\n",
       "      <td>-0.0220</td>\n",
       "      <td>-0.0411</td>\n",
       "      <td>-0.0516</td>\n",
       "      <td>-0.0849</td>\n",
       "    </tr>\n",
       "    <tr>\n",
       "      <th>1926-11</th>\n",
       "      <td>0.0635</td>\n",
       "      <td>0.0729</td>\n",
       "      <td>0.0455</td>\n",
       "      <td>0.0166</td>\n",
       "      <td>-0.0580</td>\n",
       "      <td>-0.0054</td>\n",
       "      <td>0.0187</td>\n",
       "      <td>0.0542</td>\n",
       "      <td>0.0520</td>\n",
       "      <td>0.0311</td>\n",
       "      <td>...</td>\n",
       "      <td>0.0163</td>\n",
       "      <td>0.0377</td>\n",
       "      <td>0.0364</td>\n",
       "      <td>0.0384</td>\n",
       "      <td>0.0160</td>\n",
       "      <td>0.0467</td>\n",
       "      <td>0.0652</td>\n",
       "      <td>0.0433</td>\n",
       "      <td>0.0224</td>\n",
       "      <td>0.0400</td>\n",
       "    </tr>\n",
       "  </tbody>\n",
       "</table>\n",
       "<p>5 rows × 30 columns</p>\n",
       "</div>"
      ],
      "text/plain": [
       "           Food    Beer   Smoke   Games   Books   Hshld   Clths    Hlth  \\\n",
       "1926-07  0.0056 -0.0519  0.0129  0.0293  0.1097 -0.0048  0.0808  0.0177   \n",
       "1926-08  0.0259  0.2703  0.0650  0.0055  0.1001 -0.0358 -0.0251  0.0425   \n",
       "1926-09  0.0116  0.0402  0.0126  0.0658 -0.0099  0.0073 -0.0051  0.0069   \n",
       "1926-10 -0.0306 -0.0331  0.0106 -0.0476  0.0947 -0.0468  0.0012 -0.0057   \n",
       "1926-11  0.0635  0.0729  0.0455  0.0166 -0.0580 -0.0054  0.0187  0.0542   \n",
       "\n",
       "          Chems   Txtls  ...   Telcm   Servs   BusEq   Paper   Trans   Whlsl  \\\n",
       "1926-07  0.0814  0.0039  ...  0.0083  0.0922  0.0206  0.0770  0.0193 -0.2379   \n",
       "1926-08  0.0550  0.0814  ...  0.0217  0.0202  0.0439 -0.0238  0.0488  0.0539   \n",
       "1926-09  0.0533  0.0231  ...  0.0241  0.0225  0.0019 -0.0554  0.0005 -0.0787   \n",
       "1926-10 -0.0476  0.0100  ... -0.0011 -0.0200 -0.0109 -0.0508 -0.0264 -0.1538   \n",
       "1926-11  0.0520  0.0311  ...  0.0163  0.0377  0.0364  0.0384  0.0160  0.0467   \n",
       "\n",
       "          Rtail   Meals     Fin   Other  \n",
       "1926-07  0.0007  0.0187  0.0037  0.0520  \n",
       "1926-08 -0.0075 -0.0013  0.0446  0.0676  \n",
       "1926-09  0.0025 -0.0056 -0.0123 -0.0386  \n",
       "1926-10 -0.0220 -0.0411 -0.0516 -0.0849  \n",
       "1926-11  0.0652  0.0433  0.0224  0.0400  \n",
       "\n",
       "[5 rows x 30 columns]"
      ]
     },
     "execution_count": 12,
     "metadata": {},
     "output_type": "execute_result"
    }
   ],
   "source": [
    "ind.head()"
   ]
  },
  {
   "cell_type": "code",
   "execution_count": 13,
   "metadata": {},
   "outputs": [
    {
     "data": {
      "text/plain": [
       "<Axes: >"
      ]
     },
     "execution_count": 13,
     "metadata": {},
     "output_type": "execute_result"
    },
    {
     "data": {
      "image/png": "[encoded data removed]",
      "text/plain": [
       "<Figure size 1200x600 with 1 Axes>"
      ]
     },
     "metadata": {},
     "output_type": "display_data"
    }
   ],
   "source": [
    "rk.drawdown(ind[\"Food\"])[\"Drawdown\"].plot.line(figsize =(12, 6))"
   ]
  },
  {
   "cell_type": "code",
   "execution_count": 14,
   "metadata": {},
   "outputs": [
    {
     "data": {
      "text/plain": [
       "Food     0.061207\n",
       "Smoke    0.080292\n",
       "Coal     0.047359\n",
       "Beer     0.033881\n",
       "Fin      0.075199\n",
       "dtype: float64"
      ]
     },
     "execution_count": 14,
     "metadata": {},
     "output_type": "execute_result"
    }
   ],
   "source": [
    "col_of_interest = [\"Food\",\"Smoke\", \"Coal\", \"Beer\", \"Fin\"]\n",
    "rk.var_gaussian(ind[col_of_interest], modified =True)"
   ]
  },
  {
   "cell_type": "code",
   "execution_count": 15,
   "metadata": {},
   "outputs": [
    {
     "data": {
      "text/plain": [
       "Carry    0.094527\n",
       "Meals    0.098403\n",
       "BusEq    0.099377\n",
       "Games    0.100701\n",
       "Mines    0.102782\n",
       "dtype: float64"
      ]
     },
     "execution_count": 15,
     "metadata": {},
     "output_type": "execute_result"
    }
   ],
   "source": [
    "rk.var_gaussian(ind, modified = True).sort_values().tail()"
   ]
  },
  {
   "cell_type": "code",
   "execution_count": 16,
   "metadata": {},
   "outputs": [
    {
     "data": {
      "text/plain": [
       "Beer     0.033881\n",
       "Coal     0.047359\n",
       "Food     0.061207\n",
       "Telcm    0.064719\n",
       "Hshld    0.064886\n",
       "dtype: float64"
      ]
     },
     "execution_count": 16,
     "metadata": {},
     "output_type": "execute_result"
    }
   ],
   "source": [
    "rk.var_gaussian(ind, modified = True).sort_values().head()"
   ]
  },
  {
   "cell_type": "code",
   "execution_count": 17,
   "metadata": {},
   "outputs": [
    {
     "data": {
      "text/plain": [
       "<Axes: >"
      ]
     },
     "execution_count": 17,
     "metadata": {},
     "output_type": "execute_result"
    },
    {
     "data": {
      "image/png": "[encoded data removed]",
      "text/plain": [
       "<Figure size 640x480 with 1 Axes>"
      ]
     },
     "metadata": {},
     "output_type": "display_data"
    }
   ],
   "source": [
    "rk.var_gaussian(ind, modified=True).sort_values().plot.bar()"
   ]
  },
  {
   "cell_type": "code",
   "execution_count": 18,
   "metadata": {},
   "outputs": [
    {
     "data": {
      "text/plain": [
       "<Axes: title={'center': 'Industry Shape Ratios 1926-2018'}>"
      ]
     },
     "execution_count": 18,
     "metadata": {},
     "output_type": "execute_result"
    },
    {
     "data": {
      "image/png": "[encoded data removed]",
      "text/plain": [
       "<Figure size 640x480 with 1 Axes>"
      ]
     },
     "metadata": {},
     "output_type": "display_data"
    }
   ],
   "source": [
    "rk.sharpe_ratio(ind, 0.03, 12).sort_values().plot.bar(title = \"Industry Shape Ratios 1926-2018\", color=\"green\")"
   ]
  },
  {
   "cell_type": "code",
   "execution_count": 19,
   "metadata": {},
   "outputs": [
    {
     "data": {
      "text/plain": [
       "<Axes: title={'center': 'Industry Shape Ratios 2000-2018'}>"
      ]
     },
     "execution_count": 19,
     "metadata": {},
     "output_type": "execute_result"
    },
    {
     "data": {
      "image/png": "[encoded data removed]",
      "text/plain": [
       "<Figure size 1200x500 with 1 Axes>"
      ]
     },
     "metadata": {},
     "output_type": "display_data"
    }
   ],
   "source": [
    "rk.sharpe_ratio(ind[\"2000\":], 0.03, 12).sort_values().plot.bar(title = \"Industry Shape Ratios 2000-2018\", figsize=(12, 5), color=\"goldenrod\")"
   ]
  },
  {
   "attachments": {},
   "cell_type": "markdown",
   "metadata": {},
   "source": [
    "## Efficient Frontier"
   ]
  },
  {
   "cell_type": "code",
   "execution_count": 20,
   "metadata": {},
   "outputs": [],
   "source": [
    "er = rk.annualize_rets(ind[\"1996\":\"2000\"], 12)"
   ]
  },
  {
   "cell_type": "code",
   "execution_count": 21,
   "metadata": {},
   "outputs": [
    {
     "data": {
      "text/plain": [
       "<Axes: >"
      ]
     },
     "execution_count": 21,
     "metadata": {},
     "output_type": "execute_result"
    },
    {
     "data": {
      "image/png": "[encoded data removed]",
      "text/plain": [
       "<Figure size 640x480 with 1 Axes>"
      ]
     },
     "metadata": {},
     "output_type": "display_data"
    }
   ],
   "source": [
    "er.sort_values().plot.bar()"
   ]
  },
  {
   "cell_type": "code",
   "execution_count": 22,
   "metadata": {},
   "outputs": [],
   "source": [
    "cov = ind[\"1996\":\"2000\"].cov()"
   ]
  },
  {
   "cell_type": "code",
   "execution_count": 23,
   "metadata": {},
   "outputs": [
    {
     "data": {
      "text/plain": [
       "(30, 30)"
      ]
     },
     "execution_count": 23,
     "metadata": {},
     "output_type": "execute_result"
    }
   ],
   "source": [
    "cov.shape"
   ]
  },
  {
   "cell_type": "code",
   "execution_count": 24,
   "metadata": {},
   "outputs": [
    {
     "data": {
      "text/html": [
       "<div>\n",
       "<style scoped>\n",
       "    .dataframe tbody tr th:only-of-type {\n",
       "        vertical-align: middle;\n",
       "    }\n",
       "\n",
       "    .dataframe tbody tr th {\n",
       "        vertical-align: top;\n",
       "    }\n",
       "\n",
       "    .dataframe thead th {\n",
       "        text-align: right;\n",
       "    }\n",
       "</style>\n",
       "<table border=\"1\" class=\"dataframe\">\n",
       "  <thead>\n",
       "    <tr style=\"text-align: right;\">\n",
       "      <th></th>\n",
       "      <th>Food</th>\n",
       "      <th>Beer</th>\n",
       "      <th>Smoke</th>\n",
       "      <th>Games</th>\n",
       "      <th>Books</th>\n",
       "      <th>Hshld</th>\n",
       "      <th>Clths</th>\n",
       "      <th>Hlth</th>\n",
       "      <th>Chems</th>\n",
       "      <th>Txtls</th>\n",
       "      <th>...</th>\n",
       "      <th>Telcm</th>\n",
       "      <th>Servs</th>\n",
       "      <th>BusEq</th>\n",
       "      <th>Paper</th>\n",
       "      <th>Trans</th>\n",
       "      <th>Whlsl</th>\n",
       "      <th>Rtail</th>\n",
       "      <th>Meals</th>\n",
       "      <th>Fin</th>\n",
       "      <th>Other</th>\n",
       "    </tr>\n",
       "  </thead>\n",
       "  <tbody>\n",
       "    <tr>\n",
       "      <th>Food</th>\n",
       "      <td>0.002609</td>\n",
       "      <td>0.002379</td>\n",
       "      <td>0.002061</td>\n",
       "      <td>0.000846</td>\n",
       "      <td>0.001035</td>\n",
       "      <td>0.001374</td>\n",
       "      <td>0.001733</td>\n",
       "      <td>0.001230</td>\n",
       "      <td>0.001414</td>\n",
       "      <td>0.001216</td>\n",
       "      <td>...</td>\n",
       "      <td>0.000667</td>\n",
       "      <td>0.000237</td>\n",
       "      <td>-0.000315</td>\n",
       "      <td>0.001429</td>\n",
       "      <td>0.001534</td>\n",
       "      <td>0.000740</td>\n",
       "      <td>0.001363</td>\n",
       "      <td>0.001230</td>\n",
       "      <td>0.002132</td>\n",
       "      <td>0.001057</td>\n",
       "    </tr>\n",
       "    <tr>\n",
       "      <th>Beer</th>\n",
       "      <td>0.002379</td>\n",
       "      <td>0.005264</td>\n",
       "      <td>0.001359</td>\n",
       "      <td>0.001348</td>\n",
       "      <td>0.000865</td>\n",
       "      <td>0.002804</td>\n",
       "      <td>0.001704</td>\n",
       "      <td>0.001955</td>\n",
       "      <td>0.001460</td>\n",
       "      <td>0.002005</td>\n",
       "      <td>...</td>\n",
       "      <td>0.001146</td>\n",
       "      <td>0.000438</td>\n",
       "      <td>0.000007</td>\n",
       "      <td>0.001710</td>\n",
       "      <td>0.002284</td>\n",
       "      <td>0.000697</td>\n",
       "      <td>0.001690</td>\n",
       "      <td>0.001822</td>\n",
       "      <td>0.002571</td>\n",
       "      <td>0.001383</td>\n",
       "    </tr>\n",
       "    <tr>\n",
       "      <th>Smoke</th>\n",
       "      <td>0.002061</td>\n",
       "      <td>0.001359</td>\n",
       "      <td>0.008349</td>\n",
       "      <td>0.000379</td>\n",
       "      <td>-0.000128</td>\n",
       "      <td>0.001167</td>\n",
       "      <td>0.000950</td>\n",
       "      <td>0.001038</td>\n",
       "      <td>0.000853</td>\n",
       "      <td>0.000779</td>\n",
       "      <td>...</td>\n",
       "      <td>0.000062</td>\n",
       "      <td>-0.000218</td>\n",
       "      <td>-0.000120</td>\n",
       "      <td>0.001327</td>\n",
       "      <td>0.000396</td>\n",
       "      <td>0.001707</td>\n",
       "      <td>0.000105</td>\n",
       "      <td>0.000703</td>\n",
       "      <td>0.001312</td>\n",
       "      <td>0.001741</td>\n",
       "    </tr>\n",
       "    <tr>\n",
       "      <th>Games</th>\n",
       "      <td>0.000846</td>\n",
       "      <td>0.001348</td>\n",
       "      <td>0.000379</td>\n",
       "      <td>0.003773</td>\n",
       "      <td>0.001726</td>\n",
       "      <td>0.001206</td>\n",
       "      <td>0.002189</td>\n",
       "      <td>0.001433</td>\n",
       "      <td>0.001775</td>\n",
       "      <td>0.001422</td>\n",
       "      <td>...</td>\n",
       "      <td>0.001922</td>\n",
       "      <td>0.002848</td>\n",
       "      <td>0.003434</td>\n",
       "      <td>0.001852</td>\n",
       "      <td>0.001578</td>\n",
       "      <td>0.001966</td>\n",
       "      <td>0.001872</td>\n",
       "      <td>0.001561</td>\n",
       "      <td>0.002416</td>\n",
       "      <td>0.002382</td>\n",
       "    </tr>\n",
       "    <tr>\n",
       "      <th>Books</th>\n",
       "      <td>0.001035</td>\n",
       "      <td>0.000865</td>\n",
       "      <td>-0.000128</td>\n",
       "      <td>0.001726</td>\n",
       "      <td>0.002612</td>\n",
       "      <td>0.001025</td>\n",
       "      <td>0.002361</td>\n",
       "      <td>0.000758</td>\n",
       "      <td>0.001731</td>\n",
       "      <td>0.001459</td>\n",
       "      <td>...</td>\n",
       "      <td>0.001918</td>\n",
       "      <td>0.002367</td>\n",
       "      <td>0.001944</td>\n",
       "      <td>0.001638</td>\n",
       "      <td>0.001776</td>\n",
       "      <td>0.001392</td>\n",
       "      <td>0.002223</td>\n",
       "      <td>0.001189</td>\n",
       "      <td>0.002261</td>\n",
       "      <td>0.001442</td>\n",
       "    </tr>\n",
       "    <tr>\n",
       "      <th>Hshld</th>\n",
       "      <td>0.001374</td>\n",
       "      <td>0.002804</td>\n",
       "      <td>0.001167</td>\n",
       "      <td>0.001206</td>\n",
       "      <td>0.001025</td>\n",
       "      <td>0.003300</td>\n",
       "      <td>0.001320</td>\n",
       "      <td>0.001473</td>\n",
       "      <td>0.001413</td>\n",
       "      <td>0.001364</td>\n",
       "      <td>...</td>\n",
       "      <td>0.001060</td>\n",
       "      <td>0.001310</td>\n",
       "      <td>0.001102</td>\n",
       "      <td>0.001873</td>\n",
       "      <td>0.001582</td>\n",
       "      <td>0.000683</td>\n",
       "      <td>0.001378</td>\n",
       "      <td>0.001202</td>\n",
       "      <td>0.001912</td>\n",
       "      <td>0.001580</td>\n",
       "    </tr>\n",
       "    <tr>\n",
       "      <th>Clths</th>\n",
       "      <td>0.001733</td>\n",
       "      <td>0.001704</td>\n",
       "      <td>0.000950</td>\n",
       "      <td>0.002189</td>\n",
       "      <td>0.002361</td>\n",
       "      <td>0.001320</td>\n",
       "      <td>0.005655</td>\n",
       "      <td>0.000834</td>\n",
       "      <td>0.002932</td>\n",
       "      <td>0.002472</td>\n",
       "      <td>...</td>\n",
       "      <td>0.001436</td>\n",
       "      <td>0.001625</td>\n",
       "      <td>0.000834</td>\n",
       "      <td>0.003165</td>\n",
       "      <td>0.002862</td>\n",
       "      <td>0.001934</td>\n",
       "      <td>0.003013</td>\n",
       "      <td>0.002721</td>\n",
       "      <td>0.003210</td>\n",
       "      <td>0.002299</td>\n",
       "    </tr>\n",
       "    <tr>\n",
       "      <th>Hlth</th>\n",
       "      <td>0.001230</td>\n",
       "      <td>0.001955</td>\n",
       "      <td>0.001038</td>\n",
       "      <td>0.001433</td>\n",
       "      <td>0.000758</td>\n",
       "      <td>0.001473</td>\n",
       "      <td>0.000834</td>\n",
       "      <td>0.002565</td>\n",
       "      <td>0.000474</td>\n",
       "      <td>0.000608</td>\n",
       "      <td>...</td>\n",
       "      <td>0.001204</td>\n",
       "      <td>0.001651</td>\n",
       "      <td>0.001535</td>\n",
       "      <td>0.000650</td>\n",
       "      <td>0.000944</td>\n",
       "      <td>0.001056</td>\n",
       "      <td>0.000869</td>\n",
       "      <td>0.000986</td>\n",
       "      <td>0.001617</td>\n",
       "      <td>0.001258</td>\n",
       "    </tr>\n",
       "    <tr>\n",
       "      <th>Chems</th>\n",
       "      <td>0.001414</td>\n",
       "      <td>0.001460</td>\n",
       "      <td>0.000853</td>\n",
       "      <td>0.001775</td>\n",
       "      <td>0.001731</td>\n",
       "      <td>0.001413</td>\n",
       "      <td>0.002932</td>\n",
       "      <td>0.000474</td>\n",
       "      <td>0.003276</td>\n",
       "      <td>0.001868</td>\n",
       "      <td>...</td>\n",
       "      <td>0.001004</td>\n",
       "      <td>0.001203</td>\n",
       "      <td>0.001031</td>\n",
       "      <td>0.002920</td>\n",
       "      <td>0.002196</td>\n",
       "      <td>0.001404</td>\n",
       "      <td>0.001808</td>\n",
       "      <td>0.001646</td>\n",
       "      <td>0.002469</td>\n",
       "      <td>0.002059</td>\n",
       "    </tr>\n",
       "    <tr>\n",
       "      <th>Txtls</th>\n",
       "      <td>0.001216</td>\n",
       "      <td>0.002005</td>\n",
       "      <td>0.000779</td>\n",
       "      <td>0.001422</td>\n",
       "      <td>0.001459</td>\n",
       "      <td>0.001364</td>\n",
       "      <td>0.002472</td>\n",
       "      <td>0.000608</td>\n",
       "      <td>0.001868</td>\n",
       "      <td>0.003117</td>\n",
       "      <td>...</td>\n",
       "      <td>0.000907</td>\n",
       "      <td>0.000666</td>\n",
       "      <td>0.000702</td>\n",
       "      <td>0.002058</td>\n",
       "      <td>0.001929</td>\n",
       "      <td>0.001610</td>\n",
       "      <td>0.001805</td>\n",
       "      <td>0.001250</td>\n",
       "      <td>0.001986</td>\n",
       "      <td>0.001811</td>\n",
       "    </tr>\n",
       "    <tr>\n",
       "      <th>Cnstr</th>\n",
       "      <td>0.001487</td>\n",
       "      <td>0.002268</td>\n",
       "      <td>0.001446</td>\n",
       "      <td>0.002013</td>\n",
       "      <td>0.001753</td>\n",
       "      <td>0.002080</td>\n",
       "      <td>0.002937</td>\n",
       "      <td>0.001399</td>\n",
       "      <td>0.002088</td>\n",
       "      <td>0.001860</td>\n",
       "      <td>...</td>\n",
       "      <td>0.001732</td>\n",
       "      <td>0.002543</td>\n",
       "      <td>0.002310</td>\n",
       "      <td>0.002205</td>\n",
       "      <td>0.002302</td>\n",
       "      <td>0.001685</td>\n",
       "      <td>0.002136</td>\n",
       "      <td>0.002100</td>\n",
       "      <td>0.002708</td>\n",
       "      <td>0.001810</td>\n",
       "    </tr>\n",
       "    <tr>\n",
       "      <th>Steel</th>\n",
       "      <td>0.000070</td>\n",
       "      <td>0.000213</td>\n",
       "      <td>0.000322</td>\n",
       "      <td>0.003132</td>\n",
       "      <td>0.001992</td>\n",
       "      <td>0.001296</td>\n",
       "      <td>0.001895</td>\n",
       "      <td>0.001019</td>\n",
       "      <td>0.002588</td>\n",
       "      <td>0.001322</td>\n",
       "      <td>...</td>\n",
       "      <td>0.002390</td>\n",
       "      <td>0.004607</td>\n",
       "      <td>0.005890</td>\n",
       "      <td>0.002551</td>\n",
       "      <td>0.001656</td>\n",
       "      <td>0.002543</td>\n",
       "      <td>0.001447</td>\n",
       "      <td>0.000660</td>\n",
       "      <td>0.002178</td>\n",
       "      <td>0.003864</td>\n",
       "    </tr>\n",
       "    <tr>\n",
       "      <th>FabPr</th>\n",
       "      <td>0.000742</td>\n",
       "      <td>0.000769</td>\n",
       "      <td>0.000912</td>\n",
       "      <td>0.002848</td>\n",
       "      <td>0.001947</td>\n",
       "      <td>0.001343</td>\n",
       "      <td>0.002834</td>\n",
       "      <td>0.000896</td>\n",
       "      <td>0.002536</td>\n",
       "      <td>0.001691</td>\n",
       "      <td>...</td>\n",
       "      <td>0.001708</td>\n",
       "      <td>0.003056</td>\n",
       "      <td>0.004275</td>\n",
       "      <td>0.002669</td>\n",
       "      <td>0.002119</td>\n",
       "      <td>0.002383</td>\n",
       "      <td>0.001835</td>\n",
       "      <td>0.001725</td>\n",
       "      <td>0.002319</td>\n",
       "      <td>0.002756</td>\n",
       "    </tr>\n",
       "    <tr>\n",
       "      <th>ElcEq</th>\n",
       "      <td>0.001313</td>\n",
       "      <td>0.001236</td>\n",
       "      <td>0.000006</td>\n",
       "      <td>0.002386</td>\n",
       "      <td>0.002426</td>\n",
       "      <td>0.001675</td>\n",
       "      <td>0.002593</td>\n",
       "      <td>0.001260</td>\n",
       "      <td>0.001755</td>\n",
       "      <td>0.001222</td>\n",
       "      <td>...</td>\n",
       "      <td>0.002429</td>\n",
       "      <td>0.004001</td>\n",
       "      <td>0.003618</td>\n",
       "      <td>0.001794</td>\n",
       "      <td>0.001888</td>\n",
       "      <td>0.001246</td>\n",
       "      <td>0.002738</td>\n",
       "      <td>0.001526</td>\n",
       "      <td>0.002717</td>\n",
       "      <td>0.001825</td>\n",
       "    </tr>\n",
       "    <tr>\n",
       "      <th>Autos</th>\n",
       "      <td>0.000618</td>\n",
       "      <td>0.001520</td>\n",
       "      <td>0.000314</td>\n",
       "      <td>0.002371</td>\n",
       "      <td>0.001723</td>\n",
       "      <td>0.001760</td>\n",
       "      <td>0.002887</td>\n",
       "      <td>0.001019</td>\n",
       "      <td>0.002034</td>\n",
       "      <td>0.001982</td>\n",
       "      <td>...</td>\n",
       "      <td>0.001856</td>\n",
       "      <td>0.002125</td>\n",
       "      <td>0.002668</td>\n",
       "      <td>0.002186</td>\n",
       "      <td>0.002279</td>\n",
       "      <td>0.001754</td>\n",
       "      <td>0.002011</td>\n",
       "      <td>0.001952</td>\n",
       "      <td>0.002604</td>\n",
       "      <td>0.002343</td>\n",
       "    </tr>\n",
       "    <tr>\n",
       "      <th>Carry</th>\n",
       "      <td>0.001583</td>\n",
       "      <td>0.002015</td>\n",
       "      <td>0.001812</td>\n",
       "      <td>0.001874</td>\n",
       "      <td>0.001422</td>\n",
       "      <td>0.001975</td>\n",
       "      <td>0.003301</td>\n",
       "      <td>0.000784</td>\n",
       "      <td>0.002592</td>\n",
       "      <td>0.002035</td>\n",
       "      <td>...</td>\n",
       "      <td>0.000945</td>\n",
       "      <td>0.001171</td>\n",
       "      <td>0.001393</td>\n",
       "      <td>0.002968</td>\n",
       "      <td>0.002450</td>\n",
       "      <td>0.001629</td>\n",
       "      <td>0.001845</td>\n",
       "      <td>0.002108</td>\n",
       "      <td>0.002721</td>\n",
       "      <td>0.002404</td>\n",
       "    </tr>\n",
       "    <tr>\n",
       "      <th>Mines</th>\n",
       "      <td>0.000909</td>\n",
       "      <td>0.000278</td>\n",
       "      <td>0.001588</td>\n",
       "      <td>0.001777</td>\n",
       "      <td>0.001304</td>\n",
       "      <td>0.000687</td>\n",
       "      <td>0.002685</td>\n",
       "      <td>0.001223</td>\n",
       "      <td>0.002425</td>\n",
       "      <td>0.001291</td>\n",
       "      <td>...</td>\n",
       "      <td>0.001683</td>\n",
       "      <td>0.002565</td>\n",
       "      <td>0.002536</td>\n",
       "      <td>0.002802</td>\n",
       "      <td>0.001639</td>\n",
       "      <td>0.002250</td>\n",
       "      <td>0.001487</td>\n",
       "      <td>0.001403</td>\n",
       "      <td>0.001979</td>\n",
       "      <td>0.002876</td>\n",
       "    </tr>\n",
       "    <tr>\n",
       "      <th>Coal</th>\n",
       "      <td>0.000027</td>\n",
       "      <td>0.001728</td>\n",
       "      <td>-0.000733</td>\n",
       "      <td>0.001888</td>\n",
       "      <td>0.002426</td>\n",
       "      <td>0.002300</td>\n",
       "      <td>0.002792</td>\n",
       "      <td>0.001902</td>\n",
       "      <td>0.002213</td>\n",
       "      <td>0.000732</td>\n",
       "      <td>...</td>\n",
       "      <td>0.001118</td>\n",
       "      <td>0.003013</td>\n",
       "      <td>0.003240</td>\n",
       "      <td>0.002560</td>\n",
       "      <td>0.001635</td>\n",
       "      <td>0.002197</td>\n",
       "      <td>0.000490</td>\n",
       "      <td>0.000614</td>\n",
       "      <td>0.002946</td>\n",
       "      <td>0.001691</td>\n",
       "    </tr>\n",
       "    <tr>\n",
       "      <th>Oil</th>\n",
       "      <td>0.001079</td>\n",
       "      <td>0.000733</td>\n",
       "      <td>0.000984</td>\n",
       "      <td>0.001119</td>\n",
       "      <td>0.000988</td>\n",
       "      <td>0.000620</td>\n",
       "      <td>0.001924</td>\n",
       "      <td>0.000597</td>\n",
       "      <td>0.002077</td>\n",
       "      <td>0.001274</td>\n",
       "      <td>...</td>\n",
       "      <td>0.000488</td>\n",
       "      <td>0.001220</td>\n",
       "      <td>0.001158</td>\n",
       "      <td>0.001820</td>\n",
       "      <td>0.001496</td>\n",
       "      <td>0.001658</td>\n",
       "      <td>0.000918</td>\n",
       "      <td>0.001262</td>\n",
       "      <td>0.001896</td>\n",
       "      <td>0.001950</td>\n",
       "    </tr>\n",
       "    <tr>\n",
       "      <th>Util</th>\n",
       "      <td>0.000943</td>\n",
       "      <td>0.000643</td>\n",
       "      <td>0.001274</td>\n",
       "      <td>0.000036</td>\n",
       "      <td>0.000550</td>\n",
       "      <td>0.000373</td>\n",
       "      <td>0.000800</td>\n",
       "      <td>0.000572</td>\n",
       "      <td>0.000673</td>\n",
       "      <td>0.000926</td>\n",
       "      <td>...</td>\n",
       "      <td>0.000107</td>\n",
       "      <td>-0.000624</td>\n",
       "      <td>-0.001087</td>\n",
       "      <td>0.000524</td>\n",
       "      <td>0.000603</td>\n",
       "      <td>0.000879</td>\n",
       "      <td>-0.000076</td>\n",
       "      <td>0.000301</td>\n",
       "      <td>0.001094</td>\n",
       "      <td>0.001013</td>\n",
       "    </tr>\n",
       "    <tr>\n",
       "      <th>Telcm</th>\n",
       "      <td>0.000667</td>\n",
       "      <td>0.001146</td>\n",
       "      <td>0.000062</td>\n",
       "      <td>0.001922</td>\n",
       "      <td>0.001918</td>\n",
       "      <td>0.001060</td>\n",
       "      <td>0.001436</td>\n",
       "      <td>0.001204</td>\n",
       "      <td>0.001004</td>\n",
       "      <td>0.000907</td>\n",
       "      <td>...</td>\n",
       "      <td>0.003569</td>\n",
       "      <td>0.003556</td>\n",
       "      <td>0.003260</td>\n",
       "      <td>0.001308</td>\n",
       "      <td>0.001541</td>\n",
       "      <td>0.001187</td>\n",
       "      <td>0.002042</td>\n",
       "      <td>0.001179</td>\n",
       "      <td>0.001787</td>\n",
       "      <td>0.001321</td>\n",
       "    </tr>\n",
       "    <tr>\n",
       "      <th>Servs</th>\n",
       "      <td>0.000237</td>\n",
       "      <td>0.000438</td>\n",
       "      <td>-0.000218</td>\n",
       "      <td>0.002848</td>\n",
       "      <td>0.002367</td>\n",
       "      <td>0.001310</td>\n",
       "      <td>0.001625</td>\n",
       "      <td>0.001651</td>\n",
       "      <td>0.001203</td>\n",
       "      <td>0.000666</td>\n",
       "      <td>...</td>\n",
       "      <td>0.003556</td>\n",
       "      <td>0.007612</td>\n",
       "      <td>0.007098</td>\n",
       "      <td>0.001300</td>\n",
       "      <td>0.001397</td>\n",
       "      <td>0.002083</td>\n",
       "      <td>0.002888</td>\n",
       "      <td>0.001121</td>\n",
       "      <td>0.001961</td>\n",
       "      <td>0.002396</td>\n",
       "    </tr>\n",
       "    <tr>\n",
       "      <th>BusEq</th>\n",
       "      <td>-0.000315</td>\n",
       "      <td>0.000007</td>\n",
       "      <td>-0.000120</td>\n",
       "      <td>0.003434</td>\n",
       "      <td>0.001944</td>\n",
       "      <td>0.001102</td>\n",
       "      <td>0.000834</td>\n",
       "      <td>0.001535</td>\n",
       "      <td>0.001031</td>\n",
       "      <td>0.000702</td>\n",
       "      <td>...</td>\n",
       "      <td>0.003260</td>\n",
       "      <td>0.007098</td>\n",
       "      <td>0.009620</td>\n",
       "      <td>0.001414</td>\n",
       "      <td>0.001282</td>\n",
       "      <td>0.002515</td>\n",
       "      <td>0.002021</td>\n",
       "      <td>0.000724</td>\n",
       "      <td>0.001689</td>\n",
       "      <td>0.002674</td>\n",
       "    </tr>\n",
       "    <tr>\n",
       "      <th>Paper</th>\n",
       "      <td>0.001429</td>\n",
       "      <td>0.001710</td>\n",
       "      <td>0.001327</td>\n",
       "      <td>0.001852</td>\n",
       "      <td>0.001638</td>\n",
       "      <td>0.001873</td>\n",
       "      <td>0.003165</td>\n",
       "      <td>0.000650</td>\n",
       "      <td>0.002920</td>\n",
       "      <td>0.002058</td>\n",
       "      <td>...</td>\n",
       "      <td>0.001308</td>\n",
       "      <td>0.001300</td>\n",
       "      <td>0.001414</td>\n",
       "      <td>0.003409</td>\n",
       "      <td>0.002361</td>\n",
       "      <td>0.001576</td>\n",
       "      <td>0.001819</td>\n",
       "      <td>0.001642</td>\n",
       "      <td>0.002495</td>\n",
       "      <td>0.001911</td>\n",
       "    </tr>\n",
       "    <tr>\n",
       "      <th>Trans</th>\n",
       "      <td>0.001534</td>\n",
       "      <td>0.002284</td>\n",
       "      <td>0.000396</td>\n",
       "      <td>0.001578</td>\n",
       "      <td>0.001776</td>\n",
       "      <td>0.001582</td>\n",
       "      <td>0.002862</td>\n",
       "      <td>0.000944</td>\n",
       "      <td>0.002196</td>\n",
       "      <td>0.001929</td>\n",
       "      <td>...</td>\n",
       "      <td>0.001541</td>\n",
       "      <td>0.001397</td>\n",
       "      <td>0.001282</td>\n",
       "      <td>0.002361</td>\n",
       "      <td>0.002852</td>\n",
       "      <td>0.001190</td>\n",
       "      <td>0.002044</td>\n",
       "      <td>0.001963</td>\n",
       "      <td>0.002598</td>\n",
       "      <td>0.001712</td>\n",
       "    </tr>\n",
       "    <tr>\n",
       "      <th>Whlsl</th>\n",
       "      <td>0.000740</td>\n",
       "      <td>0.000697</td>\n",
       "      <td>0.001707</td>\n",
       "      <td>0.001966</td>\n",
       "      <td>0.001392</td>\n",
       "      <td>0.000683</td>\n",
       "      <td>0.001934</td>\n",
       "      <td>0.001056</td>\n",
       "      <td>0.001404</td>\n",
       "      <td>0.001610</td>\n",
       "      <td>...</td>\n",
       "      <td>0.001187</td>\n",
       "      <td>0.002083</td>\n",
       "      <td>0.002515</td>\n",
       "      <td>0.001576</td>\n",
       "      <td>0.001190</td>\n",
       "      <td>0.002734</td>\n",
       "      <td>0.001202</td>\n",
       "      <td>0.000961</td>\n",
       "      <td>0.001882</td>\n",
       "      <td>0.002197</td>\n",
       "    </tr>\n",
       "    <tr>\n",
       "      <th>Rtail</th>\n",
       "      <td>0.001363</td>\n",
       "      <td>0.001690</td>\n",
       "      <td>0.000105</td>\n",
       "      <td>0.001872</td>\n",
       "      <td>0.002223</td>\n",
       "      <td>0.001378</td>\n",
       "      <td>0.003013</td>\n",
       "      <td>0.000869</td>\n",
       "      <td>0.001808</td>\n",
       "      <td>0.001805</td>\n",
       "      <td>...</td>\n",
       "      <td>0.002042</td>\n",
       "      <td>0.002888</td>\n",
       "      <td>0.002021</td>\n",
       "      <td>0.001819</td>\n",
       "      <td>0.002044</td>\n",
       "      <td>0.001202</td>\n",
       "      <td>0.003480</td>\n",
       "      <td>0.002187</td>\n",
       "      <td>0.002313</td>\n",
       "      <td>0.001399</td>\n",
       "    </tr>\n",
       "    <tr>\n",
       "      <th>Meals</th>\n",
       "      <td>0.001230</td>\n",
       "      <td>0.001822</td>\n",
       "      <td>0.000703</td>\n",
       "      <td>0.001561</td>\n",
       "      <td>0.001189</td>\n",
       "      <td>0.001202</td>\n",
       "      <td>0.002721</td>\n",
       "      <td>0.000986</td>\n",
       "      <td>0.001646</td>\n",
       "      <td>0.001250</td>\n",
       "      <td>...</td>\n",
       "      <td>0.001179</td>\n",
       "      <td>0.001121</td>\n",
       "      <td>0.000724</td>\n",
       "      <td>0.001642</td>\n",
       "      <td>0.001963</td>\n",
       "      <td>0.000961</td>\n",
       "      <td>0.002187</td>\n",
       "      <td>0.002979</td>\n",
       "      <td>0.002026</td>\n",
       "      <td>0.001247</td>\n",
       "    </tr>\n",
       "    <tr>\n",
       "      <th>Fin</th>\n",
       "      <td>0.002132</td>\n",
       "      <td>0.002571</td>\n",
       "      <td>0.001312</td>\n",
       "      <td>0.002416</td>\n",
       "      <td>0.002261</td>\n",
       "      <td>0.001912</td>\n",
       "      <td>0.003210</td>\n",
       "      <td>0.001617</td>\n",
       "      <td>0.002469</td>\n",
       "      <td>0.001986</td>\n",
       "      <td>...</td>\n",
       "      <td>0.001787</td>\n",
       "      <td>0.001961</td>\n",
       "      <td>0.001689</td>\n",
       "      <td>0.002495</td>\n",
       "      <td>0.002598</td>\n",
       "      <td>0.001882</td>\n",
       "      <td>0.002313</td>\n",
       "      <td>0.002026</td>\n",
       "      <td>0.003982</td>\n",
       "      <td>0.002243</td>\n",
       "    </tr>\n",
       "    <tr>\n",
       "      <th>Other</th>\n",
       "      <td>0.001057</td>\n",
       "      <td>0.001383</td>\n",
       "      <td>0.001741</td>\n",
       "      <td>0.002382</td>\n",
       "      <td>0.001442</td>\n",
       "      <td>0.001580</td>\n",
       "      <td>0.002299</td>\n",
       "      <td>0.001258</td>\n",
       "      <td>0.002059</td>\n",
       "      <td>0.001811</td>\n",
       "      <td>...</td>\n",
       "      <td>0.001321</td>\n",
       "      <td>0.002396</td>\n",
       "      <td>0.002674</td>\n",
       "      <td>0.001911</td>\n",
       "      <td>0.001712</td>\n",
       "      <td>0.002197</td>\n",
       "      <td>0.001399</td>\n",
       "      <td>0.001247</td>\n",
       "      <td>0.002243</td>\n",
       "      <td>0.004200</td>\n",
       "    </tr>\n",
       "  </tbody>\n",
       "</table>\n",
       "<p>30 rows × 30 columns</p>\n",
       "</div>"
      ],
      "text/plain": [
       "           Food      Beer     Smoke     Games     Books     Hshld     Clths  \\\n",
       "Food   0.002609  0.002379  0.002061  0.000846  0.001035  0.001374  0.001733   \n",
       "Beer   0.002379  0.005264  0.001359  0.001348  0.000865  0.002804  0.001704   \n",
       "Smoke  0.002061  0.001359  0.008349  0.000379 -0.000128  0.001167  0.000950   \n",
       "Games  0.000846  0.001348  0.000379  0.003773  0.001726  0.001206  0.002189   \n",
       "Books  0.001035  0.000865 -0.000128  0.001726  0.002612  0.001025  0.002361   \n",
       "Hshld  0.001374  0.002804  0.001167  0.001206  0.001025  0.003300  0.001320   \n",
       "Clths  0.001733  0.001704  0.000950  0.002189  0.002361  0.001320  0.005655   \n",
       "Hlth   0.001230  0.001955  0.001038  0.001433  0.000758  0.001473  0.000834   \n",
       "Chems  0.001414  0.001460  0.000853  0.001775  0.001731  0.001413  0.002932   \n",
       "Txtls  0.001216  0.002005  0.000779  0.001422  0.001459  0.001364  0.002472   \n",
       "Cnstr  0.001487  0.002268  0.001446  0.002013  0.001753  0.002080  0.002937   \n",
       "Steel  0.000070  0.000213  0.000322  0.003132  0.001992  0.001296  0.001895   \n",
       "FabPr  0.000742  0.000769  0.000912  0.002848  0.001947  0.001343  0.002834   \n",
       "ElcEq  0.001313  0.001236  0.000006  0.002386  0.002426  0.001675  0.002593   \n",
       "Autos  0.000618  0.001520  0.000314  0.002371  0.001723  0.001760  0.002887   \n",
       "Carry  0.001583  0.002015  0.001812  0.001874  0.001422  0.001975  0.003301   \n",
       "Mines  0.000909  0.000278  0.001588  0.001777  0.001304  0.000687  0.002685   \n",
       "Coal   0.000027  0.001728 -0.000733  0.001888  0.002426  0.002300  0.002792   \n",
       "Oil    0.001079  0.000733  0.000984  0.001119  0.000988  0.000620  0.001924   \n",
       "Util   0.000943  0.000643  0.001274  0.000036  0.000550  0.000373  0.000800   \n",
       "Telcm  0.000667  0.001146  0.000062  0.001922  0.001918  0.001060  0.001436   \n",
       "Servs  0.000237  0.000438 -0.000218  0.002848  0.002367  0.001310  0.001625   \n",
       "BusEq -0.000315  0.000007 -0.000120  0.003434  0.001944  0.001102  0.000834   \n",
       "Paper  0.001429  0.001710  0.001327  0.001852  0.001638  0.001873  0.003165   \n",
       "Trans  0.001534  0.002284  0.000396  0.001578  0.001776  0.001582  0.002862   \n",
       "Whlsl  0.000740  0.000697  0.001707  0.001966  0.001392  0.000683  0.001934   \n",
       "Rtail  0.001363  0.001690  0.000105  0.001872  0.002223  0.001378  0.003013   \n",
       "Meals  0.001230  0.001822  0.000703  0.001561  0.001189  0.001202  0.002721   \n",
       "Fin    0.002132  0.002571  0.001312  0.002416  0.002261  0.001912  0.003210   \n",
       "Other  0.001057  0.001383  0.001741  0.002382  0.001442  0.001580  0.002299   \n",
       "\n",
       "           Hlth     Chems     Txtls  ...     Telcm     Servs     BusEq  \\\n",
       "Food   0.001230  0.001414  0.001216  ...  0.000667  0.000237 -0.000315   \n",
       "Beer   0.001955  0.001460  0.002005  ...  0.001146  0.000438  0.000007   \n",
       "Smoke  0.001038  0.000853  0.000779  ...  0.000062 -0.000218 -0.000120   \n",
       "Games  0.001433  0.001775  0.001422  ...  0.001922  0.002848  0.003434   \n",
       "Books  0.000758  0.001731  0.001459  ...  0.001918  0.002367  0.001944   \n",
       "Hshld  0.001473  0.001413  0.001364  ...  0.001060  0.001310  0.001102   \n",
       "Clths  0.000834  0.002932  0.002472  ...  0.001436  0.001625  0.000834   \n",
       "Hlth   0.002565  0.000474  0.000608  ...  0.001204  0.001651  0.001535   \n",
       "Chems  0.000474  0.003276  0.001868  ...  0.001004  0.001203  0.001031   \n",
       "Txtls  0.000608  0.001868  0.003117  ...  0.000907  0.000666  0.000702   \n",
       "Cnstr  0.001399  0.002088  0.001860  ...  0.001732  0.002543  0.002310   \n",
       "Steel  0.001019  0.002588  0.001322  ...  0.002390  0.004607  0.005890   \n",
       "FabPr  0.000896  0.002536  0.001691  ...  0.001708  0.003056  0.004275   \n",
       "ElcEq  0.001260  0.001755  0.001222  ...  0.002429  0.004001  0.003618   \n",
       "Autos  0.001019  0.002034  0.001982  ...  0.001856  0.002125  0.002668   \n",
       "Carry  0.000784  0.002592  0.002035  ...  0.000945  0.001171  0.001393   \n",
       "Mines  0.001223  0.002425  0.001291  ...  0.001683  0.002565  0.002536   \n",
       "Coal   0.001902  0.002213  0.000732  ...  0.001118  0.003013  0.003240   \n",
       "Oil    0.000597  0.002077  0.001274  ...  0.000488  0.001220  0.001158   \n",
       "Util   0.000572  0.000673  0.000926  ...  0.000107 -0.000624 -0.001087   \n",
       "Telcm  0.001204  0.001004  0.000907  ...  0.003569  0.003556  0.003260   \n",
       "Servs  0.001651  0.001203  0.000666  ...  0.003556  0.007612  0.007098   \n",
       "BusEq  0.001535  0.001031  0.000702  ...  0.003260  0.007098  0.009620   \n",
       "Paper  0.000650  0.002920  0.002058  ...  0.001308  0.001300  0.001414   \n",
       "Trans  0.000944  0.002196  0.001929  ...  0.001541  0.001397  0.001282   \n",
       "Whlsl  0.001056  0.001404  0.001610  ...  0.001187  0.002083  0.002515   \n",
       "Rtail  0.000869  0.001808  0.001805  ...  0.002042  0.002888  0.002021   \n",
       "Meals  0.000986  0.001646  0.001250  ...  0.001179  0.001121  0.000724   \n",
       "Fin    0.001617  0.002469  0.001986  ...  0.001787  0.001961  0.001689   \n",
       "Other  0.001258  0.002059  0.001811  ...  0.001321  0.002396  0.002674   \n",
       "\n",
       "          Paper     Trans     Whlsl     Rtail     Meals       Fin     Other  \n",
       "Food   0.001429  0.001534  0.000740  0.001363  0.001230  0.002132  0.001057  \n",
       "Beer   0.001710  0.002284  0.000697  0.001690  0.001822  0.002571  0.001383  \n",
       "Smoke  0.001327  0.000396  0.001707  0.000105  0.000703  0.001312  0.001741  \n",
       "Games  0.001852  0.001578  0.001966  0.001872  0.001561  0.002416  0.002382  \n",
       "Books  0.001638  0.001776  0.001392  0.002223  0.001189  0.002261  0.001442  \n",
       "Hshld  0.001873  0.001582  0.000683  0.001378  0.001202  0.001912  0.001580  \n",
       "Clths  0.003165  0.002862  0.001934  0.003013  0.002721  0.003210  0.002299  \n",
       "Hlth   0.000650  0.000944  0.001056  0.000869  0.000986  0.001617  0.001258  \n",
       "Chems  0.002920  0.002196  0.001404  0.001808  0.001646  0.002469  0.002059  \n",
       "Txtls  0.002058  0.001929  0.001610  0.001805  0.001250  0.001986  0.001811  \n",
       "Cnstr  0.002205  0.002302  0.001685  0.002136  0.002100  0.002708  0.001810  \n",
       "Steel  0.002551  0.001656  0.002543  0.001447  0.000660  0.002178  0.003864  \n",
       "FabPr  0.002669  0.002119  0.002383  0.001835  0.001725  0.002319  0.002756  \n",
       "ElcEq  0.001794  0.001888  0.001246  0.002738  0.001526  0.002717  0.001825  \n",
       "Autos  0.002186  0.002279  0.001754  0.002011  0.001952  0.002604  0.002343  \n",
       "Carry  0.002968  0.002450  0.001629  0.001845  0.002108  0.002721  0.002404  \n",
       "Mines  0.002802  0.001639  0.002250  0.001487  0.001403  0.001979  0.002876  \n",
       "Coal   0.002560  0.001635  0.002197  0.000490  0.000614  0.002946  0.001691  \n",
       "Oil    0.001820  0.001496  0.001658  0.000918  0.001262  0.001896  0.001950  \n",
       "Util   0.000524  0.000603  0.000879 -0.000076  0.000301  0.001094  0.001013  \n",
       "Telcm  0.001308  0.001541  0.001187  0.002042  0.001179  0.001787  0.001321  \n",
       "Servs  0.001300  0.001397  0.002083  0.002888  0.001121  0.001961  0.002396  \n",
       "BusEq  0.001414  0.001282  0.002515  0.002021  0.000724  0.001689  0.002674  \n",
       "Paper  0.003409  0.002361  0.001576  0.001819  0.001642  0.002495  0.001911  \n",
       "Trans  0.002361  0.002852  0.001190  0.002044  0.001963  0.002598  0.001712  \n",
       "Whlsl  0.001576  0.001190  0.002734  0.001202  0.000961  0.001882  0.002197  \n",
       "Rtail  0.001819  0.002044  0.001202  0.003480  0.002187  0.002313  0.001399  \n",
       "Meals  0.001642  0.001963  0.000961  0.002187  0.002979  0.002026  0.001247  \n",
       "Fin    0.002495  0.002598  0.001882  0.002313  0.002026  0.003982  0.002243  \n",
       "Other  0.001911  0.001712  0.002197  0.001399  0.001247  0.002243  0.004200  \n",
       "\n",
       "[30 rows x 30 columns]"
      ]
     },
     "execution_count": 24,
     "metadata": {},
     "output_type": "execute_result"
    }
   ],
   "source": [
    "cov"
   ]
  },
  {
   "cell_type": "code",
   "execution_count": 25,
   "metadata": {},
   "outputs": [],
   "source": [
    "def portfolio_return(weights, returns):\n",
    "    \"\"\"\n",
    "    Weights -> Returns\n",
    "    \"\"\"\n",
    "    return weights.T @ returns\n",
    "\n",
    "def portfolio_vol(weights, covmat):\n",
    "    \"\"\"\n",
    "    Weights -> Volatility\n",
    "    \"\"\"\n",
    "    return (weights.T @ covmat @ weights)**0.5\n"
   ]
  },
  {
   "cell_type": "code",
   "execution_count": 26,
   "metadata": {},
   "outputs": [
    {
     "data": {
      "text/plain": [
       "Food     0.116799\n",
       "Beer     0.141126\n",
       "Smoke    0.107830\n",
       "Coal     0.414689\n",
       "dtype: float64"
      ]
     },
     "execution_count": 26,
     "metadata": {},
     "output_type": "execute_result"
    }
   ],
   "source": [
    "l = [\"Food\", \"Beer\", \"Smoke\", \"Coal\"]\n",
    "er[l]"
   ]
  },
  {
   "cell_type": "code",
   "execution_count": 27,
   "metadata": {},
   "outputs": [
    {
     "data": {
      "text/html": [
       "<div>\n",
       "<style scoped>\n",
       "    .dataframe tbody tr th:only-of-type {\n",
       "        vertical-align: middle;\n",
       "    }\n",
       "\n",
       "    .dataframe tbody tr th {\n",
       "        vertical-align: top;\n",
       "    }\n",
       "\n",
       "    .dataframe thead th {\n",
       "        text-align: right;\n",
       "    }\n",
       "</style>\n",
       "<table border=\"1\" class=\"dataframe\">\n",
       "  <thead>\n",
       "    <tr style=\"text-align: right;\">\n",
       "      <th></th>\n",
       "      <th>Food</th>\n",
       "      <th>Beer</th>\n",
       "      <th>Smoke</th>\n",
       "      <th>Coal</th>\n",
       "    </tr>\n",
       "  </thead>\n",
       "  <tbody>\n",
       "    <tr>\n",
       "      <th>Food</th>\n",
       "      <td>0.002609</td>\n",
       "      <td>0.002379</td>\n",
       "      <td>0.002061</td>\n",
       "      <td>0.000027</td>\n",
       "    </tr>\n",
       "    <tr>\n",
       "      <th>Beer</th>\n",
       "      <td>0.002379</td>\n",
       "      <td>0.005264</td>\n",
       "      <td>0.001359</td>\n",
       "      <td>0.001728</td>\n",
       "    </tr>\n",
       "    <tr>\n",
       "      <th>Smoke</th>\n",
       "      <td>0.002061</td>\n",
       "      <td>0.001359</td>\n",
       "      <td>0.008349</td>\n",
       "      <td>-0.000733</td>\n",
       "    </tr>\n",
       "    <tr>\n",
       "      <th>Coal</th>\n",
       "      <td>0.000027</td>\n",
       "      <td>0.001728</td>\n",
       "      <td>-0.000733</td>\n",
       "      <td>0.018641</td>\n",
       "    </tr>\n",
       "  </tbody>\n",
       "</table>\n",
       "</div>"
      ],
      "text/plain": [
       "           Food      Beer     Smoke      Coal\n",
       "Food   0.002609  0.002379  0.002061  0.000027\n",
       "Beer   0.002379  0.005264  0.001359  0.001728\n",
       "Smoke  0.002061  0.001359  0.008349 -0.000733\n",
       "Coal   0.000027  0.001728 -0.000733  0.018641"
      ]
     },
     "execution_count": 27,
     "metadata": {},
     "output_type": "execute_result"
    }
   ],
   "source": [
    "cov.loc[l,l]"
   ]
  },
  {
   "cell_type": "code",
   "execution_count": 28,
   "metadata": {},
   "outputs": [],
   "source": [
    "# Create the weights matrix, it will be created by numpy repeat function\n",
    "import numpy as np\n",
    "weights = np.repeat(1/4, 4)"
   ]
  },
  {
   "cell_type": "code",
   "execution_count": 29,
   "metadata": {},
   "outputs": [
    {
     "data": {
      "text/plain": [
       "array([0.25, 0.25, 0.25, 0.25])"
      ]
     },
     "execution_count": 29,
     "metadata": {},
     "output_type": "execute_result"
    }
   ],
   "source": [
    "weights"
   ]
  },
  {
   "cell_type": "code",
   "execution_count": 30,
   "metadata": {},
   "outputs": [
    {
     "data": {
      "text/plain": [
       "0.19511097196038385"
      ]
     },
     "execution_count": 30,
     "metadata": {},
     "output_type": "execute_result"
    }
   ],
   "source": [
    "rk.portfolio_return(weights, er[l])"
   ]
  },
  {
   "cell_type": "code",
   "execution_count": 31,
   "metadata": {},
   "outputs": [
    {
     "data": {
      "text/plain": [
       "0.05505919577643704"
      ]
     },
     "execution_count": 31,
     "metadata": {},
     "output_type": "execute_result"
    }
   ],
   "source": [
    "rk.portfolio_vol(weights, cov.loc[l, l])"
   ]
  },
  {
   "attachments": {},
   "cell_type": "markdown",
   "metadata": {},
   "source": [
    "# 2 Asset Frontier"
   ]
  },
  {
   "cell_type": "code",
   "execution_count": 32,
   "metadata": {},
   "outputs": [],
   "source": [
    "l = [\"Games\", \"Fin\"]"
   ]
  },
  {
   "cell_type": "code",
   "execution_count": 33,
   "metadata": {},
   "outputs": [
    {
     "data": {
      "text/plain": [
       "[array([0., 1.]),\n",
       " array([0.05263158, 0.94736842]),\n",
       " array([0.10526316, 0.89473684]),\n",
       " array([0.15789474, 0.84210526]),\n",
       " array([0.21052632, 0.78947368]),\n",
       " array([0.26315789, 0.73684211]),\n",
       " array([0.31578947, 0.68421053]),\n",
       " array([0.36842105, 0.63157895]),\n",
       " array([0.42105263, 0.57894737]),\n",
       " array([0.47368421, 0.52631579]),\n",
       " array([0.52631579, 0.47368421]),\n",
       " array([0.57894737, 0.42105263]),\n",
       " array([0.63157895, 0.36842105]),\n",
       " array([0.68421053, 0.31578947]),\n",
       " array([0.73684211, 0.26315789]),\n",
       " array([0.78947368, 0.21052632]),\n",
       " array([0.84210526, 0.15789474]),\n",
       " array([0.89473684, 0.10526316]),\n",
       " array([0.94736842, 0.05263158]),\n",
       " array([1., 0.])]"
      ]
     },
     "execution_count": 33,
     "metadata": {},
     "output_type": "execute_result"
    }
   ],
   "source": [
    "n_points = 20\n",
    "weights = [np.array([w, 1-w]) for w in np.linspace(0, 1, n_points)]\n",
    "weights "
   ]
  },
  {
   "cell_type": "code",
   "execution_count": 34,
   "metadata": {},
   "outputs": [
    {
     "data": {
      "text/plain": [
       "<Axes: xlabel='Vol', ylabel='R'>"
      ]
     },
     "execution_count": 34,
     "metadata": {},
     "output_type": "execute_result"
    },
    {
     "data": {
      "image/png": "[encoded data removed]",
      "text/plain": [
       "<Figure size 640x480 with 1 Axes>"
      ]
     },
     "metadata": {},
     "output_type": "display_data"
    }
   ],
   "source": [
    "import pandas as pd\n",
    "rets = [rk.portfolio_return(w, er[l]) for w in weights]\n",
    "vols = [rk.portfolio_vol(w, cov.loc[l, l]) for w in weights]\n",
    "ef = pd.DataFrame({\"R\": rets, \"Vol\":vols})\n",
    "ef.plot.scatter(x=\"Vol\", y=\"R\")"
   ]
  },
  {
   "cell_type": "code",
   "execution_count": 35,
   "metadata": {},
   "outputs": [
    {
     "data": {
      "text/plain": [
       "<Axes: xlabel='Volatility'>"
      ]
     },
     "execution_count": 35,
     "metadata": {},
     "output_type": "execute_result"
    },
    {
     "data": {
      "image/png": "[encoded data removed]",
      "text/plain": [
       "<Figure size 640x480 with 1 Axes>"
      ]
     },
     "metadata": {},
     "output_type": "display_data"
    }
   ],
   "source": [
    "l = [\"Fin\", \"Beer\"]\n",
    "rk.plot_2aef(25, er[l], cov.loc[l, l], style = \".\")"
   ]
  },
  {
   "attachments": {},
   "cell_type": "markdown",
   "metadata": {},
   "source": [
    "# N-Asset Efficient Frontier"
   ]
  },
  {
   "cell_type": "code",
   "execution_count": 36,
   "metadata": {},
   "outputs": [
    {
     "name": "stdout",
     "output_type": "stream",
     "text": [
      "The autoreload extension is already loaded. To reload it, use:\n",
      "  %reload_ext autoreload\n"
     ]
    }
   ],
   "source": [
    "%load_ext autoreload\n",
    "%autoreload 2\n",
    "\n",
    "ind = rk.get_ind_returns()\n",
    "er = rk.annualize_rets(ind[\"1996\":\"2000\"], 12)\n",
    "cov = ind[\"1996\":\"2000\"].cov()"
   ]
  },
  {
   "cell_type": "code",
   "execution_count": 37,
   "metadata": {},
   "outputs": [],
   "source": [
    "def optimal_weights(n_points, er, cov):\n",
    "    \"\"\"\n",
    "    List of weights to run the optimizer on to minimize the vol\n",
    "    \"\"\"\n",
    "    target_rs = np.linspace(er.min(), er.max(), n_points)\n",
    "    weights = [rk.minimize_vol(target_return, er, cov) for target_return in target_rs]\n",
    "    return weights\n",
    "\n",
    "def plot_ef(n_points, er, cov, style=\".-\"):\n",
    "    \"\"\"\n",
    "    Plots the N-asset efficient frontier\n",
    "    \"\"\"\n",
    "    weights = optimal_weights(n_points, er, cov)\n",
    "    rets = [rk.portfolio_return(w, er) for w in weights]\n",
    "    vols = [rk.portfolio_vol(w, cov) for w in weights]\n",
    "    ef = pd.DataFrame({\n",
    "        \"Returns\": rets,\n",
    "        \"Volatility\": vols\n",
    "    })\n",
    "    return ef.plot.line(x = \"Volatility\", y=\"Returns\", style=style)"
   ]
  },
  {
   "cell_type": "code",
   "execution_count": 38,
   "metadata": {},
   "outputs": [],
   "source": [
    "l = ['Games', 'Fin']"
   ]
  },
  {
   "cell_type": "code",
   "execution_count": 39,
   "metadata": {},
   "outputs": [
    {
     "data": {
      "text/plain": [
       "0.056163669406706564"
      ]
     },
     "execution_count": 39,
     "metadata": {},
     "output_type": "execute_result"
    }
   ],
   "source": [
    "w15 = rk.minimize_vol(0.15, er[l], cov.loc[l,l])\n",
    "vol15 = rk.portfolio_vol(w15, cov.loc[l,l])\n",
    "vol15"
   ]
  },
  {
   "cell_type": "code",
   "execution_count": 40,
   "metadata": {},
   "outputs": [
    {
     "data": {
      "text/plain": [
       "array([0.47287631, 0.52712369])"
      ]
     },
     "execution_count": 40,
     "metadata": {},
     "output_type": "execute_result"
    }
   ],
   "source": [
    "w15"
   ]
  },
  {
   "cell_type": "code",
   "execution_count": 41,
   "metadata": {},
   "outputs": [
    {
     "data": {
      "text/plain": [
       "<Axes: xlabel='Volatility'>"
      ]
     },
     "execution_count": 41,
     "metadata": {},
     "output_type": "execute_result"
    },
    {
     "data": {
      "image/png": "[encoded data removed]",
      "text/plain": [
       "<Figure size 640x480 with 1 Axes>"
      ]
     },
     "metadata": {},
     "output_type": "display_data"
    }
   ],
   "source": [
    "rk.plot_2aef(20, er[l], cov.loc[l,l])\n",
    "# We can see that when we want a 15 percent return the volatility is also in between 0.056-0.057"
   ]
  },
  {
   "cell_type": "code",
   "execution_count": 42,
   "metadata": {},
   "outputs": [
    {
     "ename": "KeyboardInterrupt",
     "evalue": "",
     "output_type": "error",
     "traceback": [
      "\u001b[0;31m---------------------------------------------------------------------------\u001b[0m",
      "\u001b[0;31mKeyboardInterrupt\u001b[0m                         Traceback (most recent call last)",
      "Cell \u001b[0;32mIn[42], line 2\u001b[0m\n\u001b[1;32m      1\u001b[0m l \u001b[39m=\u001b[39m [\u001b[39m\"\u001b[39m\u001b[39mSmoke\u001b[39m\u001b[39m\"\u001b[39m, \u001b[39m\"\u001b[39m\u001b[39mFin\u001b[39m\u001b[39m\"\u001b[39m, \u001b[39m\"\u001b[39m\u001b[39mGames\u001b[39m\u001b[39m\"\u001b[39m, \u001b[39m\"\u001b[39m\u001b[39mCoal\u001b[39m\u001b[39m\"\u001b[39m]\n\u001b[0;32m----> 2\u001b[0m rk\u001b[39m.\u001b[39;49mplot_ef(\u001b[39m25\u001b[39;49m, er[l], cov\u001b[39m.\u001b[39;49mloc[l, l])\n",
      "File \u001b[0;32m~/Desktop/Investment Banking & Asset Management/Investment-Banking-Asset-Management/risk_kit.py:271\u001b[0m, in \u001b[0;36mplot_ef\u001b[0;34m(n_points, er, cov, style, show_cml, riskfree_rate)\u001b[0m\n\u001b[1;32m    266\u001b[0m vols \u001b[39m=\u001b[39m [portfolio_vol(w, cov) \u001b[39mfor\u001b[39;00m w \u001b[39min\u001b[39;00m weights]\n\u001b[1;32m    267\u001b[0m ef \u001b[39m=\u001b[39m pd\u001b[39m.\u001b[39mDataFrame({\n\u001b[1;32m    268\u001b[0m     \u001b[39m\"\u001b[39m\u001b[39mReturns\u001b[39m\u001b[39m\"\u001b[39m: rets,\n\u001b[1;32m    269\u001b[0m     \u001b[39m\"\u001b[39m\u001b[39mVolatility\u001b[39m\u001b[39m\"\u001b[39m: vols\n\u001b[1;32m    270\u001b[0m })\n\u001b[0;32m--> 271\u001b[0m ax \u001b[39m=\u001b[39m plot_ef(\u001b[39m20\u001b[39;49m, er, cov)\n\u001b[1;32m    272\u001b[0m \u001b[39mif\u001b[39;00m show_cml:\n\u001b[1;32m    273\u001b[0m     ax\u001b[39m.\u001b[39mset_xlim(left \u001b[39m=\u001b[39m \u001b[39m0\u001b[39m)\n",
      "File \u001b[0;32m~/Desktop/Investment Banking & Asset Management/Investment-Banking-Asset-Management/risk_kit.py:271\u001b[0m, in \u001b[0;36mplot_ef\u001b[0;34m(n_points, er, cov, style, show_cml, riskfree_rate)\u001b[0m\n\u001b[1;32m    266\u001b[0m vols \u001b[39m=\u001b[39m [portfolio_vol(w, cov) \u001b[39mfor\u001b[39;00m w \u001b[39min\u001b[39;00m weights]\n\u001b[1;32m    267\u001b[0m ef \u001b[39m=\u001b[39m pd\u001b[39m.\u001b[39mDataFrame({\n\u001b[1;32m    268\u001b[0m     \u001b[39m\"\u001b[39m\u001b[39mReturns\u001b[39m\u001b[39m\"\u001b[39m: rets,\n\u001b[1;32m    269\u001b[0m     \u001b[39m\"\u001b[39m\u001b[39mVolatility\u001b[39m\u001b[39m\"\u001b[39m: vols\n\u001b[1;32m    270\u001b[0m })\n\u001b[0;32m--> 271\u001b[0m ax \u001b[39m=\u001b[39m plot_ef(\u001b[39m20\u001b[39;49m, er, cov)\n\u001b[1;32m    272\u001b[0m \u001b[39mif\u001b[39;00m show_cml:\n\u001b[1;32m    273\u001b[0m     ax\u001b[39m.\u001b[39mset_xlim(left \u001b[39m=\u001b[39m \u001b[39m0\u001b[39m)\n",
      "    \u001b[0;31m[... skipping similar frames: plot_ef at line 271 (283 times)]\u001b[0m\n",
      "File \u001b[0;32m~/Desktop/Investment Banking & Asset Management/Investment-Banking-Asset-Management/risk_kit.py:271\u001b[0m, in \u001b[0;36mplot_ef\u001b[0;34m(n_points, er, cov, style, show_cml, riskfree_rate)\u001b[0m\n\u001b[1;32m    266\u001b[0m vols \u001b[39m=\u001b[39m [portfolio_vol(w, cov) \u001b[39mfor\u001b[39;00m w \u001b[39min\u001b[39;00m weights]\n\u001b[1;32m    267\u001b[0m ef \u001b[39m=\u001b[39m pd\u001b[39m.\u001b[39mDataFrame({\n\u001b[1;32m    268\u001b[0m     \u001b[39m\"\u001b[39m\u001b[39mReturns\u001b[39m\u001b[39m\"\u001b[39m: rets,\n\u001b[1;32m    269\u001b[0m     \u001b[39m\"\u001b[39m\u001b[39mVolatility\u001b[39m\u001b[39m\"\u001b[39m: vols\n\u001b[1;32m    270\u001b[0m })\n\u001b[0;32m--> 271\u001b[0m ax \u001b[39m=\u001b[39m plot_ef(\u001b[39m20\u001b[39;49m, er, cov)\n\u001b[1;32m    272\u001b[0m \u001b[39mif\u001b[39;00m show_cml:\n\u001b[1;32m    273\u001b[0m     ax\u001b[39m.\u001b[39mset_xlim(left \u001b[39m=\u001b[39m \u001b[39m0\u001b[39m)\n",
      "File \u001b[0;32m~/Desktop/Investment Banking & Asset Management/Investment-Banking-Asset-Management/risk_kit.py:264\u001b[0m, in \u001b[0;36mplot_ef\u001b[0;34m(n_points, er, cov, style, show_cml, riskfree_rate)\u001b[0m\n\u001b[1;32m    260\u001b[0m \u001b[39mdef\u001b[39;00m \u001b[39mplot_ef\u001b[39m(n_points, er, cov, style\u001b[39m=\u001b[39m\u001b[39m\"\u001b[39m\u001b[39m.-\u001b[39m\u001b[39m\"\u001b[39m, show_cml \u001b[39m=\u001b[39m \u001b[39mFalse\u001b[39;00m, riskfree_rate \u001b[39m=\u001b[39m \u001b[39m0\u001b[39m):\n\u001b[1;32m    261\u001b[0m     \u001b[39m\"\"\"\u001b[39;00m\n\u001b[1;32m    262\u001b[0m \u001b[39m    Plots the N-asset efficient frontier\u001b[39;00m\n\u001b[1;32m    263\u001b[0m \u001b[39m    \"\"\"\u001b[39;00m\n\u001b[0;32m--> 264\u001b[0m     weights \u001b[39m=\u001b[39m optimal_weights(n_points, er, cov)\n\u001b[1;32m    265\u001b[0m     rets \u001b[39m=\u001b[39m [portfolio_return(w, er) \u001b[39mfor\u001b[39;00m w \u001b[39min\u001b[39;00m weights]\n\u001b[1;32m    266\u001b[0m     vols \u001b[39m=\u001b[39m [portfolio_vol(w, cov) \u001b[39mfor\u001b[39;00m w \u001b[39min\u001b[39;00m weights]\n",
      "File \u001b[0;32m~/Desktop/Investment Banking & Asset Management/Investment-Banking-Asset-Management/risk_kit.py:257\u001b[0m, in \u001b[0;36moptimal_weights\u001b[0;34m(n_points, er, cov)\u001b[0m\n\u001b[1;32m    253\u001b[0m \u001b[39m\"\"\"\u001b[39;00m\n\u001b[1;32m    254\u001b[0m \u001b[39mList of weights to run the optimizer on to minimize the vol\u001b[39;00m\n\u001b[1;32m    255\u001b[0m \u001b[39m\"\"\"\u001b[39;00m\n\u001b[1;32m    256\u001b[0m target_rs \u001b[39m=\u001b[39m np\u001b[39m.\u001b[39mlinspace(er\u001b[39m.\u001b[39mmin(), er\u001b[39m.\u001b[39mmax(), n_points)\n\u001b[0;32m--> 257\u001b[0m weights \u001b[39m=\u001b[39m [minimize_vol(target_return, er, cov) \u001b[39mfor\u001b[39;00m target_return \u001b[39min\u001b[39;00m target_rs]\n\u001b[1;32m    258\u001b[0m \u001b[39mreturn\u001b[39;00m weights\n",
      "File \u001b[0;32m~/Desktop/Investment Banking & Asset Management/Investment-Banking-Asset-Management/risk_kit.py:257\u001b[0m, in \u001b[0;36m<listcomp>\u001b[0;34m(.0)\u001b[0m\n\u001b[1;32m    253\u001b[0m \u001b[39m\"\"\"\u001b[39;00m\n\u001b[1;32m    254\u001b[0m \u001b[39mList of weights to run the optimizer on to minimize the vol\u001b[39;00m\n\u001b[1;32m    255\u001b[0m \u001b[39m\"\"\"\u001b[39;00m\n\u001b[1;32m    256\u001b[0m target_rs \u001b[39m=\u001b[39m np\u001b[39m.\u001b[39mlinspace(er\u001b[39m.\u001b[39mmin(), er\u001b[39m.\u001b[39mmax(), n_points)\n\u001b[0;32m--> 257\u001b[0m weights \u001b[39m=\u001b[39m [minimize_vol(target_return, er, cov) \u001b[39mfor\u001b[39;00m target_return \u001b[39min\u001b[39;00m target_rs]\n\u001b[1;32m    258\u001b[0m \u001b[39mreturn\u001b[39;00m weights\n",
      "File \u001b[0;32m~/Desktop/Investment Banking & Asset Management/Investment-Banking-Asset-Management/risk_kit.py:245\u001b[0m, in \u001b[0;36mminimize_vol\u001b[0;34m(target_return, er, cov)\u001b[0m\n\u001b[1;32m    238\u001b[0m weights_sum_to_1 \u001b[39m=\u001b[39m {\u001b[39m'\u001b[39m\u001b[39mtype\u001b[39m\u001b[39m'\u001b[39m: \u001b[39m'\u001b[39m\u001b[39meq\u001b[39m\u001b[39m'\u001b[39m,\n\u001b[1;32m    239\u001b[0m                     \u001b[39m'\u001b[39m\u001b[39mfun\u001b[39m\u001b[39m'\u001b[39m: \u001b[39mlambda\u001b[39;00m weights: np\u001b[39m.\u001b[39msum(weights) \u001b[39m-\u001b[39m \u001b[39m1\u001b[39m\n\u001b[1;32m    240\u001b[0m }\n\u001b[1;32m    241\u001b[0m return_is_target \u001b[39m=\u001b[39m {\u001b[39m'\u001b[39m\u001b[39mtype\u001b[39m\u001b[39m'\u001b[39m: \u001b[39m'\u001b[39m\u001b[39meq\u001b[39m\u001b[39m'\u001b[39m,\n\u001b[1;32m    242\u001b[0m                     \u001b[39m'\u001b[39m\u001b[39margs\u001b[39m\u001b[39m'\u001b[39m: (er,),\n\u001b[1;32m    243\u001b[0m                     \u001b[39m'\u001b[39m\u001b[39mfun\u001b[39m\u001b[39m'\u001b[39m: \u001b[39mlambda\u001b[39;00m weights, er: target_return \u001b[39m-\u001b[39m portfolio_return(weights,er)\n\u001b[1;32m    244\u001b[0m }\n\u001b[0;32m--> 245\u001b[0m weights \u001b[39m=\u001b[39m minimize(portfolio_vol, init_guess,\n\u001b[1;32m    246\u001b[0m                    args\u001b[39m=\u001b[39;49m(cov,), method\u001b[39m=\u001b[39;49m\u001b[39m'\u001b[39;49m\u001b[39mSLSQP\u001b[39;49m\u001b[39m'\u001b[39;49m, \u001b[39m#Sequential Least Squares Programming optimization algorithm\u001b[39;49;00m\n\u001b[1;32m    247\u001b[0m                    options\u001b[39m=\u001b[39;49m{\u001b[39m'\u001b[39;49m\u001b[39mdisp\u001b[39;49m\u001b[39m'\u001b[39;49m: \u001b[39mFalse\u001b[39;49;00m},\n\u001b[1;32m    248\u001b[0m                    constraints\u001b[39m=\u001b[39;49m(weights_sum_to_1,return_is_target),\n\u001b[1;32m    249\u001b[0m                    bounds\u001b[39m=\u001b[39;49mbounds)\n\u001b[1;32m    250\u001b[0m \u001b[39mreturn\u001b[39;00m weights\u001b[39m.\u001b[39mx\n",
      "File \u001b[0;32m~/anaconda3/lib/python3.10/site-packages/scipy/optimize/_minimize.py:705\u001b[0m, in \u001b[0;36mminimize\u001b[0;34m(fun, x0, args, method, jac, hess, hessp, bounds, constraints, tol, callback, options)\u001b[0m\n\u001b[1;32m    702\u001b[0m     res \u001b[39m=\u001b[39m _minimize_cobyla(fun, x0, args, constraints, callback\u001b[39m=\u001b[39mcallback,\n\u001b[1;32m    703\u001b[0m                             \u001b[39m*\u001b[39m\u001b[39m*\u001b[39moptions)\n\u001b[1;32m    704\u001b[0m \u001b[39melif\u001b[39;00m meth \u001b[39m==\u001b[39m \u001b[39m'\u001b[39m\u001b[39mslsqp\u001b[39m\u001b[39m'\u001b[39m:\n\u001b[0;32m--> 705\u001b[0m     res \u001b[39m=\u001b[39m _minimize_slsqp(fun, x0, args, jac, bounds,\n\u001b[1;32m    706\u001b[0m                           constraints, callback\u001b[39m=\u001b[39;49mcallback, \u001b[39m*\u001b[39;49m\u001b[39m*\u001b[39;49moptions)\n\u001b[1;32m    707\u001b[0m \u001b[39melif\u001b[39;00m meth \u001b[39m==\u001b[39m \u001b[39m'\u001b[39m\u001b[39mtrust-constr\u001b[39m\u001b[39m'\u001b[39m:\n\u001b[1;32m    708\u001b[0m     res \u001b[39m=\u001b[39m _minimize_trustregion_constr(fun, x0, args, jac, hess, hessp,\n\u001b[1;32m    709\u001b[0m                                        bounds, constraints,\n\u001b[1;32m    710\u001b[0m                                        callback\u001b[39m=\u001b[39mcallback, \u001b[39m*\u001b[39m\u001b[39m*\u001b[39moptions)\n",
      "File \u001b[0;32m~/anaconda3/lib/python3.10/site-packages/scipy/optimize/_slsqp_py.py:415\u001b[0m, in \u001b[0;36m_minimize_slsqp\u001b[0;34m(func, x0, args, jac, bounds, constraints, maxiter, ftol, iprint, disp, eps, callback, finite_diff_rel_step, **unknown_options)\u001b[0m\n\u001b[1;32m    410\u001b[0m     \u001b[39mprint\u001b[39m(\u001b[39m\"\u001b[39m\u001b[39m%5s\u001b[39;00m\u001b[39m \u001b[39m\u001b[39m%5s\u001b[39;00m\u001b[39m \u001b[39m\u001b[39m%16s\u001b[39;00m\u001b[39m \u001b[39m\u001b[39m%16s\u001b[39;00m\u001b[39m\"\u001b[39m \u001b[39m%\u001b[39m (\u001b[39m\"\u001b[39m\u001b[39mNIT\u001b[39m\u001b[39m\"\u001b[39m, \u001b[39m\"\u001b[39m\u001b[39mFC\u001b[39m\u001b[39m\"\u001b[39m, \u001b[39m\"\u001b[39m\u001b[39mOBJFUN\u001b[39m\u001b[39m\"\u001b[39m, \u001b[39m\"\u001b[39m\u001b[39mGNORM\u001b[39m\u001b[39m\"\u001b[39m))\n\u001b[1;32m    412\u001b[0m \u001b[39m# mode is zero on entry, so call objective, constraints and gradients\u001b[39;00m\n\u001b[1;32m    413\u001b[0m \u001b[39m# there should be no func evaluations here because it's cached from\u001b[39;00m\n\u001b[1;32m    414\u001b[0m \u001b[39m# ScalarFunction\u001b[39;00m\n\u001b[0;32m--> 415\u001b[0m fx \u001b[39m=\u001b[39m wrapped_fun(x)\n\u001b[1;32m    416\u001b[0m g \u001b[39m=\u001b[39m append(wrapped_grad(x), \u001b[39m0.0\u001b[39m)\n\u001b[1;32m    417\u001b[0m c \u001b[39m=\u001b[39m _eval_constraint(x, cons)\n",
      "File \u001b[0;32m~/anaconda3/lib/python3.10/site-packages/scipy/optimize/_optimize.py:344\u001b[0m, in \u001b[0;36m_clip_x_for_func.<locals>.eval\u001b[0;34m(x)\u001b[0m\n\u001b[1;32m    338\u001b[0m \u001b[39mdef\u001b[39;00m \u001b[39m_clip_x_for_func\u001b[39m(func, bounds):\n\u001b[1;32m    339\u001b[0m     \u001b[39m# ensures that x values sent to func are clipped to bounds\u001b[39;00m\n\u001b[1;32m    340\u001b[0m \n\u001b[1;32m    341\u001b[0m     \u001b[39m# this is used as a mitigation for gh11403, slsqp/tnc sometimes\u001b[39;00m\n\u001b[1;32m    342\u001b[0m     \u001b[39m# suggest a move that is outside the limits by 1 or 2 ULP. This\u001b[39;00m\n\u001b[1;32m    343\u001b[0m     \u001b[39m# unclean fix makes sure x is strictly within bounds.\u001b[39;00m\n\u001b[0;32m--> 344\u001b[0m     \u001b[39mdef\u001b[39;00m \u001b[39meval\u001b[39m(x):\n\u001b[1;32m    345\u001b[0m         x \u001b[39m=\u001b[39m _check_clip_x(x, bounds)\n\u001b[1;32m    346\u001b[0m         \u001b[39mreturn\u001b[39;00m func(x)\n",
      "\u001b[0;31mKeyboardInterrupt\u001b[0m: "
     ]
    }
   ],
   "source": [
    "l = [\"Smoke\", \"Fin\", \"Games\", \"Coal\"]\n",
    "rk.plot_ef(25, er[l], cov.loc[l, l])"
   ]
  },
  {
   "attachments": {},
   "cell_type": "markdown",
   "metadata": {},
   "source": [
    "# Finding the Max Sharpe Ratio Portfolio\n",
    "### Finding the Max Sharpe Ratio for a portfolio is very important. We do this by combining\n",
    "### our nowledge with efficient frontier and risk free rate. We end up finding the best portfolio\n",
    "### with maximum sharpe ratio.\n",
    "\n",
    "-> Minimizing the negative sharpe ratio maximises the sharpe ratio.\n",
    "\n",
    "-> Sharpe Ratio is -(portfolio_return - riskfree_rate)/portfolio_vol\n"
   ]
  },
  {
   "cell_type": "code",
   "execution_count": 45,
   "metadata": {},
   "outputs": [
    {
     "data": {
      "text/plain": [
       "<Axes: xlabel='Volatility'>"
      ]
     },
     "execution_count": 45,
     "metadata": {},
     "output_type": "execute_result"
    },
    {
     "data": {
      "image/png": "[encoded data removed]",
      "text/plain": [
       "<Figure size 640x480 with 1 Axes>"
      ]
     },
     "metadata": {},
     "output_type": "display_data"
    }
   ],
   "source": [
    "rk.plot_ef(20, er, cov)"
   ]
  },
  {
   "cell_type": "code",
   "execution_count": 46,
   "metadata": {},
   "outputs": [
    {
     "data": {
      "text/plain": [
       "(0.0, 0.14178366137140996)"
      ]
     },
     "execution_count": 46,
     "metadata": {},
     "output_type": "execute_result"
    },
    {
     "data": {
      "image/png": "[encoded data removed]",
      "text/plain": [
       "<Figure size 640x480 with 1 Axes>"
      ]
     },
     "metadata": {},
     "output_type": "display_data"
    }
   ],
   "source": [
    "ax = rk.plot_ef(20, er, cov)\n",
    "ax.set_xlim(left = 0)"
   ]
  },
  {
   "cell_type": "code",
   "execution_count": 47,
   "metadata": {},
   "outputs": [
    {
     "data": {
      "text/plain": [
       "[<matplotlib.lines.Line2D at 0x17a3b8310>]"
      ]
     },
     "execution_count": 47,
     "metadata": {},
     "output_type": "execute_result"
    },
    {
     "data": {
      "image/png": "[encoded data removed]",
      "text/plain": [
       "<Figure size 640x480 with 1 Axes>"
      ]
     },
     "metadata": {},
     "output_type": "display_data"
    }
   ],
   "source": [
    "ax = rk.plot_ef(20, er, cov)\n",
    "ax.set_xlim(left = 0)\n",
    "rf = 0.1 # We want it to be 10 percent return\n",
    "w_msr = rk.msr(rf, er, cov)\n",
    "r_msr = rk.portfolio_return(w_msr, er)\n",
    "vol_msr = rk.portfolio_vol(w_msr, cov)\n",
    "# Add CML -> Capital Market Line\n",
    "cml_x = [0, vol_msr]\n",
    "cml_y = [rf, r_msr]\n",
    "ax.plot(cml_x, cml_y, color = \"green\", marker=\"o\", linestyle = \"dashed\")"
   ]
  },
  {
   "cell_type": "code",
   "execution_count": 48,
   "metadata": {},
   "outputs": [
    {
     "data": {
      "text/plain": [
       "<Axes: xlabel='Volatility'>"
      ]
     },
     "execution_count": 48,
     "metadata": {},
     "output_type": "execute_result"
    },
    {
     "data": {
      "image/png": "[encoded data removed]",
      "text/plain": [
       "<Figure size 640x480 with 1 Axes>"
      ]
     },
     "metadata": {},
     "output_type": "display_data"
    }
   ],
   "source": [
    "rk.plot_ef(20, er, cov, show_cml=True, riskfree_rate=0.1)"
   ]
  },
  {
   "attachments": {},
   "cell_type": "markdown",
   "metadata": {},
   "source": [
    "# Notes for Markowitz\n",
    "\n",
    "### If we put misspecified portofilios to an optimizer we will also get misspecified portofilios, so it is like garbage in garbage out. We have to make sure to have specific calculated portfolios for the best results. \n",
    "\n",
    "\n",
    "### To do this we Improve Parameter Estimates\n",
    "Various methodologies exist for improving estimates for expected returns and covarinace parameters.\n",
    "\n",
    "However some uncertainty always remains which are particularly large for expected returns.\n"
   ]
  },
  {
   "attachments": {},
   "cell_type": "markdown",
   "metadata": {},
   "source": [
    "# Lack of Robustness of the Markowitz Procedure, and the GMV"
   ]
  },
  {
   "attachments": {},
   "cell_type": "markdown",
   "metadata": {},
   "source": []
  },
  {
   "cell_type": "code",
   "execution_count": 49,
   "metadata": {},
   "outputs": [],
   "source": [
    "ind = rk.get_ind_returns()\n",
    "er = rk.annualize_rets(ind[\"1996\":\"2000\"], 12)\n",
    "cov = ind[\"1996\":\"2000\"].cov()"
   ]
  },
  {
   "cell_type": "code",
   "execution_count": 51,
   "metadata": {},
   "outputs": [
    {
     "data": {
      "text/plain": [
       "array([0.75040364, 0.24959636])"
      ]
     },
     "execution_count": 51,
     "metadata": {},
     "output_type": "execute_result"
    }
   ],
   "source": [
    "l = [\"Food\", \"Steel\"]\n",
    "rk.msr(0.1, er[l], cov.loc[l, l])\n",
    "# This result means that we should have 75 percent food and 25 percent steel in this portfolio for 10 percent return. \n",
    "# On the other hand we actually know the returns in the period of time between 1996-2000"
   ]
  },
  {
   "cell_type": "code",
   "execution_count": 52,
   "metadata": {},
   "outputs": [
    {
     "data": {
      "text/plain": [
       "Food     0.116799\n",
       "Steel    0.115809\n",
       "dtype: float64"
      ]
     },
     "execution_count": 52,
     "metadata": {},
     "output_type": "execute_result"
    }
   ],
   "source": [
    "# Lets check the expected returns during the period of time that is given\n",
    "er[l]\n",
    "# We can see that the expected returns were 11.7 percent and 11.6 percent accordingly"
   ]
  },
  {
   "cell_type": "code",
   "execution_count": 53,
   "metadata": {},
   "outputs": [
    {
     "data": {
      "text/plain": [
       "array([0.57930356, 0.42069644])"
      ]
     },
     "execution_count": 53,
     "metadata": {},
     "output_type": "execute_result"
    }
   ],
   "source": [
    "# Lets assunme that we are in 1996 and we are trying to get the best portfolios for 10 percent return.\n",
    "# In order to do this we have to guess the upcoming expected returns.\n",
    "# Lets guess that it would 11 percent and 12 percent accordingly which are not bad of a guess.\n",
    "rk.msr(0.1, np.array([.11, .12]), cov.loc[l, l])\n",
    "# We get a very different result to what we officially had. "
   ]
  },
  {
   "cell_type": "code",
   "execution_count": 54,
   "metadata": {},
   "outputs": [
    {
     "data": {
      "text/plain": [
       "array([2.08166817e-17, 1.00000000e+00])"
      ]
     },
     "execution_count": 54,
     "metadata": {},
     "output_type": "execute_result"
    }
   ],
   "source": [
    "rk.msr(0.1, np.array([.10, .13]), cov.loc[l, l])\n",
    "# For this we should only invest in steel and nothing to food."
   ]
  },
  {
   "cell_type": "code",
   "execution_count": 55,
   "metadata": {},
   "outputs": [
    {
     "data": {
      "text/plain": [
       "array([1., 0.])"
      ]
     },
     "execution_count": 55,
     "metadata": {},
     "output_type": "execute_result"
    }
   ],
   "source": [
    "rk.msr(0.1, np.array([.13, .10]), cov.loc[l, l])\n",
    "# For this we should only invest in food and nothing to steel.\n",
    "# Thus estimation errors can be slightly off but it will change the weight of the portfolio drastically."
   ]
  },
  {
   "cell_type": "code",
   "execution_count": 57,
   "metadata": {},
   "outputs": [
    {
     "data": {
      "text/plain": [
       "<Axes: xlabel='Volatility'>"
      ]
     },
     "execution_count": 57,
     "metadata": {},
     "output_type": "execute_result"
    },
    {
     "data": {
      "image/png": "[encoded data removed]",
      "text/plain": [
       "<Figure size 640x480 with 1 Axes>"
      ]
     },
     "metadata": {},
     "output_type": "display_data"
    }
   ],
   "source": [
    "rk.plot_ef(20, er, cov, show_cml=True, riskfree_rate=0.1)\n",
    "# If we analyse this graph the fat green circle is the best portfolio for you, but also it is very hard to reach too cause you need to perfectly guess the expected returns.\n",
    "# There is actually one portfolio where you dont need to know the expected returns. \n",
    "# We look for the GMV, global minimum variance portfolio.\n",
    "# On top of this we also have equal weighted portfolios where all the money is equally distributed to all of the portfolios. \n"
   ]
  },
  {
   "cell_type": "code",
   "execution_count": null,
   "metadata": {},
   "outputs": [],
   "source": []
  }
 ],
 "metadata": {
  "kernelspec": {
   "display_name": "base",
   "language": "python",
   "name": "python3"
  },
  "language_info": {
   "codemirror_mode": {
    "name": "ipython",
    "version": 3
   },
   "file_extension": ".py",
   "mimetype": "text/x-python",
   "name": "python",
   "nbconvert_exporter": "python",
   "pygments_lexer": "ipython3",
   "version": "3.10.9"
  },
  "orig_nbformat": 4
 },
 "nbformat": 4,
 "nbformat_minor": 2
}
