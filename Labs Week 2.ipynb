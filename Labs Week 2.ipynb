{
 "cells": [
  {
   "cell_type": "code",
   "execution_count": 2,
   "metadata": {},
   "outputs": [],
   "source": [
    "import pandas as pd\n",
    "ind = pd.read_csv(\"data/ind30_m_vw_rets.csv\", header=0, index_col=0, parse_dates=True)/100\n"
   ]
  },
  {
   "cell_type": "code",
   "execution_count": 3,
   "metadata": {},
   "outputs": [
    {
     "data": {
      "text/html": [
       "<div>\n",
       "<style scoped>\n",
       "    .dataframe tbody tr th:only-of-type {\n",
       "        vertical-align: middle;\n",
       "    }\n",
       "\n",
       "    .dataframe tbody tr th {\n",
       "        vertical-align: top;\n",
       "    }\n",
       "\n",
       "    .dataframe thead th {\n",
       "        text-align: right;\n",
       "    }\n",
       "</style>\n",
       "<table border=\"1\" class=\"dataframe\">\n",
       "  <thead>\n",
       "    <tr style=\"text-align: right;\">\n",
       "      <th></th>\n",
       "      <th>Food</th>\n",
       "      <th>Beer</th>\n",
       "      <th>Smoke</th>\n",
       "      <th>Games</th>\n",
       "      <th>Books</th>\n",
       "      <th>Hshld</th>\n",
       "      <th>Clths</th>\n",
       "      <th>Hlth</th>\n",
       "      <th>Chems</th>\n",
       "      <th>Txtls</th>\n",
       "      <th>...</th>\n",
       "      <th>Telcm</th>\n",
       "      <th>Servs</th>\n",
       "      <th>BusEq</th>\n",
       "      <th>Paper</th>\n",
       "      <th>Trans</th>\n",
       "      <th>Whlsl</th>\n",
       "      <th>Rtail</th>\n",
       "      <th>Meals</th>\n",
       "      <th>Fin</th>\n",
       "      <th>Other</th>\n",
       "    </tr>\n",
       "  </thead>\n",
       "  <tbody>\n",
       "    <tr>\n",
       "      <th>192607</th>\n",
       "      <td>0.0056</td>\n",
       "      <td>-0.0519</td>\n",
       "      <td>0.0129</td>\n",
       "      <td>0.0293</td>\n",
       "      <td>0.1097</td>\n",
       "      <td>-0.0048</td>\n",
       "      <td>0.0808</td>\n",
       "      <td>0.0177</td>\n",
       "      <td>0.0814</td>\n",
       "      <td>0.0039</td>\n",
       "      <td>...</td>\n",
       "      <td>0.0083</td>\n",
       "      <td>0.0922</td>\n",
       "      <td>0.0206</td>\n",
       "      <td>0.0770</td>\n",
       "      <td>0.0193</td>\n",
       "      <td>-0.2379</td>\n",
       "      <td>0.0007</td>\n",
       "      <td>0.0187</td>\n",
       "      <td>0.0037</td>\n",
       "      <td>0.0520</td>\n",
       "    </tr>\n",
       "    <tr>\n",
       "      <th>192608</th>\n",
       "      <td>0.0259</td>\n",
       "      <td>0.2703</td>\n",
       "      <td>0.0650</td>\n",
       "      <td>0.0055</td>\n",
       "      <td>0.1001</td>\n",
       "      <td>-0.0358</td>\n",
       "      <td>-0.0251</td>\n",
       "      <td>0.0425</td>\n",
       "      <td>0.0550</td>\n",
       "      <td>0.0814</td>\n",
       "      <td>...</td>\n",
       "      <td>0.0217</td>\n",
       "      <td>0.0202</td>\n",
       "      <td>0.0439</td>\n",
       "      <td>-0.0238</td>\n",
       "      <td>0.0488</td>\n",
       "      <td>0.0539</td>\n",
       "      <td>-0.0075</td>\n",
       "      <td>-0.0013</td>\n",
       "      <td>0.0446</td>\n",
       "      <td>0.0676</td>\n",
       "    </tr>\n",
       "    <tr>\n",
       "      <th>192609</th>\n",
       "      <td>0.0116</td>\n",
       "      <td>0.0402</td>\n",
       "      <td>0.0126</td>\n",
       "      <td>0.0658</td>\n",
       "      <td>-0.0099</td>\n",
       "      <td>0.0073</td>\n",
       "      <td>-0.0051</td>\n",
       "      <td>0.0069</td>\n",
       "      <td>0.0533</td>\n",
       "      <td>0.0231</td>\n",
       "      <td>...</td>\n",
       "      <td>0.0241</td>\n",
       "      <td>0.0225</td>\n",
       "      <td>0.0019</td>\n",
       "      <td>-0.0554</td>\n",
       "      <td>0.0005</td>\n",
       "      <td>-0.0787</td>\n",
       "      <td>0.0025</td>\n",
       "      <td>-0.0056</td>\n",
       "      <td>-0.0123</td>\n",
       "      <td>-0.0386</td>\n",
       "    </tr>\n",
       "    <tr>\n",
       "      <th>192610</th>\n",
       "      <td>-0.0306</td>\n",
       "      <td>-0.0331</td>\n",
       "      <td>0.0106</td>\n",
       "      <td>-0.0476</td>\n",
       "      <td>0.0947</td>\n",
       "      <td>-0.0468</td>\n",
       "      <td>0.0012</td>\n",
       "      <td>-0.0057</td>\n",
       "      <td>-0.0476</td>\n",
       "      <td>0.0100</td>\n",
       "      <td>...</td>\n",
       "      <td>-0.0011</td>\n",
       "      <td>-0.0200</td>\n",
       "      <td>-0.0109</td>\n",
       "      <td>-0.0508</td>\n",
       "      <td>-0.0264</td>\n",
       "      <td>-0.1538</td>\n",
       "      <td>-0.0220</td>\n",
       "      <td>-0.0411</td>\n",
       "      <td>-0.0516</td>\n",
       "      <td>-0.0849</td>\n",
       "    </tr>\n",
       "    <tr>\n",
       "      <th>192611</th>\n",
       "      <td>0.0635</td>\n",
       "      <td>0.0729</td>\n",
       "      <td>0.0455</td>\n",
       "      <td>0.0166</td>\n",
       "      <td>-0.0580</td>\n",
       "      <td>-0.0054</td>\n",
       "      <td>0.0187</td>\n",
       "      <td>0.0542</td>\n",
       "      <td>0.0520</td>\n",
       "      <td>0.0311</td>\n",
       "      <td>...</td>\n",
       "      <td>0.0163</td>\n",
       "      <td>0.0377</td>\n",
       "      <td>0.0364</td>\n",
       "      <td>0.0384</td>\n",
       "      <td>0.0160</td>\n",
       "      <td>0.0467</td>\n",
       "      <td>0.0652</td>\n",
       "      <td>0.0433</td>\n",
       "      <td>0.0224</td>\n",
       "      <td>0.0400</td>\n",
       "    </tr>\n",
       "  </tbody>\n",
       "</table>\n",
       "<p>5 rows × 30 columns</p>\n",
       "</div>"
      ],
      "text/plain": [
       "         Food    Beer    Smoke   Games   Books   Hshld   Clths   Hlth   \\\n",
       "192607  0.0056 -0.0519  0.0129  0.0293  0.1097 -0.0048  0.0808  0.0177   \n",
       "192608  0.0259  0.2703  0.0650  0.0055  0.1001 -0.0358 -0.0251  0.0425   \n",
       "192609  0.0116  0.0402  0.0126  0.0658 -0.0099  0.0073 -0.0051  0.0069   \n",
       "192610 -0.0306 -0.0331  0.0106 -0.0476  0.0947 -0.0468  0.0012 -0.0057   \n",
       "192611  0.0635  0.0729  0.0455  0.0166 -0.0580 -0.0054  0.0187  0.0542   \n",
       "\n",
       "         Chems   Txtls  ...   Telcm   Servs   BusEq   Paper   Trans   Whlsl  \\\n",
       "192607  0.0814  0.0039  ...  0.0083  0.0922  0.0206  0.0770  0.0193 -0.2379   \n",
       "192608  0.0550  0.0814  ...  0.0217  0.0202  0.0439 -0.0238  0.0488  0.0539   \n",
       "192609  0.0533  0.0231  ...  0.0241  0.0225  0.0019 -0.0554  0.0005 -0.0787   \n",
       "192610 -0.0476  0.0100  ... -0.0011 -0.0200 -0.0109 -0.0508 -0.0264 -0.1538   \n",
       "192611  0.0520  0.0311  ...  0.0163  0.0377  0.0364  0.0384  0.0160  0.0467   \n",
       "\n",
       "         Rtail   Meals   Fin     Other  \n",
       "192607  0.0007  0.0187  0.0037  0.0520  \n",
       "192608 -0.0075 -0.0013  0.0446  0.0676  \n",
       "192609  0.0025 -0.0056 -0.0123 -0.0386  \n",
       "192610 -0.0220 -0.0411 -0.0516 -0.0849  \n",
       "192611  0.0652  0.0433  0.0224  0.0400  \n",
       "\n",
       "[5 rows x 30 columns]"
      ]
     },
     "execution_count": 3,
     "metadata": {},
     "output_type": "execute_result"
    }
   ],
   "source": [
    "ind.head()"
   ]
  },
  {
   "cell_type": "code",
   "execution_count": 5,
   "metadata": {},
   "outputs": [],
   "source": [
    "ind.index = pd.to_datetime(ind.index, format=\"%Y%m\").to_period(\"M\")"
   ]
  },
  {
   "cell_type": "code",
   "execution_count": 6,
   "metadata": {},
   "outputs": [
    {
     "data": {
      "text/html": [
       "<div>\n",
       "<style scoped>\n",
       "    .dataframe tbody tr th:only-of-type {\n",
       "        vertical-align: middle;\n",
       "    }\n",
       "\n",
       "    .dataframe tbody tr th {\n",
       "        vertical-align: top;\n",
       "    }\n",
       "\n",
       "    .dataframe thead th {\n",
       "        text-align: right;\n",
       "    }\n",
       "</style>\n",
       "<table border=\"1\" class=\"dataframe\">\n",
       "  <thead>\n",
       "    <tr style=\"text-align: right;\">\n",
       "      <th></th>\n",
       "      <th>Food</th>\n",
       "      <th>Beer</th>\n",
       "      <th>Smoke</th>\n",
       "      <th>Games</th>\n",
       "      <th>Books</th>\n",
       "      <th>Hshld</th>\n",
       "      <th>Clths</th>\n",
       "      <th>Hlth</th>\n",
       "      <th>Chems</th>\n",
       "      <th>Txtls</th>\n",
       "      <th>...</th>\n",
       "      <th>Telcm</th>\n",
       "      <th>Servs</th>\n",
       "      <th>BusEq</th>\n",
       "      <th>Paper</th>\n",
       "      <th>Trans</th>\n",
       "      <th>Whlsl</th>\n",
       "      <th>Rtail</th>\n",
       "      <th>Meals</th>\n",
       "      <th>Fin</th>\n",
       "      <th>Other</th>\n",
       "    </tr>\n",
       "  </thead>\n",
       "  <tbody>\n",
       "    <tr>\n",
       "      <th>1926-07</th>\n",
       "      <td>0.0056</td>\n",
       "      <td>-0.0519</td>\n",
       "      <td>0.0129</td>\n",
       "      <td>0.0293</td>\n",
       "      <td>0.1097</td>\n",
       "      <td>-0.0048</td>\n",
       "      <td>0.0808</td>\n",
       "      <td>0.0177</td>\n",
       "      <td>0.0814</td>\n",
       "      <td>0.0039</td>\n",
       "      <td>...</td>\n",
       "      <td>0.0083</td>\n",
       "      <td>0.0922</td>\n",
       "      <td>0.0206</td>\n",
       "      <td>0.0770</td>\n",
       "      <td>0.0193</td>\n",
       "      <td>-0.2379</td>\n",
       "      <td>0.0007</td>\n",
       "      <td>0.0187</td>\n",
       "      <td>0.0037</td>\n",
       "      <td>0.0520</td>\n",
       "    </tr>\n",
       "    <tr>\n",
       "      <th>1926-08</th>\n",
       "      <td>0.0259</td>\n",
       "      <td>0.2703</td>\n",
       "      <td>0.0650</td>\n",
       "      <td>0.0055</td>\n",
       "      <td>0.1001</td>\n",
       "      <td>-0.0358</td>\n",
       "      <td>-0.0251</td>\n",
       "      <td>0.0425</td>\n",
       "      <td>0.0550</td>\n",
       "      <td>0.0814</td>\n",
       "      <td>...</td>\n",
       "      <td>0.0217</td>\n",
       "      <td>0.0202</td>\n",
       "      <td>0.0439</td>\n",
       "      <td>-0.0238</td>\n",
       "      <td>0.0488</td>\n",
       "      <td>0.0539</td>\n",
       "      <td>-0.0075</td>\n",
       "      <td>-0.0013</td>\n",
       "      <td>0.0446</td>\n",
       "      <td>0.0676</td>\n",
       "    </tr>\n",
       "    <tr>\n",
       "      <th>1926-09</th>\n",
       "      <td>0.0116</td>\n",
       "      <td>0.0402</td>\n",
       "      <td>0.0126</td>\n",
       "      <td>0.0658</td>\n",
       "      <td>-0.0099</td>\n",
       "      <td>0.0073</td>\n",
       "      <td>-0.0051</td>\n",
       "      <td>0.0069</td>\n",
       "      <td>0.0533</td>\n",
       "      <td>0.0231</td>\n",
       "      <td>...</td>\n",
       "      <td>0.0241</td>\n",
       "      <td>0.0225</td>\n",
       "      <td>0.0019</td>\n",
       "      <td>-0.0554</td>\n",
       "      <td>0.0005</td>\n",
       "      <td>-0.0787</td>\n",
       "      <td>0.0025</td>\n",
       "      <td>-0.0056</td>\n",
       "      <td>-0.0123</td>\n",
       "      <td>-0.0386</td>\n",
       "    </tr>\n",
       "    <tr>\n",
       "      <th>1926-10</th>\n",
       "      <td>-0.0306</td>\n",
       "      <td>-0.0331</td>\n",
       "      <td>0.0106</td>\n",
       "      <td>-0.0476</td>\n",
       "      <td>0.0947</td>\n",
       "      <td>-0.0468</td>\n",
       "      <td>0.0012</td>\n",
       "      <td>-0.0057</td>\n",
       "      <td>-0.0476</td>\n",
       "      <td>0.0100</td>\n",
       "      <td>...</td>\n",
       "      <td>-0.0011</td>\n",
       "      <td>-0.0200</td>\n",
       "      <td>-0.0109</td>\n",
       "      <td>-0.0508</td>\n",
       "      <td>-0.0264</td>\n",
       "      <td>-0.1538</td>\n",
       "      <td>-0.0220</td>\n",
       "      <td>-0.0411</td>\n",
       "      <td>-0.0516</td>\n",
       "      <td>-0.0849</td>\n",
       "    </tr>\n",
       "    <tr>\n",
       "      <th>1926-11</th>\n",
       "      <td>0.0635</td>\n",
       "      <td>0.0729</td>\n",
       "      <td>0.0455</td>\n",
       "      <td>0.0166</td>\n",
       "      <td>-0.0580</td>\n",
       "      <td>-0.0054</td>\n",
       "      <td>0.0187</td>\n",
       "      <td>0.0542</td>\n",
       "      <td>0.0520</td>\n",
       "      <td>0.0311</td>\n",
       "      <td>...</td>\n",
       "      <td>0.0163</td>\n",
       "      <td>0.0377</td>\n",
       "      <td>0.0364</td>\n",
       "      <td>0.0384</td>\n",
       "      <td>0.0160</td>\n",
       "      <td>0.0467</td>\n",
       "      <td>0.0652</td>\n",
       "      <td>0.0433</td>\n",
       "      <td>0.0224</td>\n",
       "      <td>0.0400</td>\n",
       "    </tr>\n",
       "  </tbody>\n",
       "</table>\n",
       "<p>5 rows × 30 columns</p>\n",
       "</div>"
      ],
      "text/plain": [
       "          Food    Beer    Smoke   Games   Books   Hshld   Clths   Hlth   \\\n",
       "1926-07  0.0056 -0.0519  0.0129  0.0293  0.1097 -0.0048  0.0808  0.0177   \n",
       "1926-08  0.0259  0.2703  0.0650  0.0055  0.1001 -0.0358 -0.0251  0.0425   \n",
       "1926-09  0.0116  0.0402  0.0126  0.0658 -0.0099  0.0073 -0.0051  0.0069   \n",
       "1926-10 -0.0306 -0.0331  0.0106 -0.0476  0.0947 -0.0468  0.0012 -0.0057   \n",
       "1926-11  0.0635  0.0729  0.0455  0.0166 -0.0580 -0.0054  0.0187  0.0542   \n",
       "\n",
       "          Chems   Txtls  ...   Telcm   Servs   BusEq   Paper   Trans   Whlsl  \\\n",
       "1926-07  0.0814  0.0039  ...  0.0083  0.0922  0.0206  0.0770  0.0193 -0.2379   \n",
       "1926-08  0.0550  0.0814  ...  0.0217  0.0202  0.0439 -0.0238  0.0488  0.0539   \n",
       "1926-09  0.0533  0.0231  ...  0.0241  0.0225  0.0019 -0.0554  0.0005 -0.0787   \n",
       "1926-10 -0.0476  0.0100  ... -0.0011 -0.0200 -0.0109 -0.0508 -0.0264 -0.1538   \n",
       "1926-11  0.0520  0.0311  ...  0.0163  0.0377  0.0364  0.0384  0.0160  0.0467   \n",
       "\n",
       "          Rtail   Meals   Fin     Other  \n",
       "1926-07  0.0007  0.0187  0.0037  0.0520  \n",
       "1926-08 -0.0075 -0.0013  0.0446  0.0676  \n",
       "1926-09  0.0025 -0.0056 -0.0123 -0.0386  \n",
       "1926-10 -0.0220 -0.0411 -0.0516 -0.0849  \n",
       "1926-11  0.0652  0.0433  0.0224  0.0400  \n",
       "\n",
       "[5 rows x 30 columns]"
      ]
     },
     "execution_count": 6,
     "metadata": {},
     "output_type": "execute_result"
    }
   ],
   "source": [
    "ind.head()"
   ]
  },
  {
   "cell_type": "code",
   "execution_count": 7,
   "metadata": {},
   "outputs": [
    {
     "data": {
      "text/plain": [
       "Index(['Food ', 'Beer ', 'Smoke', 'Games', 'Books', 'Hshld', 'Clths', 'Hlth ',\n",
       "       'Chems', 'Txtls', 'Cnstr', 'Steel', 'FabPr', 'ElcEq', 'Autos', 'Carry',\n",
       "       'Mines', 'Coal ', 'Oil  ', 'Util ', 'Telcm', 'Servs', 'BusEq', 'Paper',\n",
       "       'Trans', 'Whlsl', 'Rtail', 'Meals', 'Fin  ', 'Other'],\n",
       "      dtype='object')"
      ]
     },
     "execution_count": 7,
     "metadata": {},
     "output_type": "execute_result"
    }
   ],
   "source": [
    "ind.columns"
   ]
  },
  {
   "cell_type": "code",
   "execution_count": 8,
   "metadata": {},
   "outputs": [
    {
     "data": {
      "text/plain": [
       "Index(['Food', 'Beer', 'Smoke', 'Games', 'Books', 'Hshld', 'Clths', 'Hlth',\n",
       "       'Chems', 'Txtls', 'Cnstr', 'Steel', 'FabPr', 'ElcEq', 'Autos', 'Carry',\n",
       "       'Mines', 'Coal', 'Oil', 'Util', 'Telcm', 'Servs', 'BusEq', 'Paper',\n",
       "       'Trans', 'Whlsl', 'Rtail', 'Meals', 'Fin', 'Other'],\n",
       "      dtype='object')"
      ]
     },
     "execution_count": 8,
     "metadata": {},
     "output_type": "execute_result"
    }
   ],
   "source": [
    "ind.columns = ind.columns.str.strip()\n",
    "ind.columns"
   ]
  },
  {
   "cell_type": "code",
   "execution_count": 9,
   "metadata": {},
   "outputs": [
    {
     "data": {
      "text/plain": [
       "(1110, 30)"
      ]
     },
     "execution_count": 9,
     "metadata": {},
     "output_type": "execute_result"
    }
   ],
   "source": [
    "ind.shape"
   ]
  },
  {
   "cell_type": "code",
   "execution_count": 10,
   "metadata": {},
   "outputs": [],
   "source": [
    "%load_ext autoreload\n",
    "%autoreload 2"
   ]
  },
  {
   "cell_type": "code",
   "execution_count": 11,
   "metadata": {},
   "outputs": [],
   "source": [
    "import risk_kit as rk"
   ]
  },
  {
   "cell_type": "code",
   "execution_count": 13,
   "metadata": {},
   "outputs": [
    {
     "data": {
      "text/plain": [
       "(1110, 30)"
      ]
     },
     "execution_count": 13,
     "metadata": {},
     "output_type": "execute_result"
    }
   ],
   "source": [
    "ind = rk.get_ind_returns()\n",
    "ind.shape"
   ]
  },
  {
   "cell_type": "code",
   "execution_count": 14,
   "metadata": {},
   "outputs": [
    {
     "data": {
      "text/html": [
       "<div>\n",
       "<style scoped>\n",
       "    .dataframe tbody tr th:only-of-type {\n",
       "        vertical-align: middle;\n",
       "    }\n",
       "\n",
       "    .dataframe tbody tr th {\n",
       "        vertical-align: top;\n",
       "    }\n",
       "\n",
       "    .dataframe thead th {\n",
       "        text-align: right;\n",
       "    }\n",
       "</style>\n",
       "<table border=\"1\" class=\"dataframe\">\n",
       "  <thead>\n",
       "    <tr style=\"text-align: right;\">\n",
       "      <th></th>\n",
       "      <th>Food</th>\n",
       "      <th>Beer</th>\n",
       "      <th>Smoke</th>\n",
       "      <th>Games</th>\n",
       "      <th>Books</th>\n",
       "      <th>Hshld</th>\n",
       "      <th>Clths</th>\n",
       "      <th>Hlth</th>\n",
       "      <th>Chems</th>\n",
       "      <th>Txtls</th>\n",
       "      <th>...</th>\n",
       "      <th>Telcm</th>\n",
       "      <th>Servs</th>\n",
       "      <th>BusEq</th>\n",
       "      <th>Paper</th>\n",
       "      <th>Trans</th>\n",
       "      <th>Whlsl</th>\n",
       "      <th>Rtail</th>\n",
       "      <th>Meals</th>\n",
       "      <th>Fin</th>\n",
       "      <th>Other</th>\n",
       "    </tr>\n",
       "  </thead>\n",
       "  <tbody>\n",
       "    <tr>\n",
       "      <th>1926-07</th>\n",
       "      <td>0.0056</td>\n",
       "      <td>-0.0519</td>\n",
       "      <td>0.0129</td>\n",
       "      <td>0.0293</td>\n",
       "      <td>0.1097</td>\n",
       "      <td>-0.0048</td>\n",
       "      <td>0.0808</td>\n",
       "      <td>0.0177</td>\n",
       "      <td>0.0814</td>\n",
       "      <td>0.0039</td>\n",
       "      <td>...</td>\n",
       "      <td>0.0083</td>\n",
       "      <td>0.0922</td>\n",
       "      <td>0.0206</td>\n",
       "      <td>0.0770</td>\n",
       "      <td>0.0193</td>\n",
       "      <td>-0.2379</td>\n",
       "      <td>0.0007</td>\n",
       "      <td>0.0187</td>\n",
       "      <td>0.0037</td>\n",
       "      <td>0.0520</td>\n",
       "    </tr>\n",
       "    <tr>\n",
       "      <th>1926-08</th>\n",
       "      <td>0.0259</td>\n",
       "      <td>0.2703</td>\n",
       "      <td>0.0650</td>\n",
       "      <td>0.0055</td>\n",
       "      <td>0.1001</td>\n",
       "      <td>-0.0358</td>\n",
       "      <td>-0.0251</td>\n",
       "      <td>0.0425</td>\n",
       "      <td>0.0550</td>\n",
       "      <td>0.0814</td>\n",
       "      <td>...</td>\n",
       "      <td>0.0217</td>\n",
       "      <td>0.0202</td>\n",
       "      <td>0.0439</td>\n",
       "      <td>-0.0238</td>\n",
       "      <td>0.0488</td>\n",
       "      <td>0.0539</td>\n",
       "      <td>-0.0075</td>\n",
       "      <td>-0.0013</td>\n",
       "      <td>0.0446</td>\n",
       "      <td>0.0676</td>\n",
       "    </tr>\n",
       "    <tr>\n",
       "      <th>1926-09</th>\n",
       "      <td>0.0116</td>\n",
       "      <td>0.0402</td>\n",
       "      <td>0.0126</td>\n",
       "      <td>0.0658</td>\n",
       "      <td>-0.0099</td>\n",
       "      <td>0.0073</td>\n",
       "      <td>-0.0051</td>\n",
       "      <td>0.0069</td>\n",
       "      <td>0.0533</td>\n",
       "      <td>0.0231</td>\n",
       "      <td>...</td>\n",
       "      <td>0.0241</td>\n",
       "      <td>0.0225</td>\n",
       "      <td>0.0019</td>\n",
       "      <td>-0.0554</td>\n",
       "      <td>0.0005</td>\n",
       "      <td>-0.0787</td>\n",
       "      <td>0.0025</td>\n",
       "      <td>-0.0056</td>\n",
       "      <td>-0.0123</td>\n",
       "      <td>-0.0386</td>\n",
       "    </tr>\n",
       "    <tr>\n",
       "      <th>1926-10</th>\n",
       "      <td>-0.0306</td>\n",
       "      <td>-0.0331</td>\n",
       "      <td>0.0106</td>\n",
       "      <td>-0.0476</td>\n",
       "      <td>0.0947</td>\n",
       "      <td>-0.0468</td>\n",
       "      <td>0.0012</td>\n",
       "      <td>-0.0057</td>\n",
       "      <td>-0.0476</td>\n",
       "      <td>0.0100</td>\n",
       "      <td>...</td>\n",
       "      <td>-0.0011</td>\n",
       "      <td>-0.0200</td>\n",
       "      <td>-0.0109</td>\n",
       "      <td>-0.0508</td>\n",
       "      <td>-0.0264</td>\n",
       "      <td>-0.1538</td>\n",
       "      <td>-0.0220</td>\n",
       "      <td>-0.0411</td>\n",
       "      <td>-0.0516</td>\n",
       "      <td>-0.0849</td>\n",
       "    </tr>\n",
       "    <tr>\n",
       "      <th>1926-11</th>\n",
       "      <td>0.0635</td>\n",
       "      <td>0.0729</td>\n",
       "      <td>0.0455</td>\n",
       "      <td>0.0166</td>\n",
       "      <td>-0.0580</td>\n",
       "      <td>-0.0054</td>\n",
       "      <td>0.0187</td>\n",
       "      <td>0.0542</td>\n",
       "      <td>0.0520</td>\n",
       "      <td>0.0311</td>\n",
       "      <td>...</td>\n",
       "      <td>0.0163</td>\n",
       "      <td>0.0377</td>\n",
       "      <td>0.0364</td>\n",
       "      <td>0.0384</td>\n",
       "      <td>0.0160</td>\n",
       "      <td>0.0467</td>\n",
       "      <td>0.0652</td>\n",
       "      <td>0.0433</td>\n",
       "      <td>0.0224</td>\n",
       "      <td>0.0400</td>\n",
       "    </tr>\n",
       "  </tbody>\n",
       "</table>\n",
       "<p>5 rows × 30 columns</p>\n",
       "</div>"
      ],
      "text/plain": [
       "           Food    Beer   Smoke   Games   Books   Hshld   Clths    Hlth  \\\n",
       "1926-07  0.0056 -0.0519  0.0129  0.0293  0.1097 -0.0048  0.0808  0.0177   \n",
       "1926-08  0.0259  0.2703  0.0650  0.0055  0.1001 -0.0358 -0.0251  0.0425   \n",
       "1926-09  0.0116  0.0402  0.0126  0.0658 -0.0099  0.0073 -0.0051  0.0069   \n",
       "1926-10 -0.0306 -0.0331  0.0106 -0.0476  0.0947 -0.0468  0.0012 -0.0057   \n",
       "1926-11  0.0635  0.0729  0.0455  0.0166 -0.0580 -0.0054  0.0187  0.0542   \n",
       "\n",
       "          Chems   Txtls  ...   Telcm   Servs   BusEq   Paper   Trans   Whlsl  \\\n",
       "1926-07  0.0814  0.0039  ...  0.0083  0.0922  0.0206  0.0770  0.0193 -0.2379   \n",
       "1926-08  0.0550  0.0814  ...  0.0217  0.0202  0.0439 -0.0238  0.0488  0.0539   \n",
       "1926-09  0.0533  0.0231  ...  0.0241  0.0225  0.0019 -0.0554  0.0005 -0.0787   \n",
       "1926-10 -0.0476  0.0100  ... -0.0011 -0.0200 -0.0109 -0.0508 -0.0264 -0.1538   \n",
       "1926-11  0.0520  0.0311  ...  0.0163  0.0377  0.0364  0.0384  0.0160  0.0467   \n",
       "\n",
       "          Rtail   Meals     Fin   Other  \n",
       "1926-07  0.0007  0.0187  0.0037  0.0520  \n",
       "1926-08 -0.0075 -0.0013  0.0446  0.0676  \n",
       "1926-09  0.0025 -0.0056 -0.0123 -0.0386  \n",
       "1926-10 -0.0220 -0.0411 -0.0516 -0.0849  \n",
       "1926-11  0.0652  0.0433  0.0224  0.0400  \n",
       "\n",
       "[5 rows x 30 columns]"
      ]
     },
     "execution_count": 14,
     "metadata": {},
     "output_type": "execute_result"
    }
   ],
   "source": [
    "ind.head()"
   ]
  },
  {
   "cell_type": "code",
   "execution_count": 16,
   "metadata": {},
   "outputs": [
    {
     "data": {
      "text/plain": [
       "<Axes: >"
      ]
     },
     "execution_count": 16,
     "metadata": {},
     "output_type": "execute_result"
    },
    {
     "data": {
      "image/png": "[encoded data removed]",
      "text/plain": [
       "<Figure size 1200x600 with 1 Axes>"
      ]
     },
     "metadata": {},
     "output_type": "display_data"
    }
   ],
   "source": [
    "rk.drawdown(ind[\"Food\"])[\"Drawdown\"].plot.line(figsize =(12, 6))"
   ]
  },
  {
   "cell_type": "code",
   "execution_count": 18,
   "metadata": {},
   "outputs": [
    {
     "data": {
      "text/plain": [
       "Food     0.061207\n",
       "Smoke    0.080292\n",
       "Coal     0.047359\n",
       "Beer     0.033881\n",
       "Fin      0.075199\n",
       "dtype: float64"
      ]
     },
     "execution_count": 18,
     "metadata": {},
     "output_type": "execute_result"
    }
   ],
   "source": [
    "col_of_interest = [\"Food\",\"Smoke\", \"Coal\", \"Beer\", \"Fin\"]\n",
    "rk.var_gaussian(ind[col_of_interest], modified =True)"
   ]
  },
  {
   "cell_type": "code",
   "execution_count": 19,
   "metadata": {},
   "outputs": [
    {
     "data": {
      "text/plain": [
       "Carry    0.094527\n",
       "Meals    0.098403\n",
       "BusEq    0.099377\n",
       "Games    0.100701\n",
       "Mines    0.102782\n",
       "dtype: float64"
      ]
     },
     "execution_count": 19,
     "metadata": {},
     "output_type": "execute_result"
    }
   ],
   "source": [
    "rk.var_gaussian(ind, modified = True).sort_values().tail()"
   ]
  },
  {
   "cell_type": "code",
   "execution_count": 20,
   "metadata": {},
   "outputs": [
    {
     "data": {
      "text/plain": [
       "Beer     0.033881\n",
       "Coal     0.047359\n",
       "Food     0.061207\n",
       "Telcm    0.064719\n",
       "Hshld    0.064886\n",
       "dtype: float64"
      ]
     },
     "execution_count": 20,
     "metadata": {},
     "output_type": "execute_result"
    }
   ],
   "source": [
    "rk.var_gaussian(ind, modified = True).sort_values().head()"
   ]
  },
  {
   "cell_type": "code",
   "execution_count": 23,
   "metadata": {},
   "outputs": [
    {
     "data": {
      "text/plain": [
       "<Axes: >"
      ]
     },
     "execution_count": 23,
     "metadata": {},
     "output_type": "execute_result"
    },
    {
     "data": {
      "image/png": "[encoded data removed]",
      "text/plain": [
       "<Figure size 640x480 with 1 Axes>"
      ]
     },
     "metadata": {},
     "output_type": "display_data"
    }
   ],
   "source": [
    "rk.var_gaussian(ind, modified=True).sort_values().plot.bar()"
   ]
  },
  {
   "cell_type": "code",
   "execution_count": 24,
   "metadata": {},
   "outputs": [
    {
     "data": {
      "text/plain": [
       "<Axes: title={'center': 'Industry Shape Ratios 1926-2018'}>"
      ]
     },
     "execution_count": 24,
     "metadata": {},
     "output_type": "execute_result"
    },
    {
     "data": {
      "image/png": "[encoded data removed]",
      "text/plain": [
       "<Figure size 640x480 with 1 Axes>"
      ]
     },
     "metadata": {},
     "output_type": "display_data"
    }
   ],
   "source": [
    "rk.sharpe_ratio(ind, 0.03, 12).sort_values().plot.bar(title = \"Industry Shape Ratios 1926-2018\", color=\"green\")"
   ]
  },
  {
   "cell_type": "code",
   "execution_count": 27,
   "metadata": {},
   "outputs": [
    {
     "data": {
      "text/plain": [
       "<Axes: title={'center': 'Industry Shape Ratios 2000-2018'}>"
      ]
     },
     "execution_count": 27,
     "metadata": {},
     "output_type": "execute_result"
    },
    {
     "data": {
      "image/png": "[encoded data removed]",
      "text/plain": [
       "<Figure size 1200x500 with 1 Axes>"
      ]
     },
     "metadata": {},
     "output_type": "display_data"
    }
   ],
   "source": [
    "rk.sharpe_ratio(ind[\"2000\":], 0.03, 12).sort_values().plot.bar(title = \"Industry Shape Ratios 2000-2018\", figsize=(12, 5), color=\"goldenrod\")"
   ]
  },
  {
   "attachments": {},
   "cell_type": "markdown",
   "metadata": {},
   "source": [
    "## Efficient Frontier"
   ]
  },
  {
   "cell_type": "code",
   "execution_count": 36,
   "metadata": {},
   "outputs": [],
   "source": [
    "er = rk.annualize_rets(ind[\"1996\":\"2000\"], 12)"
   ]
  },
  {
   "cell_type": "code",
   "execution_count": 29,
   "metadata": {},
   "outputs": [
    {
     "data": {
      "text/plain": [
       "<Axes: >"
      ]
     },
     "execution_count": 29,
     "metadata": {},
     "output_type": "execute_result"
    },
    {
     "data": {
      "image/png": "[encoded data removed]",
      "text/plain": [
       "<Figure size 640x480 with 1 Axes>"
      ]
     },
     "metadata": {},
     "output_type": "display_data"
    }
   ],
   "source": [
    "er.sort_values().plot.bar()"
   ]
  },
  {
   "cell_type": "code",
   "execution_count": 44,
   "metadata": {},
   "outputs": [],
   "source": [
    "cov = ind[\"1996\":\"2000\"].cov()"
   ]
  },
  {
   "cell_type": "code",
   "execution_count": 32,
   "metadata": {},
   "outputs": [
    {
     "data": {
      "text/plain": [
       "(30, 30)"
      ]
     },
     "execution_count": 32,
     "metadata": {},
     "output_type": "execute_result"
    }
   ],
   "source": [
    "cov.shape"
   ]
  },
  {
   "cell_type": "code",
   "execution_count": 33,
   "metadata": {},
   "outputs": [
    {
     "data": {
      "text/html": [
       "<div>\n",
       "<style scoped>\n",
       "    .dataframe tbody tr th:only-of-type {\n",
       "        vertical-align: middle;\n",
       "    }\n",
       "\n",
       "    .dataframe tbody tr th {\n",
       "        vertical-align: top;\n",
       "    }\n",
       "\n",
       "    .dataframe thead th {\n",
       "        text-align: right;\n",
       "    }\n",
       "</style>\n",
       "<table border=\"1\" class=\"dataframe\">\n",
       "  <thead>\n",
       "    <tr style=\"text-align: right;\">\n",
       "      <th></th>\n",
       "      <th>Food</th>\n",
       "      <th>Beer</th>\n",
       "      <th>Smoke</th>\n",
       "      <th>Games</th>\n",
       "      <th>Books</th>\n",
       "      <th>Hshld</th>\n",
       "      <th>Clths</th>\n",
       "      <th>Hlth</th>\n",
       "      <th>Chems</th>\n",
       "      <th>Txtls</th>\n",
       "      <th>...</th>\n",
       "      <th>Telcm</th>\n",
       "      <th>Servs</th>\n",
       "      <th>BusEq</th>\n",
       "      <th>Paper</th>\n",
       "      <th>Trans</th>\n",
       "      <th>Whlsl</th>\n",
       "      <th>Rtail</th>\n",
       "      <th>Meals</th>\n",
       "      <th>Fin</th>\n",
       "      <th>Other</th>\n",
       "    </tr>\n",
       "  </thead>\n",
       "  <tbody>\n",
       "    <tr>\n",
       "      <th>Food</th>\n",
       "      <td>0.002287</td>\n",
       "      <td>0.002077</td>\n",
       "      <td>0.001757</td>\n",
       "      <td>0.000701</td>\n",
       "      <td>0.000886</td>\n",
       "      <td>0.001208</td>\n",
       "      <td>0.001474</td>\n",
       "      <td>0.001105</td>\n",
       "      <td>0.001253</td>\n",
       "      <td>0.001021</td>\n",
       "      <td>...</td>\n",
       "      <td>0.000610</td>\n",
       "      <td>0.000211</td>\n",
       "      <td>-0.000280</td>\n",
       "      <td>0.001205</td>\n",
       "      <td>0.001312</td>\n",
       "      <td>0.000633</td>\n",
       "      <td>0.001165</td>\n",
       "      <td>0.001085</td>\n",
       "      <td>0.001839</td>\n",
       "      <td>0.000898</td>\n",
       "    </tr>\n",
       "    <tr>\n",
       "      <th>Beer</th>\n",
       "      <td>0.002077</td>\n",
       "      <td>0.004599</td>\n",
       "      <td>0.001143</td>\n",
       "      <td>0.001147</td>\n",
       "      <td>0.000765</td>\n",
       "      <td>0.002447</td>\n",
       "      <td>0.001415</td>\n",
       "      <td>0.001689</td>\n",
       "      <td>0.001292</td>\n",
       "      <td>0.001721</td>\n",
       "      <td>...</td>\n",
       "      <td>0.000978</td>\n",
       "      <td>0.000400</td>\n",
       "      <td>0.000028</td>\n",
       "      <td>0.001455</td>\n",
       "      <td>0.001974</td>\n",
       "      <td>0.000609</td>\n",
       "      <td>0.001442</td>\n",
       "      <td>0.001634</td>\n",
       "      <td>0.002236</td>\n",
       "      <td>0.001196</td>\n",
       "    </tr>\n",
       "    <tr>\n",
       "      <th>Smoke</th>\n",
       "      <td>0.001757</td>\n",
       "      <td>0.001143</td>\n",
       "      <td>0.007130</td>\n",
       "      <td>0.000296</td>\n",
       "      <td>-0.000099</td>\n",
       "      <td>0.000981</td>\n",
       "      <td>0.000761</td>\n",
       "      <td>0.000877</td>\n",
       "      <td>0.000687</td>\n",
       "      <td>0.000555</td>\n",
       "      <td>...</td>\n",
       "      <td>0.000057</td>\n",
       "      <td>-0.000266</td>\n",
       "      <td>-0.000300</td>\n",
       "      <td>0.001061</td>\n",
       "      <td>0.000241</td>\n",
       "      <td>0.001363</td>\n",
       "      <td>0.000069</td>\n",
       "      <td>0.000590</td>\n",
       "      <td>0.001117</td>\n",
       "      <td>0.001418</td>\n",
       "    </tr>\n",
       "    <tr>\n",
       "      <th>Games</th>\n",
       "      <td>0.000701</td>\n",
       "      <td>0.001147</td>\n",
       "      <td>0.000296</td>\n",
       "      <td>0.003271</td>\n",
       "      <td>0.001485</td>\n",
       "      <td>0.001018</td>\n",
       "      <td>0.001814</td>\n",
       "      <td>0.001219</td>\n",
       "      <td>0.001547</td>\n",
       "      <td>0.001291</td>\n",
       "      <td>...</td>\n",
       "      <td>0.001615</td>\n",
       "      <td>0.002399</td>\n",
       "      <td>0.002935</td>\n",
       "      <td>0.001615</td>\n",
       "      <td>0.001438</td>\n",
       "      <td>0.001681</td>\n",
       "      <td>0.001649</td>\n",
       "      <td>0.001383</td>\n",
       "      <td>0.002080</td>\n",
       "      <td>0.002088</td>\n",
       "    </tr>\n",
       "    <tr>\n",
       "      <th>Books</th>\n",
       "      <td>0.000886</td>\n",
       "      <td>0.000765</td>\n",
       "      <td>-0.000099</td>\n",
       "      <td>0.001485</td>\n",
       "      <td>0.002302</td>\n",
       "      <td>0.000876</td>\n",
       "      <td>0.002037</td>\n",
       "      <td>0.000657</td>\n",
       "      <td>0.001559</td>\n",
       "      <td>0.001362</td>\n",
       "      <td>...</td>\n",
       "      <td>0.001627</td>\n",
       "      <td>0.001996</td>\n",
       "      <td>0.001624</td>\n",
       "      <td>0.001481</td>\n",
       "      <td>0.001576</td>\n",
       "      <td>0.001205</td>\n",
       "      <td>0.001995</td>\n",
       "      <td>0.001026</td>\n",
       "      <td>0.001979</td>\n",
       "      <td>0.001283</td>\n",
       "    </tr>\n",
       "    <tr>\n",
       "      <th>Hshld</th>\n",
       "      <td>0.001208</td>\n",
       "      <td>0.002447</td>\n",
       "      <td>0.000981</td>\n",
       "      <td>0.001018</td>\n",
       "      <td>0.000876</td>\n",
       "      <td>0.002849</td>\n",
       "      <td>0.001046</td>\n",
       "      <td>0.001253</td>\n",
       "      <td>0.001226</td>\n",
       "      <td>0.001172</td>\n",
       "      <td>...</td>\n",
       "      <td>0.000889</td>\n",
       "      <td>0.001111</td>\n",
       "      <td>0.000906</td>\n",
       "      <td>0.001594</td>\n",
       "      <td>0.001366</td>\n",
       "      <td>0.000578</td>\n",
       "      <td>0.001157</td>\n",
       "      <td>0.001076</td>\n",
       "      <td>0.001652</td>\n",
       "      <td>0.001322</td>\n",
       "    </tr>\n",
       "    <tr>\n",
       "      <th>Clths</th>\n",
       "      <td>0.001474</td>\n",
       "      <td>0.001415</td>\n",
       "      <td>0.000761</td>\n",
       "      <td>0.001814</td>\n",
       "      <td>0.002037</td>\n",
       "      <td>0.001046</td>\n",
       "      <td>0.004896</td>\n",
       "      <td>0.000759</td>\n",
       "      <td>0.002547</td>\n",
       "      <td>0.002105</td>\n",
       "      <td>...</td>\n",
       "      <td>0.001263</td>\n",
       "      <td>0.001401</td>\n",
       "      <td>0.000746</td>\n",
       "      <td>0.002683</td>\n",
       "      <td>0.002466</td>\n",
       "      <td>0.001654</td>\n",
       "      <td>0.002607</td>\n",
       "      <td>0.002229</td>\n",
       "      <td>0.002699</td>\n",
       "      <td>0.001974</td>\n",
       "    </tr>\n",
       "    <tr>\n",
       "      <th>Hlth</th>\n",
       "      <td>0.001105</td>\n",
       "      <td>0.001689</td>\n",
       "      <td>0.000877</td>\n",
       "      <td>0.001219</td>\n",
       "      <td>0.000657</td>\n",
       "      <td>0.001253</td>\n",
       "      <td>0.000759</td>\n",
       "      <td>0.002252</td>\n",
       "      <td>0.000444</td>\n",
       "      <td>0.000538</td>\n",
       "      <td>...</td>\n",
       "      <td>0.001093</td>\n",
       "      <td>0.001390</td>\n",
       "      <td>0.001264</td>\n",
       "      <td>0.000552</td>\n",
       "      <td>0.000880</td>\n",
       "      <td>0.000907</td>\n",
       "      <td>0.000770</td>\n",
       "      <td>0.000900</td>\n",
       "      <td>0.001412</td>\n",
       "      <td>0.001099</td>\n",
       "    </tr>\n",
       "    <tr>\n",
       "      <th>Chems</th>\n",
       "      <td>0.001253</td>\n",
       "      <td>0.001292</td>\n",
       "      <td>0.000687</td>\n",
       "      <td>0.001547</td>\n",
       "      <td>0.001559</td>\n",
       "      <td>0.001226</td>\n",
       "      <td>0.002547</td>\n",
       "      <td>0.000444</td>\n",
       "      <td>0.002944</td>\n",
       "      <td>0.001705</td>\n",
       "      <td>...</td>\n",
       "      <td>0.000860</td>\n",
       "      <td>0.001072</td>\n",
       "      <td>0.000935</td>\n",
       "      <td>0.002581</td>\n",
       "      <td>0.001966</td>\n",
       "      <td>0.001257</td>\n",
       "      <td>0.001661</td>\n",
       "      <td>0.001425</td>\n",
       "      <td>0.002143</td>\n",
       "      <td>0.001832</td>\n",
       "    </tr>\n",
       "    <tr>\n",
       "      <th>Txtls</th>\n",
       "      <td>0.001021</td>\n",
       "      <td>0.001721</td>\n",
       "      <td>0.000555</td>\n",
       "      <td>0.001291</td>\n",
       "      <td>0.001362</td>\n",
       "      <td>0.001172</td>\n",
       "      <td>0.002105</td>\n",
       "      <td>0.000538</td>\n",
       "      <td>0.001705</td>\n",
       "      <td>0.002882</td>\n",
       "      <td>...</td>\n",
       "      <td>0.000790</td>\n",
       "      <td>0.000582</td>\n",
       "      <td>0.000685</td>\n",
       "      <td>0.001869</td>\n",
       "      <td>0.001760</td>\n",
       "      <td>0.001426</td>\n",
       "      <td>0.001696</td>\n",
       "      <td>0.001126</td>\n",
       "      <td>0.001789</td>\n",
       "      <td>0.001668</td>\n",
       "    </tr>\n",
       "    <tr>\n",
       "      <th>Cnstr</th>\n",
       "      <td>0.001282</td>\n",
       "      <td>0.001945</td>\n",
       "      <td>0.001181</td>\n",
       "      <td>0.001723</td>\n",
       "      <td>0.001531</td>\n",
       "      <td>0.001770</td>\n",
       "      <td>0.002486</td>\n",
       "      <td>0.001217</td>\n",
       "      <td>0.001829</td>\n",
       "      <td>0.001648</td>\n",
       "      <td>...</td>\n",
       "      <td>0.001488</td>\n",
       "      <td>0.002169</td>\n",
       "      <td>0.001968</td>\n",
       "      <td>0.001922</td>\n",
       "      <td>0.002030</td>\n",
       "      <td>0.001453</td>\n",
       "      <td>0.001852</td>\n",
       "      <td>0.001810</td>\n",
       "      <td>0.002331</td>\n",
       "      <td>0.001573</td>\n",
       "    </tr>\n",
       "    <tr>\n",
       "      <th>Steel</th>\n",
       "      <td>0.000027</td>\n",
       "      <td>0.000131</td>\n",
       "      <td>0.000167</td>\n",
       "      <td>0.002670</td>\n",
       "      <td>0.001797</td>\n",
       "      <td>0.001050</td>\n",
       "      <td>0.001702</td>\n",
       "      <td>0.000836</td>\n",
       "      <td>0.002327</td>\n",
       "      <td>0.001321</td>\n",
       "      <td>...</td>\n",
       "      <td>0.001987</td>\n",
       "      <td>0.003934</td>\n",
       "      <td>0.005049</td>\n",
       "      <td>0.002306</td>\n",
       "      <td>0.001528</td>\n",
       "      <td>0.002210</td>\n",
       "      <td>0.001423</td>\n",
       "      <td>0.000553</td>\n",
       "      <td>0.001851</td>\n",
       "      <td>0.003370</td>\n",
       "    </tr>\n",
       "    <tr>\n",
       "      <th>FabPr</th>\n",
       "      <td>0.000613</td>\n",
       "      <td>0.000666</td>\n",
       "      <td>0.000668</td>\n",
       "      <td>0.002498</td>\n",
       "      <td>0.001704</td>\n",
       "      <td>0.001125</td>\n",
       "      <td>0.002430</td>\n",
       "      <td>0.000768</td>\n",
       "      <td>0.002273</td>\n",
       "      <td>0.001576</td>\n",
       "      <td>...</td>\n",
       "      <td>0.001428</td>\n",
       "      <td>0.002647</td>\n",
       "      <td>0.003732</td>\n",
       "      <td>0.002367</td>\n",
       "      <td>0.001949</td>\n",
       "      <td>0.002082</td>\n",
       "      <td>0.001669</td>\n",
       "      <td>0.001507</td>\n",
       "      <td>0.001985</td>\n",
       "      <td>0.002458</td>\n",
       "    </tr>\n",
       "    <tr>\n",
       "      <th>ElcEq</th>\n",
       "      <td>0.001146</td>\n",
       "      <td>0.001107</td>\n",
       "      <td>-0.000013</td>\n",
       "      <td>0.001980</td>\n",
       "      <td>0.002084</td>\n",
       "      <td>0.001426</td>\n",
       "      <td>0.002239</td>\n",
       "      <td>0.001108</td>\n",
       "      <td>0.001560</td>\n",
       "      <td>0.001102</td>\n",
       "      <td>...</td>\n",
       "      <td>0.002058</td>\n",
       "      <td>0.003312</td>\n",
       "      <td>0.002968</td>\n",
       "      <td>0.001540</td>\n",
       "      <td>0.001623</td>\n",
       "      <td>0.001080</td>\n",
       "      <td>0.002326</td>\n",
       "      <td>0.001300</td>\n",
       "      <td>0.002323</td>\n",
       "      <td>0.001556</td>\n",
       "    </tr>\n",
       "    <tr>\n",
       "      <th>Autos</th>\n",
       "      <td>0.000547</td>\n",
       "      <td>0.001296</td>\n",
       "      <td>0.000223</td>\n",
       "      <td>0.001994</td>\n",
       "      <td>0.001550</td>\n",
       "      <td>0.001466</td>\n",
       "      <td>0.002521</td>\n",
       "      <td>0.000851</td>\n",
       "      <td>0.001882</td>\n",
       "      <td>0.001811</td>\n",
       "      <td>...</td>\n",
       "      <td>0.001544</td>\n",
       "      <td>0.001800</td>\n",
       "      <td>0.002273</td>\n",
       "      <td>0.001957</td>\n",
       "      <td>0.001963</td>\n",
       "      <td>0.001543</td>\n",
       "      <td>0.001792</td>\n",
       "      <td>0.001624</td>\n",
       "      <td>0.002226</td>\n",
       "      <td>0.002055</td>\n",
       "    </tr>\n",
       "    <tr>\n",
       "      <th>Carry</th>\n",
       "      <td>0.001419</td>\n",
       "      <td>0.001804</td>\n",
       "      <td>0.001485</td>\n",
       "      <td>0.001644</td>\n",
       "      <td>0.001301</td>\n",
       "      <td>0.001704</td>\n",
       "      <td>0.002873</td>\n",
       "      <td>0.000755</td>\n",
       "      <td>0.002374</td>\n",
       "      <td>0.001842</td>\n",
       "      <td>...</td>\n",
       "      <td>0.000845</td>\n",
       "      <td>0.001082</td>\n",
       "      <td>0.001261</td>\n",
       "      <td>0.002619</td>\n",
       "      <td>0.002232</td>\n",
       "      <td>0.001461</td>\n",
       "      <td>0.001702</td>\n",
       "      <td>0.001868</td>\n",
       "      <td>0.002368</td>\n",
       "      <td>0.002159</td>\n",
       "    </tr>\n",
       "    <tr>\n",
       "      <th>Mines</th>\n",
       "      <td>0.000829</td>\n",
       "      <td>0.000272</td>\n",
       "      <td>0.001311</td>\n",
       "      <td>0.001600</td>\n",
       "      <td>0.001281</td>\n",
       "      <td>0.000598</td>\n",
       "      <td>0.002467</td>\n",
       "      <td>0.001103</td>\n",
       "      <td>0.002345</td>\n",
       "      <td>0.001274</td>\n",
       "      <td>...</td>\n",
       "      <td>0.001456</td>\n",
       "      <td>0.002260</td>\n",
       "      <td>0.002199</td>\n",
       "      <td>0.002562</td>\n",
       "      <td>0.001623</td>\n",
       "      <td>0.001991</td>\n",
       "      <td>0.001537</td>\n",
       "      <td>0.001218</td>\n",
       "      <td>0.001757</td>\n",
       "      <td>0.002606</td>\n",
       "    </tr>\n",
       "    <tr>\n",
       "      <th>Coal</th>\n",
       "      <td>0.000034</td>\n",
       "      <td>0.001261</td>\n",
       "      <td>-0.000544</td>\n",
       "      <td>0.001557</td>\n",
       "      <td>0.002051</td>\n",
       "      <td>0.001787</td>\n",
       "      <td>0.002433</td>\n",
       "      <td>0.001549</td>\n",
       "      <td>0.001910</td>\n",
       "      <td>0.000652</td>\n",
       "      <td>...</td>\n",
       "      <td>0.000912</td>\n",
       "      <td>0.002373</td>\n",
       "      <td>0.002643</td>\n",
       "      <td>0.002099</td>\n",
       "      <td>0.001213</td>\n",
       "      <td>0.001793</td>\n",
       "      <td>0.000597</td>\n",
       "      <td>0.000382</td>\n",
       "      <td>0.002425</td>\n",
       "      <td>0.001443</td>\n",
       "    </tr>\n",
       "    <tr>\n",
       "      <th>Oil</th>\n",
       "      <td>0.000933</td>\n",
       "      <td>0.000672</td>\n",
       "      <td>0.000849</td>\n",
       "      <td>0.000968</td>\n",
       "      <td>0.000868</td>\n",
       "      <td>0.000541</td>\n",
       "      <td>0.001646</td>\n",
       "      <td>0.000523</td>\n",
       "      <td>0.001843</td>\n",
       "      <td>0.001104</td>\n",
       "      <td>...</td>\n",
       "      <td>0.000394</td>\n",
       "      <td>0.001002</td>\n",
       "      <td>0.000920</td>\n",
       "      <td>0.001570</td>\n",
       "      <td>0.001280</td>\n",
       "      <td>0.001423</td>\n",
       "      <td>0.000806</td>\n",
       "      <td>0.001091</td>\n",
       "      <td>0.001608</td>\n",
       "      <td>0.001688</td>\n",
       "    </tr>\n",
       "    <tr>\n",
       "      <th>Util</th>\n",
       "      <td>0.000858</td>\n",
       "      <td>0.000631</td>\n",
       "      <td>0.001118</td>\n",
       "      <td>0.000023</td>\n",
       "      <td>0.000455</td>\n",
       "      <td>0.000350</td>\n",
       "      <td>0.000646</td>\n",
       "      <td>0.000543</td>\n",
       "      <td>0.000545</td>\n",
       "      <td>0.000777</td>\n",
       "      <td>...</td>\n",
       "      <td>0.000136</td>\n",
       "      <td>-0.000596</td>\n",
       "      <td>-0.001000</td>\n",
       "      <td>0.000387</td>\n",
       "      <td>0.000468</td>\n",
       "      <td>0.000719</td>\n",
       "      <td>-0.000099</td>\n",
       "      <td>0.000315</td>\n",
       "      <td>0.000978</td>\n",
       "      <td>0.000840</td>\n",
       "    </tr>\n",
       "    <tr>\n",
       "      <th>Telcm</th>\n",
       "      <td>0.000610</td>\n",
       "      <td>0.000978</td>\n",
       "      <td>0.000057</td>\n",
       "      <td>0.001615</td>\n",
       "      <td>0.001627</td>\n",
       "      <td>0.000889</td>\n",
       "      <td>0.001263</td>\n",
       "      <td>0.001093</td>\n",
       "      <td>0.000860</td>\n",
       "      <td>0.000790</td>\n",
       "      <td>...</td>\n",
       "      <td>0.003065</td>\n",
       "      <td>0.002971</td>\n",
       "      <td>0.002708</td>\n",
       "      <td>0.001097</td>\n",
       "      <td>0.001366</td>\n",
       "      <td>0.001001</td>\n",
       "      <td>0.001718</td>\n",
       "      <td>0.001013</td>\n",
       "      <td>0.001560</td>\n",
       "      <td>0.001129</td>\n",
       "    </tr>\n",
       "    <tr>\n",
       "      <th>Servs</th>\n",
       "      <td>0.000211</td>\n",
       "      <td>0.000400</td>\n",
       "      <td>-0.000266</td>\n",
       "      <td>0.002399</td>\n",
       "      <td>0.001996</td>\n",
       "      <td>0.001111</td>\n",
       "      <td>0.001401</td>\n",
       "      <td>0.001390</td>\n",
       "      <td>0.001072</td>\n",
       "      <td>0.000582</td>\n",
       "      <td>...</td>\n",
       "      <td>0.002971</td>\n",
       "      <td>0.006484</td>\n",
       "      <td>0.006079</td>\n",
       "      <td>0.001173</td>\n",
       "      <td>0.001299</td>\n",
       "      <td>0.001794</td>\n",
       "      <td>0.002447</td>\n",
       "      <td>0.000964</td>\n",
       "      <td>0.001630</td>\n",
       "      <td>0.002029</td>\n",
       "    </tr>\n",
       "    <tr>\n",
       "      <th>BusEq</th>\n",
       "      <td>-0.000280</td>\n",
       "      <td>0.000028</td>\n",
       "      <td>-0.000300</td>\n",
       "      <td>0.002935</td>\n",
       "      <td>0.001624</td>\n",
       "      <td>0.000906</td>\n",
       "      <td>0.000746</td>\n",
       "      <td>0.001264</td>\n",
       "      <td>0.000935</td>\n",
       "      <td>0.000685</td>\n",
       "      <td>...</td>\n",
       "      <td>0.002708</td>\n",
       "      <td>0.006079</td>\n",
       "      <td>0.008346</td>\n",
       "      <td>0.001267</td>\n",
       "      <td>0.001225</td>\n",
       "      <td>0.002178</td>\n",
       "      <td>0.001756</td>\n",
       "      <td>0.000630</td>\n",
       "      <td>0.001395</td>\n",
       "      <td>0.002305</td>\n",
       "    </tr>\n",
       "    <tr>\n",
       "      <th>Paper</th>\n",
       "      <td>0.001205</td>\n",
       "      <td>0.001455</td>\n",
       "      <td>0.001061</td>\n",
       "      <td>0.001615</td>\n",
       "      <td>0.001481</td>\n",
       "      <td>0.001594</td>\n",
       "      <td>0.002683</td>\n",
       "      <td>0.000552</td>\n",
       "      <td>0.002581</td>\n",
       "      <td>0.001869</td>\n",
       "      <td>...</td>\n",
       "      <td>0.001097</td>\n",
       "      <td>0.001173</td>\n",
       "      <td>0.001267</td>\n",
       "      <td>0.003004</td>\n",
       "      <td>0.002107</td>\n",
       "      <td>0.001396</td>\n",
       "      <td>0.001644</td>\n",
       "      <td>0.001420</td>\n",
       "      <td>0.002150</td>\n",
       "      <td>0.001686</td>\n",
       "    </tr>\n",
       "    <tr>\n",
       "      <th>Trans</th>\n",
       "      <td>0.001312</td>\n",
       "      <td>0.001974</td>\n",
       "      <td>0.000241</td>\n",
       "      <td>0.001438</td>\n",
       "      <td>0.001576</td>\n",
       "      <td>0.001366</td>\n",
       "      <td>0.002466</td>\n",
       "      <td>0.000880</td>\n",
       "      <td>0.001966</td>\n",
       "      <td>0.001760</td>\n",
       "      <td>...</td>\n",
       "      <td>0.001366</td>\n",
       "      <td>0.001299</td>\n",
       "      <td>0.001225</td>\n",
       "      <td>0.002107</td>\n",
       "      <td>0.002633</td>\n",
       "      <td>0.001084</td>\n",
       "      <td>0.001831</td>\n",
       "      <td>0.001741</td>\n",
       "      <td>0.002270</td>\n",
       "      <td>0.001557</td>\n",
       "    </tr>\n",
       "    <tr>\n",
       "      <th>Whlsl</th>\n",
       "      <td>0.000633</td>\n",
       "      <td>0.000609</td>\n",
       "      <td>0.001363</td>\n",
       "      <td>0.001681</td>\n",
       "      <td>0.001205</td>\n",
       "      <td>0.000578</td>\n",
       "      <td>0.001654</td>\n",
       "      <td>0.000907</td>\n",
       "      <td>0.001257</td>\n",
       "      <td>0.001426</td>\n",
       "      <td>...</td>\n",
       "      <td>0.001001</td>\n",
       "      <td>0.001794</td>\n",
       "      <td>0.002178</td>\n",
       "      <td>0.001396</td>\n",
       "      <td>0.001084</td>\n",
       "      <td>0.002341</td>\n",
       "      <td>0.001061</td>\n",
       "      <td>0.000848</td>\n",
       "      <td>0.001594</td>\n",
       "      <td>0.001896</td>\n",
       "    </tr>\n",
       "    <tr>\n",
       "      <th>Rtail</th>\n",
       "      <td>0.001165</td>\n",
       "      <td>0.001442</td>\n",
       "      <td>0.000069</td>\n",
       "      <td>0.001649</td>\n",
       "      <td>0.001995</td>\n",
       "      <td>0.001157</td>\n",
       "      <td>0.002607</td>\n",
       "      <td>0.000770</td>\n",
       "      <td>0.001661</td>\n",
       "      <td>0.001696</td>\n",
       "      <td>...</td>\n",
       "      <td>0.001718</td>\n",
       "      <td>0.002447</td>\n",
       "      <td>0.001756</td>\n",
       "      <td>0.001644</td>\n",
       "      <td>0.001831</td>\n",
       "      <td>0.001061</td>\n",
       "      <td>0.003197</td>\n",
       "      <td>0.001890</td>\n",
       "      <td>0.002010</td>\n",
       "      <td>0.001314</td>\n",
       "    </tr>\n",
       "    <tr>\n",
       "      <th>Meals</th>\n",
       "      <td>0.001085</td>\n",
       "      <td>0.001634</td>\n",
       "      <td>0.000590</td>\n",
       "      <td>0.001383</td>\n",
       "      <td>0.001026</td>\n",
       "      <td>0.001076</td>\n",
       "      <td>0.002229</td>\n",
       "      <td>0.000900</td>\n",
       "      <td>0.001425</td>\n",
       "      <td>0.001126</td>\n",
       "      <td>...</td>\n",
       "      <td>0.001013</td>\n",
       "      <td>0.000964</td>\n",
       "      <td>0.000630</td>\n",
       "      <td>0.001420</td>\n",
       "      <td>0.001741</td>\n",
       "      <td>0.000848</td>\n",
       "      <td>0.001890</td>\n",
       "      <td>0.002630</td>\n",
       "      <td>0.001765</td>\n",
       "      <td>0.001129</td>\n",
       "    </tr>\n",
       "    <tr>\n",
       "      <th>Fin</th>\n",
       "      <td>0.001839</td>\n",
       "      <td>0.002236</td>\n",
       "      <td>0.001117</td>\n",
       "      <td>0.002080</td>\n",
       "      <td>0.001979</td>\n",
       "      <td>0.001652</td>\n",
       "      <td>0.002699</td>\n",
       "      <td>0.001412</td>\n",
       "      <td>0.002143</td>\n",
       "      <td>0.001789</td>\n",
       "      <td>...</td>\n",
       "      <td>0.001560</td>\n",
       "      <td>0.001630</td>\n",
       "      <td>0.001395</td>\n",
       "      <td>0.002150</td>\n",
       "      <td>0.002270</td>\n",
       "      <td>0.001594</td>\n",
       "      <td>0.002010</td>\n",
       "      <td>0.001765</td>\n",
       "      <td>0.003459</td>\n",
       "      <td>0.001945</td>\n",
       "    </tr>\n",
       "    <tr>\n",
       "      <th>Other</th>\n",
       "      <td>0.000898</td>\n",
       "      <td>0.001196</td>\n",
       "      <td>0.001418</td>\n",
       "      <td>0.002088</td>\n",
       "      <td>0.001283</td>\n",
       "      <td>0.001322</td>\n",
       "      <td>0.001974</td>\n",
       "      <td>0.001099</td>\n",
       "      <td>0.001832</td>\n",
       "      <td>0.001668</td>\n",
       "      <td>...</td>\n",
       "      <td>0.001129</td>\n",
       "      <td>0.002029</td>\n",
       "      <td>0.002305</td>\n",
       "      <td>0.001686</td>\n",
       "      <td>0.001557</td>\n",
       "      <td>0.001896</td>\n",
       "      <td>0.001314</td>\n",
       "      <td>0.001129</td>\n",
       "      <td>0.001945</td>\n",
       "      <td>0.003655</td>\n",
       "    </tr>\n",
       "  </tbody>\n",
       "</table>\n",
       "<p>30 rows × 30 columns</p>\n",
       "</div>"
      ],
      "text/plain": [
       "           Food      Beer     Smoke     Games     Books     Hshld     Clths  \\\n",
       "Food   0.002287  0.002077  0.001757  0.000701  0.000886  0.001208  0.001474   \n",
       "Beer   0.002077  0.004599  0.001143  0.001147  0.000765  0.002447  0.001415   \n",
       "Smoke  0.001757  0.001143  0.007130  0.000296 -0.000099  0.000981  0.000761   \n",
       "Games  0.000701  0.001147  0.000296  0.003271  0.001485  0.001018  0.001814   \n",
       "Books  0.000886  0.000765 -0.000099  0.001485  0.002302  0.000876  0.002037   \n",
       "Hshld  0.001208  0.002447  0.000981  0.001018  0.000876  0.002849  0.001046   \n",
       "Clths  0.001474  0.001415  0.000761  0.001814  0.002037  0.001046  0.004896   \n",
       "Hlth   0.001105  0.001689  0.000877  0.001219  0.000657  0.001253  0.000759   \n",
       "Chems  0.001253  0.001292  0.000687  0.001547  0.001559  0.001226  0.002547   \n",
       "Txtls  0.001021  0.001721  0.000555  0.001291  0.001362  0.001172  0.002105   \n",
       "Cnstr  0.001282  0.001945  0.001181  0.001723  0.001531  0.001770  0.002486   \n",
       "Steel  0.000027  0.000131  0.000167  0.002670  0.001797  0.001050  0.001702   \n",
       "FabPr  0.000613  0.000666  0.000668  0.002498  0.001704  0.001125  0.002430   \n",
       "ElcEq  0.001146  0.001107 -0.000013  0.001980  0.002084  0.001426  0.002239   \n",
       "Autos  0.000547  0.001296  0.000223  0.001994  0.001550  0.001466  0.002521   \n",
       "Carry  0.001419  0.001804  0.001485  0.001644  0.001301  0.001704  0.002873   \n",
       "Mines  0.000829  0.000272  0.001311  0.001600  0.001281  0.000598  0.002467   \n",
       "Coal   0.000034  0.001261 -0.000544  0.001557  0.002051  0.001787  0.002433   \n",
       "Oil    0.000933  0.000672  0.000849  0.000968  0.000868  0.000541  0.001646   \n",
       "Util   0.000858  0.000631  0.001118  0.000023  0.000455  0.000350  0.000646   \n",
       "Telcm  0.000610  0.000978  0.000057  0.001615  0.001627  0.000889  0.001263   \n",
       "Servs  0.000211  0.000400 -0.000266  0.002399  0.001996  0.001111  0.001401   \n",
       "BusEq -0.000280  0.000028 -0.000300  0.002935  0.001624  0.000906  0.000746   \n",
       "Paper  0.001205  0.001455  0.001061  0.001615  0.001481  0.001594  0.002683   \n",
       "Trans  0.001312  0.001974  0.000241  0.001438  0.001576  0.001366  0.002466   \n",
       "Whlsl  0.000633  0.000609  0.001363  0.001681  0.001205  0.000578  0.001654   \n",
       "Rtail  0.001165  0.001442  0.000069  0.001649  0.001995  0.001157  0.002607   \n",
       "Meals  0.001085  0.001634  0.000590  0.001383  0.001026  0.001076  0.002229   \n",
       "Fin    0.001839  0.002236  0.001117  0.002080  0.001979  0.001652  0.002699   \n",
       "Other  0.000898  0.001196  0.001418  0.002088  0.001283  0.001322  0.001974   \n",
       "\n",
       "           Hlth     Chems     Txtls  ...     Telcm     Servs     BusEq  \\\n",
       "Food   0.001105  0.001253  0.001021  ...  0.000610  0.000211 -0.000280   \n",
       "Beer   0.001689  0.001292  0.001721  ...  0.000978  0.000400  0.000028   \n",
       "Smoke  0.000877  0.000687  0.000555  ...  0.000057 -0.000266 -0.000300   \n",
       "Games  0.001219  0.001547  0.001291  ...  0.001615  0.002399  0.002935   \n",
       "Books  0.000657  0.001559  0.001362  ...  0.001627  0.001996  0.001624   \n",
       "Hshld  0.001253  0.001226  0.001172  ...  0.000889  0.001111  0.000906   \n",
       "Clths  0.000759  0.002547  0.002105  ...  0.001263  0.001401  0.000746   \n",
       "Hlth   0.002252  0.000444  0.000538  ...  0.001093  0.001390  0.001264   \n",
       "Chems  0.000444  0.002944  0.001705  ...  0.000860  0.001072  0.000935   \n",
       "Txtls  0.000538  0.001705  0.002882  ...  0.000790  0.000582  0.000685   \n",
       "Cnstr  0.001217  0.001829  0.001648  ...  0.001488  0.002169  0.001968   \n",
       "Steel  0.000836  0.002327  0.001321  ...  0.001987  0.003934  0.005049   \n",
       "FabPr  0.000768  0.002273  0.001576  ...  0.001428  0.002647  0.003732   \n",
       "ElcEq  0.001108  0.001560  0.001102  ...  0.002058  0.003312  0.002968   \n",
       "Autos  0.000851  0.001882  0.001811  ...  0.001544  0.001800  0.002273   \n",
       "Carry  0.000755  0.002374  0.001842  ...  0.000845  0.001082  0.001261   \n",
       "Mines  0.001103  0.002345  0.001274  ...  0.001456  0.002260  0.002199   \n",
       "Coal   0.001549  0.001910  0.000652  ...  0.000912  0.002373  0.002643   \n",
       "Oil    0.000523  0.001843  0.001104  ...  0.000394  0.001002  0.000920   \n",
       "Util   0.000543  0.000545  0.000777  ...  0.000136 -0.000596 -0.001000   \n",
       "Telcm  0.001093  0.000860  0.000790  ...  0.003065  0.002971  0.002708   \n",
       "Servs  0.001390  0.001072  0.000582  ...  0.002971  0.006484  0.006079   \n",
       "BusEq  0.001264  0.000935  0.000685  ...  0.002708  0.006079  0.008346   \n",
       "Paper  0.000552  0.002581  0.001869  ...  0.001097  0.001173  0.001267   \n",
       "Trans  0.000880  0.001966  0.001760  ...  0.001366  0.001299  0.001225   \n",
       "Whlsl  0.000907  0.001257  0.001426  ...  0.001001  0.001794  0.002178   \n",
       "Rtail  0.000770  0.001661  0.001696  ...  0.001718  0.002447  0.001756   \n",
       "Meals  0.000900  0.001425  0.001126  ...  0.001013  0.000964  0.000630   \n",
       "Fin    0.001412  0.002143  0.001789  ...  0.001560  0.001630  0.001395   \n",
       "Other  0.001099  0.001832  0.001668  ...  0.001129  0.002029  0.002305   \n",
       "\n",
       "          Paper     Trans     Whlsl     Rtail     Meals       Fin     Other  \n",
       "Food   0.001205  0.001312  0.000633  0.001165  0.001085  0.001839  0.000898  \n",
       "Beer   0.001455  0.001974  0.000609  0.001442  0.001634  0.002236  0.001196  \n",
       "Smoke  0.001061  0.000241  0.001363  0.000069  0.000590  0.001117  0.001418  \n",
       "Games  0.001615  0.001438  0.001681  0.001649  0.001383  0.002080  0.002088  \n",
       "Books  0.001481  0.001576  0.001205  0.001995  0.001026  0.001979  0.001283  \n",
       "Hshld  0.001594  0.001366  0.000578  0.001157  0.001076  0.001652  0.001322  \n",
       "Clths  0.002683  0.002466  0.001654  0.002607  0.002229  0.002699  0.001974  \n",
       "Hlth   0.000552  0.000880  0.000907  0.000770  0.000900  0.001412  0.001099  \n",
       "Chems  0.002581  0.001966  0.001257  0.001661  0.001425  0.002143  0.001832  \n",
       "Txtls  0.001869  0.001760  0.001426  0.001696  0.001126  0.001789  0.001668  \n",
       "Cnstr  0.001922  0.002030  0.001453  0.001852  0.001810  0.002331  0.001573  \n",
       "Steel  0.002306  0.001528  0.002210  0.001423  0.000553  0.001851  0.003370  \n",
       "FabPr  0.002367  0.001949  0.002082  0.001669  0.001507  0.001985  0.002458  \n",
       "ElcEq  0.001540  0.001623  0.001080  0.002326  0.001300  0.002323  0.001556  \n",
       "Autos  0.001957  0.001963  0.001543  0.001792  0.001624  0.002226  0.002055  \n",
       "Carry  0.002619  0.002232  0.001461  0.001702  0.001868  0.002368  0.002159  \n",
       "Mines  0.002562  0.001623  0.001991  0.001537  0.001218  0.001757  0.002606  \n",
       "Coal   0.002099  0.001213  0.001793  0.000597  0.000382  0.002425  0.001443  \n",
       "Oil    0.001570  0.001280  0.001423  0.000806  0.001091  0.001608  0.001688  \n",
       "Util   0.000387  0.000468  0.000719 -0.000099  0.000315  0.000978  0.000840  \n",
       "Telcm  0.001097  0.001366  0.001001  0.001718  0.001013  0.001560  0.001129  \n",
       "Servs  0.001173  0.001299  0.001794  0.002447  0.000964  0.001630  0.002029  \n",
       "BusEq  0.001267  0.001225  0.002178  0.001756  0.000630  0.001395  0.002305  \n",
       "Paper  0.003004  0.002107  0.001396  0.001644  0.001420  0.002150  0.001686  \n",
       "Trans  0.002107  0.002633  0.001084  0.001831  0.001741  0.002270  0.001557  \n",
       "Whlsl  0.001396  0.001084  0.002341  0.001061  0.000848  0.001594  0.001896  \n",
       "Rtail  0.001644  0.001831  0.001061  0.003197  0.001890  0.002010  0.001314  \n",
       "Meals  0.001420  0.001741  0.000848  0.001890  0.002630  0.001765  0.001129  \n",
       "Fin    0.002150  0.002270  0.001594  0.002010  0.001765  0.003459  0.001945  \n",
       "Other  0.001686  0.001557  0.001896  0.001314  0.001129  0.001945  0.003655  \n",
       "\n",
       "[30 rows x 30 columns]"
      ]
     },
     "execution_count": 33,
     "metadata": {},
     "output_type": "execute_result"
    }
   ],
   "source": [
    "cov"
   ]
  },
  {
   "cell_type": "code",
   "execution_count": 34,
   "metadata": {},
   "outputs": [],
   "source": [
    "def portfolio_return(weights, returns):\n",
    "    \"\"\"\n",
    "    Weights -> Returns\n",
    "    \"\"\"\n",
    "    return weights.T @ returns\n",
    "\n",
    "def portfolio_vol(weights, covmat):\n",
    "    \"\"\"\n",
    "    Weights -> Volatility\n",
    "    \"\"\"\n",
    "    return (weights.T @ covmat @ weights)**0.5\n"
   ]
  },
  {
   "cell_type": "code",
   "execution_count": 37,
   "metadata": {},
   "outputs": [
    {
     "data": {
      "text/plain": [
       "Food     0.116799\n",
       "Beer     0.141126\n",
       "Smoke    0.107830\n",
       "Coal     0.414689\n",
       "dtype: float64"
      ]
     },
     "execution_count": 37,
     "metadata": {},
     "output_type": "execute_result"
    }
   ],
   "source": [
    "l = [\"Food\", \"Beer\", \"Smoke\", \"Coal\"]\n",
    "er[l]"
   ]
  },
  {
   "cell_type": "code",
   "execution_count": 45,
   "metadata": {},
   "outputs": [
    {
     "data": {
      "text/html": [
       "<div>\n",
       "<style scoped>\n",
       "    .dataframe tbody tr th:only-of-type {\n",
       "        vertical-align: middle;\n",
       "    }\n",
       "\n",
       "    .dataframe tbody tr th {\n",
       "        vertical-align: top;\n",
       "    }\n",
       "\n",
       "    .dataframe thead th {\n",
       "        text-align: right;\n",
       "    }\n",
       "</style>\n",
       "<table border=\"1\" class=\"dataframe\">\n",
       "  <thead>\n",
       "    <tr style=\"text-align: right;\">\n",
       "      <th></th>\n",
       "      <th>Food</th>\n",
       "      <th>Beer</th>\n",
       "      <th>Smoke</th>\n",
       "      <th>Coal</th>\n",
       "    </tr>\n",
       "  </thead>\n",
       "  <tbody>\n",
       "    <tr>\n",
       "      <th>Food</th>\n",
       "      <td>0.002609</td>\n",
       "      <td>0.002379</td>\n",
       "      <td>0.002061</td>\n",
       "      <td>0.000027</td>\n",
       "    </tr>\n",
       "    <tr>\n",
       "      <th>Beer</th>\n",
       "      <td>0.002379</td>\n",
       "      <td>0.005264</td>\n",
       "      <td>0.001359</td>\n",
       "      <td>0.001728</td>\n",
       "    </tr>\n",
       "    <tr>\n",
       "      <th>Smoke</th>\n",
       "      <td>0.002061</td>\n",
       "      <td>0.001359</td>\n",
       "      <td>0.008349</td>\n",
       "      <td>-0.000733</td>\n",
       "    </tr>\n",
       "    <tr>\n",
       "      <th>Coal</th>\n",
       "      <td>0.000027</td>\n",
       "      <td>0.001728</td>\n",
       "      <td>-0.000733</td>\n",
       "      <td>0.018641</td>\n",
       "    </tr>\n",
       "  </tbody>\n",
       "</table>\n",
       "</div>"
      ],
      "text/plain": [
       "           Food      Beer     Smoke      Coal\n",
       "Food   0.002609  0.002379  0.002061  0.000027\n",
       "Beer   0.002379  0.005264  0.001359  0.001728\n",
       "Smoke  0.002061  0.001359  0.008349 -0.000733\n",
       "Coal   0.000027  0.001728 -0.000733  0.018641"
      ]
     },
     "execution_count": 45,
     "metadata": {},
     "output_type": "execute_result"
    }
   ],
   "source": [
    "cov.loc[l,l]"
   ]
  },
  {
   "cell_type": "code",
   "execution_count": 39,
   "metadata": {},
   "outputs": [],
   "source": [
    "# Create the weights matrix, it will be created by numpy repeat function\n",
    "import numpy as np\n",
    "weights = np.repeat(1/4, 4)"
   ]
  },
  {
   "cell_type": "code",
   "execution_count": 40,
   "metadata": {},
   "outputs": [
    {
     "data": {
      "text/plain": [
       "array([0.25, 0.25, 0.25, 0.25])"
      ]
     },
     "execution_count": 40,
     "metadata": {},
     "output_type": "execute_result"
    }
   ],
   "source": [
    "weights"
   ]
  },
  {
   "cell_type": "code",
   "execution_count": 42,
   "metadata": {},
   "outputs": [
    {
     "data": {
      "text/plain": [
       "0.19511097196038385"
      ]
     },
     "execution_count": 42,
     "metadata": {},
     "output_type": "execute_result"
    }
   ],
   "source": [
    "rk.portfolio_return(weights, er[l])"
   ]
  },
  {
   "cell_type": "code",
   "execution_count": 46,
   "metadata": {},
   "outputs": [
    {
     "data": {
      "text/plain": [
       "0.05505919577643704"
      ]
     },
     "execution_count": 46,
     "metadata": {},
     "output_type": "execute_result"
    }
   ],
   "source": [
    "rk.portfolio_vol(weights, cov.loc[l, l])"
   ]
  },
  {
   "attachments": {},
   "cell_type": "markdown",
   "metadata": {},
   "source": [
    "# 2 Asset Frontier"
   ]
  },
  {
   "cell_type": "code",
   "execution_count": 47,
   "metadata": {},
   "outputs": [],
   "source": [
    "l = [\"Games\", \"Fin\"]"
   ]
  },
  {
   "cell_type": "code",
   "execution_count": 48,
   "metadata": {},
   "outputs": [
    {
     "data": {
      "text/plain": [
       "[array([0., 1.]),\n",
       " array([0.05263158, 0.94736842]),\n",
       " array([0.10526316, 0.89473684]),\n",
       " array([0.15789474, 0.84210526]),\n",
       " array([0.21052632, 0.78947368]),\n",
       " array([0.26315789, 0.73684211]),\n",
       " array([0.31578947, 0.68421053]),\n",
       " array([0.36842105, 0.63157895]),\n",
       " array([0.42105263, 0.57894737]),\n",
       " array([0.47368421, 0.52631579]),\n",
       " array([0.52631579, 0.47368421]),\n",
       " array([0.57894737, 0.42105263]),\n",
       " array([0.63157895, 0.36842105]),\n",
       " array([0.68421053, 0.31578947]),\n",
       " array([0.73684211, 0.26315789]),\n",
       " array([0.78947368, 0.21052632]),\n",
       " array([0.84210526, 0.15789474]),\n",
       " array([0.89473684, 0.10526316]),\n",
       " array([0.94736842, 0.05263158]),\n",
       " array([1., 0.])]"
      ]
     },
     "execution_count": 48,
     "metadata": {},
     "output_type": "execute_result"
    }
   ],
   "source": [
    "n_points = 20\n",
    "weights = [np.array([w, 1-w]) for w in np.linspace(0, 1, n_points)]\n",
    "weights "
   ]
  },
  {
   "cell_type": "code",
   "execution_count": 50,
   "metadata": {},
   "outputs": [
    {
     "data": {
      "text/plain": [
       "<Axes: xlabel='Vol', ylabel='R'>"
      ]
     },
     "execution_count": 50,
     "metadata": {},
     "output_type": "execute_result"
    },
    {
     "data": {
      "image/png": "[encoded data removed]",
      "text/plain": [
       "<Figure size 640x480 with 1 Axes>"
      ]
     },
     "metadata": {},
     "output_type": "display_data"
    }
   ],
   "source": [
    "import pandas as pd\n",
    "rets = [rk.portfolio_return(w, er[l]) for w in weights]\n",
    "vols = [rk.portfolio_vol(w, cov.loc[l, l]) for w in weights]\n",
    "ef = pd.DataFrame({\"R\": rets, \"Vol\":vols})\n",
    "ef.plot.scatter(x=\"Vol\", y=\"R\")"
   ]
  },
  {
   "cell_type": "code",
   "execution_count": 52,
   "metadata": {},
   "outputs": [
    {
     "data": {
      "text/plain": [
       "<Axes: xlabel='Volatility'>"
      ]
     },
     "execution_count": 52,
     "metadata": {},
     "output_type": "execute_result"
    },
    {
     "data": {
      "image/png": "[encoded data removed]",
      "text/plain": [
       "<Figure size 640x480 with 1 Axes>"
      ]
     },
     "metadata": {},
     "output_type": "display_data"
    }
   ],
   "source": [
    "l = [\"Fin\", \"Beer\"]\n",
    "rk.plot_2aef(25, er[l], cov.loc[l, l], style = \".\")"
   ]
  },
  {
   "attachments": {},
   "cell_type": "markdown",
   "metadata": {},
   "source": [
    "# N-Asset Efficient Frontier"
   ]
  },
  {
   "cell_type": "code",
   "execution_count": 75,
   "metadata": {},
   "outputs": [
    {
     "name": "stdout",
     "output_type": "stream",
     "text": [
      "The autoreload extension is already loaded. To reload it, use:\n",
      "  %reload_ext autoreload\n"
     ]
    }
   ],
   "source": [
    "%load_ext autoreload\n",
    "%autoreload 2\n",
    "\n",
    "ind = rk.get_ind_returns()\n",
    "er = rk.annualize_rets(ind[\"1996\":\"2000\"], 12)\n",
    "cov = ind[\"1996\":\"2000\"].cov()"
   ]
  },
  {
   "cell_type": "code",
   "execution_count": 87,
   "metadata": {},
   "outputs": [],
   "source": [
    "def optimal_weights(n_points, er, cov):\n",
    "    \"\"\"\n",
    "    List of weights to run the optimizer on to minimize the vol\n",
    "    \"\"\"\n",
    "    target_rs = np.linspace(er.min(), er.max(), n_points)\n",
    "    weights = [rk.minimize_vol(target_return, er, cov) for target_return in target_rs]\n",
    "    return weights\n",
    "\n",
    "def plot_ef(n_points, er, cov, style=\".-\"):\n",
    "    \"\"\"\n",
    "    Plots the N-asset efficient frontier\n",
    "    \"\"\"\n",
    "    weights = optimal_weights(n_points, er, cov)\n",
    "    rets = [rk.portfolio_return(w, er) for w in weights]\n",
    "    vols = [rk.portfolio_vol(w, cov) for w in weights]\n",
    "    ef = pd.DataFrame({\n",
    "        \"Returns\": rets,\n",
    "        \"Volatility\": vols\n",
    "    })\n",
    "    return ef.plot.line(x = \"Volatility\", y=\"Returns\", style=style)"
   ]
  },
  {
   "cell_type": "code",
   "execution_count": 71,
   "metadata": {},
   "outputs": [],
   "source": [
    "l = ['Games', 'Fin']"
   ]
  },
  {
   "cell_type": "code",
   "execution_count": 80,
   "metadata": {},
   "outputs": [
    {
     "data": {
      "text/plain": [
       "0.056163669406706564"
      ]
     },
     "execution_count": 80,
     "metadata": {},
     "output_type": "execute_result"
    }
   ],
   "source": [
    "w15 = rk.minimize_vol(0.15, er[l], cov.loc[l,l])\n",
    "vol15 = rk.portfolio_vol(w15, cov.loc[l,l])\n",
    "vol15"
   ]
  },
  {
   "cell_type": "code",
   "execution_count": 81,
   "metadata": {},
   "outputs": [
    {
     "data": {
      "text/plain": [
       "array([0.47287631, 0.52712369])"
      ]
     },
     "execution_count": 81,
     "metadata": {},
     "output_type": "execute_result"
    }
   ],
   "source": [
    "w15"
   ]
  },
  {
   "cell_type": "code",
   "execution_count": 85,
   "metadata": {},
   "outputs": [
    {
     "data": {
      "text/plain": [
       "<Axes: xlabel='Volatility'>"
      ]
     },
     "execution_count": 85,
     "metadata": {},
     "output_type": "execute_result"
    },
    {
     "data": {
      "image/png": "[encoded data removed]",
      "text/plain": [
       "<Figure size 640x480 with 1 Axes>"
      ]
     },
     "metadata": {},
     "output_type": "display_data"
    }
   ],
   "source": [
    "rk.plot_2aef(20, er[l], cov.loc[l,l])\n",
    "# We can see that when we want a 15 percent return the volatility is also in between 0.056-0.057"
   ]
  },
  {
   "cell_type": "code",
   "execution_count": 88,
   "metadata": {},
   "outputs": [
    {
     "data": {
      "text/plain": [
       "<Axes: xlabel='Volatility'>"
      ]
     },
     "execution_count": 88,
     "metadata": {},
     "output_type": "execute_result"
    },
    {
     "data": {
      "image/png": "[encoded data removed]",
      "text/plain": [
       "<Figure size 640x480 with 1 Axes>"
      ]
     },
     "metadata": {},
     "output_type": "display_data"
    }
   ],
   "source": [
    "l = [\"Smoke\", \"Fin\", \"Games\", \"Coal\"]\n",
    "rk.plot_ef(25, er[l], cov.loc[l, l])"
   ]
  },
  {
   "cell_type": "code",
   "execution_count": null,
   "metadata": {},
   "outputs": [],
   "source": []
  }
 ],
 "metadata": {
  "kernelspec": {
   "display_name": "base",
   "language": "python",
   "name": "python3"
  },
  "language_info": {
   "codemirror_mode": {
    "name": "ipython",
    "version": 3
   },
   "file_extension": ".py",
   "mimetype": "text/x-python",
   "name": "python",
   "nbconvert_exporter": "python",
   "pygments_lexer": "ipython3",
   "version": "3.10.9"
  },
  "orig_nbformat": 4
 },
 "nbformat": 4,
 "nbformat_minor": 2
}
