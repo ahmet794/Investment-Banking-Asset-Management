{
 "cells": [
  {
   "attachments": {},
   "cell_type": "markdown",
   "id": "8a051e95",
   "metadata": {},
   "source": [
    "# Asset-Liability Management\n",
    "\n",
    "Funding ratio is an important indicator for telling us what is the fraction of \n",
    "liabilities that you are able to cover given the existing assets.\n",
    "\n",
    "If the funding ratio is 100% or above that you are in a good shape because you are able to cover those liabilities.\n",
    "\n",
    "\n"
   ]
  },
  {
   "attachments": {},
   "cell_type": "markdown",
   "id": "0e8ede39",
   "metadata": {},
   "source": [
    "# Present Value of Liabilities and Funding Ratio\n",
    "\n",
    "In this lab session, we'll examine how to discount future liabilities to compute the present value of future liabilities, and measure the funding ratio.\n",
    "\n",
    "The funding ratio is the ratio of the current value of assets to the present value of the liabilities.\n",
    "\n",
    "In order to compute the present value, we need to discount the amount of the liability based on the relevant interest rate derived from the yield curve.\n",
    "\n",
    "For simplicity, we'll assume that the yield curve is flat, and so the interest rate is the same for all horizons.\n",
    "\n",
    "The present value of a set of liabilities $L$ where each liability $L_i$ is due at time $t_i$ is give by:\n",
    "\n",
    "$$ PV(L) = \\sum_{i=1}^{k} B(t_i) L_i$$\n",
    "\n",
    "where $B(t_i)$ is the price of a pure discount bond that pays 1 dollar at time $t_i$\n",
    "\n",
    "If we assume the yield curve is flat and the annual rate of interest is $r$ then $B(t)$ is given by\n",
    "\n",
    "$$B(t) = \\frac{1}{(1+r)^t}$$\n",
    "\n"
   ]
  },
  {
   "cell_type": "code",
   "execution_count": 2,
   "id": "2e5d603e",
   "metadata": {},
   "outputs": [
    {
     "name": "stdout",
     "output_type": "stream",
     "text": [
      "The autoreload extension is already loaded. To reload it, use:\n",
      "  %reload_ext autoreload\n"
     ]
    }
   ],
   "source": [
    "import numpy as np\n",
    "import pandas as pd\n",
    "import risk_kit as rk\n",
    "\n",
    "%load_ext autoreload\n",
    "%autoreload 2"
   ]
  },
  {
   "cell_type": "code",
   "execution_count": 3,
   "id": "f3e43f6d",
   "metadata": {},
   "outputs": [],
   "source": [
    "def discount(t, r):\n",
    "    \"\"\"\n",
    "    Compute the price of a pure discount bond that pays a dollar at a time t given interest rate r\n",
    "    \"\"\"\n",
    "    return (1+r)**(-t)"
   ]
  },
  {
   "cell_type": "code",
   "execution_count": 4,
   "id": "7fc6b794",
   "metadata": {},
   "outputs": [
    {
     "data": {
      "text/plain": [
       "0.7440939148967249"
      ]
     },
     "execution_count": 4,
     "metadata": {},
     "output_type": "execute_result"
    }
   ],
   "source": [
    "discount(10, 0.03)"
   ]
  },
  {
   "cell_type": "code",
   "execution_count": 5,
   "id": "edcb03eb",
   "metadata": {},
   "outputs": [
    {
     "data": {
      "text/plain": [
       "1.0"
      ]
     },
     "execution_count": 5,
     "metadata": {},
     "output_type": "execute_result"
    }
   ],
   "source": [
    "0.7440939148967249*(1.03**10)"
   ]
  },
  {
   "cell_type": "code",
   "execution_count": 8,
   "id": "185d3246",
   "metadata": {},
   "outputs": [],
   "source": [
    "def pv(l ,r):\n",
    "    \"\"\"\n",
    "    Computes the peresent value of a sequence of liabilities\n",
    "    l is indexed by the time and the values are the amounts of each liability\n",
    "    returns the peresent value of the sequence\n",
    "    \"\"\"\n",
    "\n",
    "    dates = l.index\n",
    "    discounts = discount(dates, r)\n",
    "    return (discounts*l).sum()"
   ]
  },
  {
   "cell_type": "code",
   "execution_count": 7,
   "id": "a00dc66f",
   "metadata": {},
   "outputs": [],
   "source": [
    "liabilities = pd.Series(data=[1, 1.5, 2, 2.5], index = [3, 3.5, 4, 4.5])"
   ]
  },
  {
   "cell_type": "code",
   "execution_count": 10,
   "id": "70fd8d25",
   "metadata": {},
   "outputs": [
    {
     "data": {
      "text/plain": [
       "6.233320315080045"
      ]
     },
     "execution_count": 10,
     "metadata": {},
     "output_type": "execute_result"
    }
   ],
   "source": [
    "pv(liabilities, 0.03)"
   ]
  },
  {
   "cell_type": "code",
   "execution_count": 11,
   "id": "88631c73",
   "metadata": {},
   "outputs": [
    {
     "data": {
      "text/plain": [
       "3.0    1.0\n",
       "3.5    1.5\n",
       "4.0    2.0\n",
       "4.5    2.5\n",
       "dtype: float64"
      ]
     },
     "execution_count": 11,
     "metadata": {},
     "output_type": "execute_result"
    }
   ],
   "source": [
    "liabilities"
   ]
  },
  {
   "cell_type": "code",
   "execution_count": 13,
   "id": "f7356af8",
   "metadata": {},
   "outputs": [],
   "source": [
    "def funding_ratio(asset_value, liabilities, r):\n",
    "    \"\"\"\n",
    "    Computes the funding ratio of some assets given liabilities and interest rate\n",
    "    \"\"\"\n",
    "    return asset_value/pv(liabilities, r)"
   ]
  },
  {
   "cell_type": "code",
   "execution_count": 15,
   "id": "1d366397",
   "metadata": {},
   "outputs": [
    {
     "data": {
      "text/plain": [
       "0.8021407126958777"
      ]
     },
     "execution_count": 15,
     "metadata": {},
     "output_type": "execute_result"
    }
   ],
   "source": [
    "funding_ratio(5, liabilities, 0.03)\n",
    "# Means that we have 80% of our liabilities covered."
   ]
  },
  {
   "cell_type": "code",
   "execution_count": 17,
   "id": "39331419",
   "metadata": {},
   "outputs": [
    {
     "data": {
      "text/plain": [
       "0.7720304366941648"
      ]
     },
     "execution_count": 17,
     "metadata": {},
     "output_type": "execute_result"
    }
   ],
   "source": [
    "funding_ratio(5, liabilities, 0.02)\n",
    "# Interest rate going down for funding ratios is not good as our \n",
    "# bonds will not grow as fast as if there was more interest rates"
   ]
  },
  {
   "cell_type": "code",
   "execution_count": 18,
   "id": "3c6c7cdf",
   "metadata": {},
   "outputs": [
    {
     "data": {
      "text/plain": [
       "0.8649082768407927"
      ]
     },
     "execution_count": 18,
     "metadata": {},
     "output_type": "execute_result"
    }
   ],
   "source": [
    "funding_ratio(5, liabilities, 0.05)"
   ]
  },
  {
   "cell_type": "code",
   "execution_count": 19,
   "id": "eb339547",
   "metadata": {},
   "outputs": [],
   "source": [
    "import ipywidgets as widgets\n",
    "from IPython.display import display\n",
    "%matplotlib inline"
   ]
  },
  {
   "cell_type": "code",
   "execution_count": 20,
   "id": "5f8a110d",
   "metadata": {},
   "outputs": [],
   "source": [
    "def show_funding_ratio(assets, r):\n",
    "    fr = funding_ratio(assets, liabilities, r)\n",
    "    print(f'{fr*100:.2f}')"
   ]
  },
  {
   "cell_type": "code",
   "execution_count": 22,
   "id": "9f85af39",
   "metadata": {},
   "outputs": [
    {
     "data": {
      "application/vnd.jupyter.widget-view+json": {
       "model_id": "5b74e57ad60a404e8eaf47f5a9b7ff0a",
       "version_major": 2,
       "version_minor": 0
      },
      "text/plain": [
       "interactive(children=(IntSlider(value=5, description='assets', max=10, min=1), FloatSlider(value=0.1, descript…"
      ]
     },
     "metadata": {},
     "output_type": "display_data"
    }
   ],
   "source": [
    "controls = widgets.interactive(show_funding_ratio, assets = widgets.IntSlider(min=1, max=10, step=1, value=5),\n",
    "                               r = (0, 0.20, 0.01)\n",
    "                               )\n",
    "\n",
    "display(controls)"
   ]
  },
  {
   "attachments": {},
   "cell_type": "markdown",
   "id": "f5db85ea",
   "metadata": {},
   "source": [
    "# Liability Hedhing Portfolios\n",
    "\n",
    "* Institutional investor's main concern is an **unexpected increase** in the present value of their liabilities\n",
    "\n",
    "What can we do to immunize any increase?\n",
    "\n",
    "* Goal Hedging Portfolios come in hadny for these increases.\n",
    "\n",
    "GHPs are portfolios with payoffs mathcing the date and nominal amount of **liability/goal payments**\n",
    "\n",
    "* A Standard Bond is **not safe** with respect to the goal, because it is too static.\n",
    "\n",
    "* The Goal Hedging Portfolio is a Retirement Bond.\n",
    "\n",
    "* When Cash-Flow Matching is not feasiable/practical, one may use **Factor Exposure Matching** instead."
   ]
  },
  {
   "attachments": {},
   "cell_type": "markdown",
   "id": "ace05747",
   "metadata": {},
   "source": [
    "# Simulating Interest Rate Changes and Liability Hedging\n",
    "### Implementing the Cox Ingersoll Ross Model for interest rates\n",
    "\n",
    "We saw in the previous lab that when you look at your financial condition in terms of funding ratio, rather than asset value, even cash can be a risky asset.\n",
    "\n",
    "We're going to simulate changes in interest rates using the Cox-Ingersoll-Ross model, usually just called the CIR model. It is very similar to what we have already done for generating random stock prices. Instead of a Geometric Brownian Motion, the mean reversion model features parameters to control the speed of mean reversion as well as the long term average rate.\n",
    "\n",
    "$$ dr_{t}=a(b-r_{t})\\,dt+\\sigma {\\sqrt  {r_{t}}}\\,dW_{t} $$\n",
    "\n",
    "where $a$ is the speed of mean reversion and $b$ is the long term mean rate and $\\sigma$ is the volatility parameter.\n",
    "\n",
    "This can be read as describing the change in interest at any point of time as a multiple of the distance of the current rate from it's long term mean plus a random value that depends on the volatility parameter.\n",
    "\n",
    "Thus, we can start at some rate $r_0$ and generate a sequence of rates over time using the change in rate defined by the stochastic differential equation above. If we eliminate the ${\\sqrt  {r_{t}}}$ term we get the simpler Vasicek model, but the CIR model eliminates the possibility of negative interest rates by shutting down the volatility term as interest rates approach zero. \n",
    "\n",
    "### Short Rate vs Annualized Rate\n",
    "\n",
    "One final piece of math we'll need is that the interest rate being described here is the \"instantaneous\" or \"short rate\" ... we will often want to think about interest rates as annualized rates, which means that the instantaneous rate needs to be compounded into an annual rate as follows:\n",
    "\n",
    "$$ 1 + r_{annual} = e^{r_{inst}} $$\n",
    "\n",
    "### Quick Explanation of Short Rate vs Annual Rate\n",
    "\n",
    "The distinction between the instantaneous rate and the annualized rate is subtle if you have never had an opportunity to think about it, but is best understood in terms of an example:\n",
    "\n",
    "Let's consider the growth of a dollar over a year, if the rate of interest is 100%.\n",
    "\n",
    "To answer the question about what that will grow to at the end of the year, we'll need to answer a second question, which is how often will that interest be paid?\n",
    "\n",
    "If it's paid just once at the end of the year, the answer is easy. The dollar grows to 2 dollars (one dollar in principle and another dollar in interest)."
   ]
  },
  {
   "cell_type": "code",
   "execution_count": 23,
   "id": "09219c02",
   "metadata": {},
   "outputs": [
    {
     "data": {
      "text/plain": [
       "2"
      ]
     },
     "execution_count": 23,
     "metadata": {},
     "output_type": "execute_result"
    }
   ],
   "source": [
    "1 + 1*1"
   ]
  },
  {
   "attachments": {},
   "cell_type": "markdown",
   "id": "b0599701",
   "metadata": {},
   "source": [
    "Now assume that I insist that you pay interest two times a year. i.e. I ask that the interest is compounded more frequently, at a shorter interval than just once a year, and instead it is compounded after every six months. That means, that at the end of 6 months, I pay out one half of the interest (50 cents). However, I now have \\$1.50 for the remaining 6 months, and so the total value at the end of the year is the principal plus interest for the first period (50 cents) plus the interest for the second period which is one half of 1.50: "
   ]
  },
  {
   "cell_type": "code",
   "execution_count": 24,
   "id": "6e530baa",
   "metadata": {},
   "outputs": [
    {
     "data": {
      "text/plain": [
       "2.25"
      ]
     },
     "execution_count": 24,
     "metadata": {},
     "output_type": "execute_result"
    }
   ],
   "source": [
    "1 + 1*.5 + 1.5*.5"
   ]
  },
  {
   "attachments": {},
   "cell_type": "markdown",
   "id": "961c80db",
   "metadata": {},
   "source": [
    "Now let's try compounding it at an even shorter rate of once every 3 months, i.e. 4 times a year. We'd get:"
   ]
  },
  {
   "cell_type": "code",
   "execution_count": 25,
   "id": "e62a0a45",
   "metadata": {},
   "outputs": [
    {
     "data": {
      "text/plain": [
       "2.44140625"
      ]
     },
     "execution_count": 25,
     "metadata": {},
     "output_type": "execute_result"
    }
   ],
   "source": [
    "1 + (1)*.25 + (1 + (1)*.25)*.25 + (1 + (1)*.25 + (1 + (1)*.25)*.25)*.25 + (1 + (1)*.25 + (1 + (1)*.25)*.25 + (1 + (1)*.25 + (1 + (1)*.25)*.25)*.25)*.25"
   ]
  },
  {
   "attachments": {},
   "cell_type": "markdown",
   "id": "e1a95a68",
   "metadata": {},
   "source": [
    "In general, if we compound every 1/N of a year (i.e. N times a year) we get:\n",
    "\n",
    "$$\\left(1+\\frac{r}{N}\\right)^N$$\n"
   ]
  },
  {
   "cell_type": "code",
   "execution_count": 26,
   "id": "154e5219",
   "metadata": {},
   "outputs": [
    {
     "data": {
      "text/plain": [
       "2.25"
      ]
     },
     "execution_count": 26,
     "metadata": {},
     "output_type": "execute_result"
    }
   ],
   "source": [
    "(1+1/2)**2"
   ]
  },
  {
   "cell_type": "code",
   "execution_count": 27,
   "id": "379352b5",
   "metadata": {},
   "outputs": [
    {
     "data": {
      "text/plain": [
       "2.44140625"
      ]
     },
     "execution_count": 27,
     "metadata": {},
     "output_type": "execute_result"
    }
   ],
   "source": [
    "(1+1/4)**4"
   ]
  },
  {
   "cell_type": "code",
   "execution_count": 28,
   "id": "cd9194e5",
   "metadata": {},
   "outputs": [
    {
     "data": {
      "text/plain": [
       "2.7048138294215285"
      ]
     },
     "execution_count": 28,
     "metadata": {},
     "output_type": "execute_result"
    }
   ],
   "source": [
    "(1+1/100)**100"
   ]
  },
  {
   "cell_type": "code",
   "execution_count": 29,
   "id": "0de9ed18",
   "metadata": {},
   "outputs": [
    {
     "data": {
      "text/plain": [
       "2.7181459268249255"
      ]
     },
     "execution_count": 29,
     "metadata": {},
     "output_type": "execute_result"
    }
   ],
   "source": [
    "(1+1/10000)**10000"
   ]
  },
  {
   "attachments": {},
   "cell_type": "markdown",
   "id": "bf942a3a",
   "metadata": {},
   "source": [
    "## Implementation of the CIR Model\n",
    "\n",
    "Let's start by defining a function to convert between instantaneous and annualized rates, and then write the code for generating the evolution of the interest rate:\n"
   ]
  },
  {
   "cell_type": "code",
   "execution_count": 31,
   "id": "e5e2de35",
   "metadata": {},
   "outputs": [
    {
     "name": "stdout",
     "output_type": "stream",
     "text": [
      "The autoreload extension is already loaded. To reload it, use:\n",
      "  %reload_ext autoreload\n"
     ]
    }
   ],
   "source": [
    "import numpy as np\n",
    "import pandas as pd\n",
    "import risk_kit as rk\n",
    "%load_ext autoreload\n",
    "%autoreload 2"
   ]
  },
  {
   "cell_type": "code",
   "execution_count": 32,
   "id": "870370ec",
   "metadata": {},
   "outputs": [],
   "source": [
    "def inst_to_ann(r):\n",
    "    \"\"\"\n",
    "    Converts short rate to an annualized rate\n",
    "    \"\"\"\n",
    "    return np.expm1(r)\n",
    "\n",
    "def ann_to_inst(r):\n",
    "    \"\"\"\n",
    "    Covert annualized to a short rate\n",
    "    \"\"\"\n",
    "    return np.log1p(r)"
   ]
  },
  {
   "cell_type": "code",
   "execution_count": null,
   "id": "e816ae5f",
   "metadata": {},
   "outputs": [],
   "source": []
  }
 ],
 "metadata": {
  "kernelspec": {
   "display_name": "base",
   "language": "python",
   "name": "python3"
  },
  "language_info": {
   "codemirror_mode": {
    "name": "ipython",
    "version": 3
   },
   "file_extension": ".py",
   "mimetype": "text/x-python",
   "name": "python",
   "nbconvert_exporter": "python",
   "pygments_lexer": "ipython3",
   "version": "3.10.9"
  }
 },
 "nbformat": 4,
 "nbformat_minor": 5
}
