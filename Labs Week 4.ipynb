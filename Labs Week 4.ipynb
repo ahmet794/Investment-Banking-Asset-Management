{
 "cells": [
  {
   "attachments": {},
   "cell_type": "markdown",
   "id": "8a051e95",
   "metadata": {},
   "source": [
    "# Asset-Liability Management\n",
    "\n",
    "Funding ratio is an important indicator for telling us what is the fraction of \n",
    "liabilities that you are able to cover given the existing assets.\n",
    "\n",
    "If the funding ratio is 100% or above that you are in a good shape because you are able to cover those liabilities.\n",
    "\n",
    "\n"
   ]
  },
  {
   "attachments": {},
   "cell_type": "markdown",
   "id": "0e8ede39",
   "metadata": {},
   "source": [
    "# Present Value of Liabilities and Funding Ratio\n",
    "\n",
    "In this lab session, we'll examine how to discount future liabilities to compute the present value of future liabilities, and measure the funding ratio.\n",
    "\n",
    "The funding ratio is the ratio of the current value of assets to the present value of the liabilities.\n",
    "\n",
    "In order to compute the present value, we need to discount the amount of the liability based on the relevant interest rate derived from the yield curve.\n",
    "\n",
    "For simplicity, we'll assume that the yield curve is flat, and so the interest rate is the same for all horizons.\n",
    "\n",
    "The present value of a set of liabilities $L$ where each liability $L_i$ is due at time $t_i$ is give by:\n",
    "\n",
    "$$ PV(L) = \\sum_{i=1}^{k} B(t_i) L_i$$\n",
    "\n",
    "where $B(t_i)$ is the price of a pure discount bond that pays 1 dollar at time $t_i$\n",
    "\n",
    "If we assume the yield curve is flat and the annual rate of interest is $r$ then $B(t)$ is given by\n",
    "\n",
    "$$B(t) = \\frac{1}{(1+r)^t}$$\n",
    "\n"
   ]
  },
  {
   "cell_type": "code",
   "execution_count": 2,
   "id": "2e5d603e",
   "metadata": {},
   "outputs": [
    {
     "name": "stdout",
     "output_type": "stream",
     "text": [
      "The autoreload extension is already loaded. To reload it, use:\n",
      "  %reload_ext autoreload\n"
     ]
    }
   ],
   "source": [
    "import numpy as np\n",
    "import pandas as pd\n",
    "import risk_kit as rk\n",
    "\n",
    "%load_ext autoreload\n",
    "%autoreload 2"
   ]
  },
  {
   "cell_type": "code",
   "execution_count": 3,
   "id": "f3e43f6d",
   "metadata": {},
   "outputs": [],
   "source": [
    "def discount(t, r):\n",
    "    \"\"\"\n",
    "    Compute the price of a pure discount bond that pays a dollar at a time t given interest rate r\n",
    "    \"\"\"\n",
    "    return (1+r)**(-t)"
   ]
  },
  {
   "cell_type": "code",
   "execution_count": 4,
   "id": "7fc6b794",
   "metadata": {},
   "outputs": [
    {
     "data": {
      "text/plain": [
       "0.7440939148967249"
      ]
     },
     "execution_count": 4,
     "metadata": {},
     "output_type": "execute_result"
    }
   ],
   "source": [
    "discount(10, 0.03)"
   ]
  },
  {
   "cell_type": "code",
   "execution_count": 5,
   "id": "edcb03eb",
   "metadata": {},
   "outputs": [
    {
     "data": {
      "text/plain": [
       "1.0"
      ]
     },
     "execution_count": 5,
     "metadata": {},
     "output_type": "execute_result"
    }
   ],
   "source": [
    "0.7440939148967249*(1.03**10)"
   ]
  },
  {
   "cell_type": "code",
   "execution_count": 8,
   "id": "185d3246",
   "metadata": {},
   "outputs": [],
   "source": [
    "def pv(l ,r):\n",
    "    \"\"\"\n",
    "    Computes the peresent value of a sequence of liabilities\n",
    "    l is indexed by the time and the values are the amounts of each liability\n",
    "    returns the peresent value of the sequence\n",
    "    \"\"\"\n",
    "\n",
    "    dates = l.index\n",
    "    discounts = discount(dates, r)\n",
    "    return (discounts*l).sum()"
   ]
  },
  {
   "cell_type": "code",
   "execution_count": 7,
   "id": "a00dc66f",
   "metadata": {},
   "outputs": [],
   "source": [
    "liabilities = pd.Series(data=[1, 1.5, 2, 2.5], index = [3, 3.5, 4, 4.5])"
   ]
  },
  {
   "cell_type": "code",
   "execution_count": 10,
   "id": "70fd8d25",
   "metadata": {},
   "outputs": [
    {
     "data": {
      "text/plain": [
       "6.233320315080045"
      ]
     },
     "execution_count": 10,
     "metadata": {},
     "output_type": "execute_result"
    }
   ],
   "source": [
    "pv(liabilities, 0.03)"
   ]
  },
  {
   "cell_type": "code",
   "execution_count": 11,
   "id": "88631c73",
   "metadata": {},
   "outputs": [
    {
     "data": {
      "text/plain": [
       "3.0    1.0\n",
       "3.5    1.5\n",
       "4.0    2.0\n",
       "4.5    2.5\n",
       "dtype: float64"
      ]
     },
     "execution_count": 11,
     "metadata": {},
     "output_type": "execute_result"
    }
   ],
   "source": [
    "liabilities"
   ]
  },
  {
   "cell_type": "code",
   "execution_count": 13,
   "id": "f7356af8",
   "metadata": {},
   "outputs": [],
   "source": [
    "def funding_ratio(asset_value, liabilities, r):\n",
    "    \"\"\"\n",
    "    Computes the funding ratio of some assets given liabilities and interest rate\n",
    "    \"\"\"\n",
    "    return asset_value/pv(liabilities, r)"
   ]
  },
  {
   "cell_type": "code",
   "execution_count": 15,
   "id": "1d366397",
   "metadata": {},
   "outputs": [
    {
     "data": {
      "text/plain": [
       "0.8021407126958777"
      ]
     },
     "execution_count": 15,
     "metadata": {},
     "output_type": "execute_result"
    }
   ],
   "source": [
    "funding_ratio(5, liabilities, 0.03)\n",
    "# Means that we have 80% of our liabilities covered."
   ]
  },
  {
   "cell_type": "code",
   "execution_count": 17,
   "id": "39331419",
   "metadata": {},
   "outputs": [
    {
     "data": {
      "text/plain": [
       "0.7720304366941648"
      ]
     },
     "execution_count": 17,
     "metadata": {},
     "output_type": "execute_result"
    }
   ],
   "source": [
    "funding_ratio(5, liabilities, 0.02)\n",
    "# Interest rate going down for funding ratios is not good as our \n",
    "# bonds will not grow as fast as if there was more interest rates"
   ]
  },
  {
   "cell_type": "code",
   "execution_count": 18,
   "id": "3c6c7cdf",
   "metadata": {},
   "outputs": [
    {
     "data": {
      "text/plain": [
       "0.8649082768407927"
      ]
     },
     "execution_count": 18,
     "metadata": {},
     "output_type": "execute_result"
    }
   ],
   "source": [
    "funding_ratio(5, liabilities, 0.05)"
   ]
  },
  {
   "cell_type": "code",
   "execution_count": 19,
   "id": "eb339547",
   "metadata": {},
   "outputs": [],
   "source": [
    "import ipywidgets as widgets\n",
    "from IPython.display import display\n",
    "%matplotlib inline"
   ]
  },
  {
   "cell_type": "code",
   "execution_count": 20,
   "id": "5f8a110d",
   "metadata": {},
   "outputs": [],
   "source": [
    "def show_funding_ratio(assets, r):\n",
    "    fr = funding_ratio(assets, liabilities, r)\n",
    "    print(f'{fr*100:.2f}')"
   ]
  },
  {
   "cell_type": "code",
   "execution_count": 22,
   "id": "9f85af39",
   "metadata": {},
   "outputs": [
    {
     "data": {
      "application/vnd.jupyter.widget-view+json": {
       "model_id": "5b74e57ad60a404e8eaf47f5a9b7ff0a",
       "version_major": 2,
       "version_minor": 0
      },
      "text/plain": [
       "interactive(children=(IntSlider(value=5, description='assets', max=10, min=1), FloatSlider(value=0.1, descript…"
      ]
     },
     "metadata": {},
     "output_type": "display_data"
    }
   ],
   "source": [
    "controls = widgets.interactive(show_funding_ratio, assets = widgets.IntSlider(min=1, max=10, step=1, value=5),\n",
    "                               r = (0, 0.20, 0.01)\n",
    "                               )\n",
    "\n",
    "display(controls)"
   ]
  },
  {
   "cell_type": "code",
   "execution_count": null,
   "id": "f5db85ea",
   "metadata": {},
   "outputs": [],
   "source": []
  }
 ],
 "metadata": {
  "kernelspec": {
   "display_name": "base",
   "language": "python",
   "name": "python3"
  },
  "language_info": {
   "codemirror_mode": {
    "name": "ipython",
    "version": 3
   },
   "file_extension": ".py",
   "mimetype": "text/x-python",
   "name": "python",
   "nbconvert_exporter": "python",
   "pygments_lexer": "ipython3",
   "version": "3.10.9"
  }
 },
 "nbformat": 4,
 "nbformat_minor": 5
}
