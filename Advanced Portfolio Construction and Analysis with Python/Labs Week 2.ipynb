{
 "cells": [
  {
   "cell_type": "markdown",
   "metadata": {},
   "source": [
    "# The Curse of Dimensionality\n",
    "\n",
    "To obtain efficient frontier of N Securities one must estimate:\n",
    "- **N** expected returns and **N** volaitily parameters\n",
    "- [N(N-1)/2] correlations\n",
    "\n",
    "Because we would be needing astronomical numbers as our **N** grows, we run into serious problem as we need a lot of data.\n",
    "\n",
    "To solve this issue we can apply few technics. \n",
    "- No Model Risk - High Sample Risk : Estimate the **The Sample Covariance Estimate**\n",
    "- Constant Correlation Model -> Assume that all the correlation parameters are identical.\n",
    "    \n",
    "    Cut the number [N(N-1)/2] of correlation parameters down to 1\n",
    "    \n",
    "    The optimal estimator of this constant correlation is the \"global\" average.\n",
    "\n",
    "\n",
    "\n"
   ]
  },
  {
   "cell_type": "code",
   "execution_count": null,
   "metadata": {},
   "outputs": [],
   "source": []
  }
 ],
 "metadata": {
  "language_info": {
   "name": "python"
  },
  "orig_nbformat": 4
 },
 "nbformat": 4,
 "nbformat_minor": 2
}
