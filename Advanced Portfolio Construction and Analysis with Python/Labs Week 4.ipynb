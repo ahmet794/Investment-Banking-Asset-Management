{
 "cells": [
  {
   "cell_type": "markdown",
   "metadata": {},
   "source": [
    "# Scientific Diversification\n",
    "\n",
    "- The most attractive portfolio is the **Maximum Sharpe Ratio** portfolio. Though it is hard to estimate because of the complexity of expected returns.\n",
    "\n",
    "- Another good portfolio option is the **Global Minimum Variance** portfolio. We can apply different techniques to diversify when constructing a minimum variance portfolio. "
   ]
  },
  {
   "cell_type": "markdown",
   "metadata": {},
   "source": [
    "# Measuring Risk Contributions\n",
    "\n",
    "- Well balanced portfolios in terms of dollar contributions can be highly concentrated in terms of risk contributions.\n",
    "\n",
    "- It is always useful to know the contribution of each asset to the risk of the portfolio."
   ]
  },
  {
   "cell_type": "markdown",
   "metadata": {},
   "source": [
    "# Risk Parity Portfolios\n",
    "\n",
    "- Risk Parirty Portfolios are well balanced portfolios considering the risk contributions. \n",
    "\n",
    "- Risk Parity Portfolios tend to overweight less risky components.\n",
    "\n",
    "- Risk Parity Portfolios are very popular in practice.\n",
    "\n",
    "- They are extremely popular in practice because they tend to be more risk efficient than traditional market benchmarks."
   ]
  },
  {
   "cell_type": "markdown",
   "metadata": {},
   "source": [
    "# Comparing Portfolios\n",
    "\n",
    "- Cap weighted portfolios are not the best type of portfolios because of their excessive concentration\n",
    "\n",
    "- One can use a variety of diversification methodologies to build more efficient portfolios. EW, GMV, ERP, etc."
   ]
  },
  {
   "cell_type": "code",
   "execution_count": 8,
   "metadata": {},
   "outputs": [
    {
     "name": "stdout",
     "output_type": "stream",
     "text": [
      "The autoreload extension is already loaded. To reload it, use:\n",
      "  %reload_ext autoreload\n"
     ]
    }
   ],
   "source": [
    "import numpy as np\n",
    "import pandas as pd\n",
    "\n",
    "import risk_kit as erk\n",
    "\n",
    "%load_ext autoreload\n",
    "%autoreload 2\n",
    "inds = ['Food', 'Beer', 'Smoke', 'Games', 'Books', 'Hshld', 'Clths', 'Hlth',\n",
    "       'Chems', 'Txtls', 'Cnstr', 'Steel', 'FabPr', 'ElcEq', 'Autos', 'Carry',\n",
    "       'Mines', 'Coal', 'Oil', 'Util', 'Telcm', 'Servs', 'BusEq', 'Paper',\n",
    "       'Trans', 'Whlsl', 'Rtail', 'Meals', 'Fin', 'Other']\n",
    "inds=['Food', 'Hlth', 'Fin','Rtail','Whlsl']\n",
    "ind_rets = erk.get_ind_returns(weighting=\"vw\", n_inds=49)[\"1947\":]\n",
    "ind_mcap = erk.get_ind_market_caps(49, weights=True)[\"1974\":]\n",
    "\n",
    "rets = ind_rets[\"2014\":][inds]\n",
    "cov = rets.cov()\n",
    "caps = ind_rets['2014-01':][inds]"
   ]
  },
  {
   "cell_type": "code",
   "execution_count": 13,
   "metadata": {},
   "outputs": [
    {
     "data": {
      "text/plain": [
       "Fin      0.145361\n",
       "Hlth     0.164483\n",
       "Food     0.166474\n",
       "Whlsl    0.223939\n",
       "Rtail    0.299743\n",
       "dtype: float64"
      ]
     },
     "execution_count": 13,
     "metadata": {},
     "output_type": "execute_result"
    }
   ],
   "source": [
    "ax = erk.risk_contribution(erk.weight_cw(rets, caps), cov)\n",
    "ax.sort_values()"
   ]
  },
  {
   "cell_type": "code",
   "execution_count": 12,
   "metadata": {},
   "outputs": [
    {
     "data": {
      "text/plain": [
       "<Axes: title={'center': 'Risk Contributions of an EW portfolio'}>"
      ]
     },
     "execution_count": 12,
     "metadata": {},
     "output_type": "execute_result"
    },
    {
     "data": {
      "image/png": "[encoded data removed]",
      "text/plain": [
       "<Figure size 640x480 with 1 Axes>"
      ]
     },
     "metadata": {},
     "output_type": "display_data"
    }
   ],
   "source": [
    "ax.plot.bar(title=\"Risk Contributions of an EW portfolio\")"
   ]
  },
  {
   "cell_type": "code",
   "execution_count": null,
   "metadata": {},
   "outputs": [],
   "source": []
  }
 ],
 "metadata": {
  "kernelspec": {
   "display_name": "base",
   "language": "python",
   "name": "python3"
  },
  "language_info": {
   "codemirror_mode": {
    "name": "ipython",
    "version": 3
   },
   "file_extension": ".py",
   "mimetype": "text/x-python",
   "name": "python",
   "nbconvert_exporter": "python",
   "pygments_lexer": "ipython3",
   "version": "3.10.9"
  },
  "orig_nbformat": 4
 },
 "nbformat": 4,
 "nbformat_minor": 2
}
