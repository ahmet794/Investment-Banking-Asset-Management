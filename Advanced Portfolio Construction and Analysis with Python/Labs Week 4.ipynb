{
 "cells": [
  {
   "cell_type": "markdown",
   "metadata": {},
   "source": [
    "# Scientific Diversification\n",
    "\n",
    "- The most attractive portfolio is the **Maximum Sharpe Ratio** portfolio. Though it is hard to estimate because of the complexity of expected returns.\n",
    "- Another good portfolio option is the **Global Minimum Variance** portfolio. We can apply different techniques to diversify when constructing a minimum variance portfolio. "
   ]
  },
  {
   "cell_type": "markdown",
   "metadata": {},
   "source": [
    "# Measuring Risk Contributions\n",
    "\n",
    "- Well balanced portfolios in terms of dollar contributions can be highly concentrated in terms of risk contributions.\n",
    "- It is always useful to know the contribution of each asset to the risk of the portfolio."
   ]
  },
  {
   "cell_type": "code",
   "execution_count": null,
   "metadata": {},
   "outputs": [],
   "source": []
  }
 ],
 "metadata": {
  "language_info": {
   "name": "python"
  },
  "orig_nbformat": 4
 },
 "nbformat": 4,
 "nbformat_minor": 2
}
