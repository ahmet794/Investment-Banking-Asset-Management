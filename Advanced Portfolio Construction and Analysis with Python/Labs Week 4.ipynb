{
 "cells": [
  {
   "cell_type": "markdown",
   "metadata": {},
   "source": [
    "# Scientific Diversification\n",
    "\n",
    "- The most attractive portfolio is the **Maximum Sharpe Ratio** portfolio. Though it is hard to estimate because of the complexity of expected returns.\n",
    "\n",
    "- Another good portfolio option is the **Global Minimum Variance** portfolio. We can apply different techniques to diversify when constructing a minimum variance portfolio. "
   ]
  },
  {
   "cell_type": "markdown",
   "metadata": {},
   "source": [
    "# Measuring Risk Contributions\n",
    "\n",
    "- Well balanced portfolios in terms of dollar contributions can be highly concentrated in terms of risk contributions.\n",
    "\n",
    "- It is always useful to know the contribution of each asset to the risk of the portfolio."
   ]
  },
  {
   "cell_type": "markdown",
   "metadata": {},
   "source": [
    "# Risk Parity Portfolios\n",
    "\n",
    "- Risk Parirty Portfolios are well balanced portfolios considering the risk contributions. \n",
    "\n",
    "- Risk Parity Portfolios tend to overweight less risky components.\n",
    "\n",
    "- Risk Parity Portfolios are very popular in practice.\n",
    "\n",
    "- They are extremely popular in practice because they tend to be more risk efficient than traditional market benchmarks."
   ]
  },
  {
   "cell_type": "markdown",
   "metadata": {},
   "source": [
    "# Comparing Portfolios\n",
    "\n",
    "- Cap weighted portfolios are not the best type of portfolios because of their excessive concentration\n",
    "\n",
    "- One can use a variety of diversification methodologies to build more efficient portfolios. EW, GMV, ERP, etc."
   ]
  },
  {
   "cell_type": "code",
   "execution_count": null,
   "metadata": {},
   "outputs": [],
   "source": [
    "import numpy as np\n",
    "import pandas as pd\n",
    "\n",
    "import risk_kit as erk\n",
    "\n",
    "%load_ext autoreload\n",
    "%autoreload 2\n",
    "inds = ['Food', 'Beer', 'Smoke', 'Games', 'Books', 'Hshld', 'Clths', 'Hlth',\n",
    "       'Chems', 'Txtls', 'Cnstr', 'Steel', 'FabPr', 'ElcEq', 'Autos', 'Carry',\n",
    "       'Mines', 'Coal', 'Oil', 'Util', 'Telcm', 'Servs', 'BusEq', 'Paper',\n",
    "       'Trans', 'Whlsl', 'Rtail', 'Meals', 'Fin', 'Other']\n",
    "inds=['Beer', 'Hlth', 'Fin','Rtail','Whlsl']\n",
    "ind_rets = erk.get_ind_returns(weighting=\"vw\", n_inds=49)[\"1974\":]\n",
    "ind_mcap = erk.get_ind_market_caps(49, weights=True)[\"1974\":]\n",
    "\n",
    "rets = ind_rets[\"2013\":][inds]\n",
    "cov = rets.cov()"
   ]
  }
 ],
 "metadata": {
  "language_info": {
   "name": "python"
  },
  "orig_nbformat": 4
 },
 "nbformat": 4,
 "nbformat_minor": 2
}
