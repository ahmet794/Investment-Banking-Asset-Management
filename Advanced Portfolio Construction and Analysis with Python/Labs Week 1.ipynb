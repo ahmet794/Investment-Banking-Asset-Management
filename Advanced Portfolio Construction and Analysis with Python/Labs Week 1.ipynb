{
 "cells": [
  {
   "attachments": {},
   "cell_type": "markdown",
   "metadata": {},
   "source": [
    "# Investing with 'FACTOR INVESTING'\n",
    "\n",
    "## What is the CAPM?\n",
    "\n",
    "**Capital Asset Pricing Model** CAPM is a financial model to evaluate the expected return of an asset. It provides a framework for understanding the relationship between the asset's risk and its expected return.\n",
    "\n",
    "- CAPM considers market risk to be the primary determinant of an asset's expected return.\n",
    "- Market risk is measured by beta, which represents the asset's sensitivity to market movements.\n",
    "- The CAPM formula is: E(X) = risk free rate + Beta * (Market Return - Risk Free Rate)\n",
    "- The **risk free rate** represents the return on a risk free investment, for example; government bonds.\n",
    "- The CAPM model helps investors determine if the asset value is undervalued or overvalued. \n",
    "\n",
    "\n",
    "\n",
    "\n",
    "\n"
   ]
  },
  {
   "attachments": {},
   "cell_type": "markdown",
   "metadata": {},
   "source": [
    "## What is the Fama-French Three-Factor Model\n",
    "\n",
    "**The Fama-French Three Factor Model** is an extension of the CAPM. This model tries to explain expected returns of an asset by adding three more additional factors.\n",
    "\n",
    "**Key Factors of Fama-French**\n",
    "- Market Risk\n",
    "- Size - Measures the difference in returns between small-cap and large-cap stocks\n",
    "- Value - Measures the difference in returns betweeen high book-to-market ratio and low book-to-market ratio stocks\n",
    "\n",
    "Fama French Model: E(X) = risk free rate + Beta * (Market Return - risk free rate) + size + value\n",
    "\n",
    "By using the additional three factors the Fama-French model aims to better explain the cross-sectional variation in asset returns and provide a more comprehensive approach to asset pricing beyond CAPM's market risk consideration. \n"
   ]
  },
  {
   "attachments": {},
   "cell_type": "markdown",
   "metadata": {},
   "source": [
    "## Cap - Weighted Benchmarks\n",
    "\n",
    "Default approach is to use a **Cap-Weighted Index** as a *Benchmark* for **Active** or **Passive** managers.\n",
    "\n",
    "But Cap-Weighted Indices are very inefficient. They tend to be **heavily concentrated** poorly diversified portfolios.\n",
    "\n",
    "CW Indicies Provide an inefficient diversification of unrewarded and specific risks.\n",
    "\n",
    "**Smart(Weighted) Benchmarks** have been introduced to fix the problem.\n",
    "\n",
    "For example: \n",
    "- Equally-Weighted Benchmarks\n",
    "- Minimum Variance Benchmarks\n",
    "- Risk Parity Benchmarks"
   ]
  },
  {
   "attachments": {},
   "cell_type": "markdown",
   "metadata": {},
   "source": []
  },
  {
   "cell_type": "code",
   "execution_count": 1,
   "metadata": {},
   "outputs": [
    {
     "data": {
      "text/html": [
       "<div>\n",
       "<style scoped>\n",
       "    .dataframe tbody tr th:only-of-type {\n",
       "        vertical-align: middle;\n",
       "    }\n",
       "\n",
       "    .dataframe tbody tr th {\n",
       "        vertical-align: top;\n",
       "    }\n",
       "\n",
       "    .dataframe thead th {\n",
       "        text-align: right;\n",
       "    }\n",
       "</style>\n",
       "<table border=\"1\" class=\"dataframe\">\n",
       "  <thead>\n",
       "    <tr style=\"text-align: right;\">\n",
       "      <th></th>\n",
       "      <th>BRKA</th>\n",
       "    </tr>\n",
       "    <tr>\n",
       "      <th>DATE</th>\n",
       "      <th></th>\n",
       "    </tr>\n",
       "  </thead>\n",
       "  <tbody>\n",
       "    <tr>\n",
       "      <th>1990-01-02</th>\n",
       "      <td>-0.005764</td>\n",
       "    </tr>\n",
       "    <tr>\n",
       "      <th>1990-01-03</th>\n",
       "      <td>0.000000</td>\n",
       "    </tr>\n",
       "    <tr>\n",
       "      <th>1990-01-04</th>\n",
       "      <td>0.005797</td>\n",
       "    </tr>\n",
       "    <tr>\n",
       "      <th>1990-01-05</th>\n",
       "      <td>-0.005764</td>\n",
       "    </tr>\n",
       "    <tr>\n",
       "      <th>1990-01-08</th>\n",
       "      <td>0.000000</td>\n",
       "    </tr>\n",
       "  </tbody>\n",
       "</table>\n",
       "</div>"
      ],
      "text/plain": [
       "                BRKA\n",
       "DATE                \n",
       "1990-01-02 -0.005764\n",
       "1990-01-03  0.000000\n",
       "1990-01-04  0.005797\n",
       "1990-01-05 -0.005764\n",
       "1990-01-08  0.000000"
      ]
     },
     "execution_count": 1,
     "metadata": {},
     "output_type": "execute_result"
    }
   ],
   "source": [
    "import pandas as pd \n",
    "brka_d = pd.read_csv('data/brka_d_ret.csv', parse_dates = True, index_col = 0)\n",
    "brka_d.head()"
   ]
  },
  {
   "attachments": {},
   "cell_type": "markdown",
   "metadata": {},
   "source": [
    "Next, we need to convert these to monthly returns. The simplest way to do so is by using the `.resample` method, which allows you to run an aggregation function on each group of returns in a time series. We'll give it the grouping rule of 'M' which means _monthly_ (consult the `pandas`) documentation for other codes)\n",
    "\n",
    "We want to compound the returns, and we already have the `compound` function in our toolkit, so let's load that up now, and then apply it to the daily returns."
   ]
  },
  {
   "cell_type": "code",
   "execution_count": 4,
   "metadata": {},
   "outputs": [
    {
     "name": "stdout",
     "output_type": "stream",
     "text": [
      "The autoreload extension is already loaded. To reload it, use:\n",
      "  %reload_ext autoreload\n"
     ]
    },
    {
     "data": {
      "text/html": [
       "<div>\n",
       "<style scoped>\n",
       "    .dataframe tbody tr th:only-of-type {\n",
       "        vertical-align: middle;\n",
       "    }\n",
       "\n",
       "    .dataframe tbody tr th {\n",
       "        vertical-align: top;\n",
       "    }\n",
       "\n",
       "    .dataframe thead th {\n",
       "        text-align: right;\n",
       "    }\n",
       "</style>\n",
       "<table border=\"1\" class=\"dataframe\">\n",
       "  <thead>\n",
       "    <tr style=\"text-align: right;\">\n",
       "      <th></th>\n",
       "      <th>BRKA</th>\n",
       "    </tr>\n",
       "    <tr>\n",
       "      <th>DATE</th>\n",
       "      <th></th>\n",
       "    </tr>\n",
       "  </thead>\n",
       "  <tbody>\n",
       "    <tr>\n",
       "      <th>1990-01</th>\n",
       "      <td>-0.140634</td>\n",
       "    </tr>\n",
       "    <tr>\n",
       "      <th>1990-02</th>\n",
       "      <td>-0.030852</td>\n",
       "    </tr>\n",
       "    <tr>\n",
       "      <th>1990-03</th>\n",
       "      <td>-0.069204</td>\n",
       "    </tr>\n",
       "    <tr>\n",
       "      <th>1990-04</th>\n",
       "      <td>-0.003717</td>\n",
       "    </tr>\n",
       "    <tr>\n",
       "      <th>1990-05</th>\n",
       "      <td>0.067164</td>\n",
       "    </tr>\n",
       "  </tbody>\n",
       "</table>\n",
       "</div>"
      ],
      "text/plain": [
       "             BRKA\n",
       "DATE             \n",
       "1990-01 -0.140634\n",
       "1990-02 -0.030852\n",
       "1990-03 -0.069204\n",
       "1990-04 -0.003717\n",
       "1990-05  0.067164"
      ]
     },
     "execution_count": 4,
     "metadata": {},
     "output_type": "execute_result"
    }
   ],
   "source": [
    "import risk_kit as rk\n",
    "\n",
    "%load_ext autoreload\n",
    "%autoreload 2\n",
    "\n",
    "brka_m = brka_d.resample('M').apply(rk.compound).to_period('M')\n",
    "brka_m.head()"
   ]
  },
  {
   "cell_type": "code",
   "execution_count": 5,
   "metadata": {},
   "outputs": [],
   "source": [
    "brka_m.to_csv('brka_m.csv')"
   ]
  },
  {
   "cell_type": "code",
   "execution_count": 7,
   "metadata": {},
   "outputs": [
    {
     "data": {
      "text/html": [
       "<div>\n",
       "<style scoped>\n",
       "    .dataframe tbody tr th:only-of-type {\n",
       "        vertical-align: middle;\n",
       "    }\n",
       "\n",
       "    .dataframe tbody tr th {\n",
       "        vertical-align: top;\n",
       "    }\n",
       "\n",
       "    .dataframe thead th {\n",
       "        text-align: right;\n",
       "    }\n",
       "</style>\n",
       "<table border=\"1\" class=\"dataframe\">\n",
       "  <thead>\n",
       "    <tr style=\"text-align: right;\">\n",
       "      <th></th>\n",
       "      <th>Mkt-RF</th>\n",
       "      <th>SMB</th>\n",
       "      <th>HML</th>\n",
       "      <th>RF</th>\n",
       "    </tr>\n",
       "  </thead>\n",
       "  <tbody>\n",
       "    <tr>\n",
       "      <th>1926-07</th>\n",
       "      <td>0.0296</td>\n",
       "      <td>-0.0230</td>\n",
       "      <td>-0.0287</td>\n",
       "      <td>0.0022</td>\n",
       "    </tr>\n",
       "    <tr>\n",
       "      <th>1926-08</th>\n",
       "      <td>0.0264</td>\n",
       "      <td>-0.0140</td>\n",
       "      <td>0.0419</td>\n",
       "      <td>0.0025</td>\n",
       "    </tr>\n",
       "    <tr>\n",
       "      <th>1926-09</th>\n",
       "      <td>0.0036</td>\n",
       "      <td>-0.0132</td>\n",
       "      <td>0.0001</td>\n",
       "      <td>0.0023</td>\n",
       "    </tr>\n",
       "    <tr>\n",
       "      <th>1926-10</th>\n",
       "      <td>-0.0324</td>\n",
       "      <td>0.0004</td>\n",
       "      <td>0.0051</td>\n",
       "      <td>0.0032</td>\n",
       "    </tr>\n",
       "    <tr>\n",
       "      <th>1926-11</th>\n",
       "      <td>0.0253</td>\n",
       "      <td>-0.0020</td>\n",
       "      <td>-0.0035</td>\n",
       "      <td>0.0031</td>\n",
       "    </tr>\n",
       "  </tbody>\n",
       "</table>\n",
       "</div>"
      ],
      "text/plain": [
       "         Mkt-RF     SMB     HML      RF\n",
       "1926-07  0.0296 -0.0230 -0.0287  0.0022\n",
       "1926-08  0.0264 -0.0140  0.0419  0.0025\n",
       "1926-09  0.0036 -0.0132  0.0001  0.0023\n",
       "1926-10 -0.0324  0.0004  0.0051  0.0032\n",
       "1926-11  0.0253 -0.0020 -0.0035  0.0031"
      ]
     },
     "execution_count": 7,
     "metadata": {},
     "output_type": "execute_result"
    }
   ],
   "source": [
    "fff = rk.get_fff_returns()\n",
    "fff.head()"
   ]
  },
  {
   "attachments": {},
   "cell_type": "markdown",
   "metadata": {},
   "source": [
    "Next, we need to decompose the observed BRKA 1990-May 2012 as in Ang(2014) into the portion that's due to the market and the rest that is not due to the market, using the CAPM as the explanatory model.\n",
    "\n",
    "i.e.\n",
    "\n",
    "$$ R_{brka,t} - R_{f,t} = \\alpha + \\beta(R_{mkt,t} - R_{f,t}) + \\epsilon_t $$\n",
    "\n",
    "We can use the `stats.api` for the linear regression as follows:"
   ]
  },
  {
   "cell_type": "code",
   "execution_count": 8,
   "metadata": {},
   "outputs": [],
   "source": [
    "import statsmodels.api as sm \n",
    "import numpy as np\n",
    "\n",
    "brka_excess = brka_m[\"1990\":\"2012-05\"] - fff.loc['1990':'2012-05', ['RF']].values\n",
    "mkt_excess = fff.loc['1990': '2012-05', ['Mkt-RF']]\n",
    "exp_var = mkt_excess.copy()\n",
    "exp_var['Constant'] = 1\n",
    "lm = sm.OLS(brka_excess, exp_var).fit()"
   ]
  },
  {
   "cell_type": "code",
   "execution_count": 9,
   "metadata": {},
   "outputs": [
    {
     "data": {
      "text/html": [
       "<table class=\"simpletable\">\n",
       "<caption>OLS Regression Results</caption>\n",
       "<tr>\n",
       "  <th>Dep. Variable:</th>          <td>BRKA</td>       <th>  R-squared:         </th> <td>   0.154</td>\n",
       "</tr>\n",
       "<tr>\n",
       "  <th>Model:</th>                   <td>OLS</td>       <th>  Adj. R-squared:    </th> <td>   0.150</td>\n",
       "</tr>\n",
       "<tr>\n",
       "  <th>Method:</th>             <td>Least Squares</td>  <th>  F-statistic:       </th> <td>   48.45</td>\n",
       "</tr>\n",
       "<tr>\n",
       "  <th>Date:</th>             <td>Sat, 22 Jul 2023</td> <th>  Prob (F-statistic):</th> <td>2.62e-11</td>\n",
       "</tr>\n",
       "<tr>\n",
       "  <th>Time:</th>                 <td>21:44:20</td>     <th>  Log-Likelihood:    </th> <td>  388.47</td>\n",
       "</tr>\n",
       "<tr>\n",
       "  <th>No. Observations:</th>      <td>   269</td>      <th>  AIC:               </th> <td>  -772.9</td>\n",
       "</tr>\n",
       "<tr>\n",
       "  <th>Df Residuals:</th>          <td>   267</td>      <th>  BIC:               </th> <td>  -765.7</td>\n",
       "</tr>\n",
       "<tr>\n",
       "  <th>Df Model:</th>              <td>     1</td>      <th>                     </th>     <td> </td>   \n",
       "</tr>\n",
       "<tr>\n",
       "  <th>Covariance Type:</th>      <td>nonrobust</td>    <th>                     </th>     <td> </td>   \n",
       "</tr>\n",
       "</table>\n",
       "<table class=\"simpletable\">\n",
       "<tr>\n",
       "      <td></td>        <th>coef</th>     <th>std err</th>      <th>t</th>      <th>P>|t|</th>  <th>[0.025</th>    <th>0.975]</th>  \n",
       "</tr>\n",
       "<tr>\n",
       "  <th>Mkt-RF</th>   <td>    0.5402</td> <td>    0.078</td> <td>    6.961</td> <td> 0.000</td> <td>    0.387</td> <td>    0.693</td>\n",
       "</tr>\n",
       "<tr>\n",
       "  <th>Constant</th> <td>    0.0061</td> <td>    0.004</td> <td>    1.744</td> <td> 0.082</td> <td>   -0.001</td> <td>    0.013</td>\n",
       "</tr>\n",
       "</table>\n",
       "<table class=\"simpletable\">\n",
       "<tr>\n",
       "  <th>Omnibus:</th>       <td>45.698</td> <th>  Durbin-Watson:     </th> <td>   2.079</td>\n",
       "</tr>\n",
       "<tr>\n",
       "  <th>Prob(Omnibus):</th> <td> 0.000</td> <th>  Jarque-Bera (JB):  </th> <td> 102.573</td>\n",
       "</tr>\n",
       "<tr>\n",
       "  <th>Skew:</th>          <td> 0.825</td> <th>  Prob(JB):          </th> <td>5.33e-23</td>\n",
       "</tr>\n",
       "<tr>\n",
       "  <th>Kurtosis:</th>      <td> 5.535</td> <th>  Cond. No.          </th> <td>    22.2</td>\n",
       "</tr>\n",
       "</table><br/><br/>Notes:<br/>[1] Standard Errors assume that the covariance matrix of the errors is correctly specified."
      ],
      "text/plain": [
       "<class 'statsmodels.iolib.summary.Summary'>\n",
       "\"\"\"\n",
       "                            OLS Regression Results                            \n",
       "==============================================================================\n",
       "Dep. Variable:                   BRKA   R-squared:                       0.154\n",
       "Model:                            OLS   Adj. R-squared:                  0.150\n",
       "Method:                 Least Squares   F-statistic:                     48.45\n",
       "Date:                Sat, 22 Jul 2023   Prob (F-statistic):           2.62e-11\n",
       "Time:                        21:44:20   Log-Likelihood:                 388.47\n",
       "No. Observations:                 269   AIC:                            -772.9\n",
       "Df Residuals:                     267   BIC:                            -765.7\n",
       "Df Model:                           1                                         \n",
       "Covariance Type:            nonrobust                                         \n",
       "==============================================================================\n",
       "                 coef    std err          t      P>|t|      [0.025      0.975]\n",
       "------------------------------------------------------------------------------\n",
       "Mkt-RF         0.5402      0.078      6.961      0.000       0.387       0.693\n",
       "Constant       0.0061      0.004      1.744      0.082      -0.001       0.013\n",
       "==============================================================================\n",
       "Omnibus:                       45.698   Durbin-Watson:                   2.079\n",
       "Prob(Omnibus):                  0.000   Jarque-Bera (JB):              102.573\n",
       "Skew:                           0.825   Prob(JB):                     5.33e-23\n",
       "Kurtosis:                       5.535   Cond. No.                         22.2\n",
       "==============================================================================\n",
       "\n",
       "Notes:\n",
       "[1] Standard Errors assume that the covariance matrix of the errors is correctly specified.\n",
       "\"\"\""
      ]
     },
     "execution_count": 9,
     "metadata": {},
     "output_type": "execute_result"
    }
   ],
   "source": [
    "lm.summary()"
   ]
  },
  {
   "cell_type": "code",
   "execution_count": 13,
   "metadata": {},
   "outputs": [
    {
     "data": {
      "text/html": [
       "<div>\n",
       "<style scoped>\n",
       "    .dataframe tbody tr th:only-of-type {\n",
       "        vertical-align: middle;\n",
       "    }\n",
       "\n",
       "    .dataframe tbody tr th {\n",
       "        vertical-align: top;\n",
       "    }\n",
       "\n",
       "    .dataframe thead th {\n",
       "        text-align: right;\n",
       "    }\n",
       "</style>\n",
       "<table border=\"1\" class=\"dataframe\">\n",
       "  <thead>\n",
       "    <tr style=\"text-align: right;\">\n",
       "      <th></th>\n",
       "      <th>Mkt-RF</th>\n",
       "      <th>Constant</th>\n",
       "      <th>Value</th>\n",
       "      <th>Size</th>\n",
       "    </tr>\n",
       "  </thead>\n",
       "  <tbody>\n",
       "    <tr>\n",
       "      <th>1990-01</th>\n",
       "      <td>-0.0785</td>\n",
       "      <td>1</td>\n",
       "      <td>0.0087</td>\n",
       "      <td>-0.0129</td>\n",
       "    </tr>\n",
       "    <tr>\n",
       "      <th>1990-02</th>\n",
       "      <td>0.0111</td>\n",
       "      <td>1</td>\n",
       "      <td>0.0061</td>\n",
       "      <td>0.0103</td>\n",
       "    </tr>\n",
       "    <tr>\n",
       "      <th>1990-03</th>\n",
       "      <td>0.0183</td>\n",
       "      <td>1</td>\n",
       "      <td>-0.0290</td>\n",
       "      <td>0.0152</td>\n",
       "    </tr>\n",
       "    <tr>\n",
       "      <th>1990-04</th>\n",
       "      <td>-0.0336</td>\n",
       "      <td>1</td>\n",
       "      <td>-0.0255</td>\n",
       "      <td>-0.0050</td>\n",
       "    </tr>\n",
       "    <tr>\n",
       "      <th>1990-05</th>\n",
       "      <td>0.0842</td>\n",
       "      <td>1</td>\n",
       "      <td>-0.0374</td>\n",
       "      <td>-0.0257</td>\n",
       "    </tr>\n",
       "  </tbody>\n",
       "</table>\n",
       "</div>"
      ],
      "text/plain": [
       "         Mkt-RF  Constant   Value    Size\n",
       "1990-01 -0.0785         1  0.0087 -0.0129\n",
       "1990-02  0.0111         1  0.0061  0.0103\n",
       "1990-03  0.0183         1 -0.0290  0.0152\n",
       "1990-04 -0.0336         1 -0.0255 -0.0050\n",
       "1990-05  0.0842         1 -0.0374 -0.0257"
      ]
     },
     "execution_count": 13,
     "metadata": {},
     "output_type": "execute_result"
    }
   ],
   "source": [
    "exp_var['Value'] = fff.loc['1990':'2012-05', ['HML']]\n",
    "exp_var['Size'] = fff.loc['1990': '2012-05', ['SMB']]\n",
    "exp_var.head()"
   ]
  },
  {
   "cell_type": "code",
   "execution_count": 11,
   "metadata": {},
   "outputs": [
    {
     "data": {
      "text/html": [
       "<table class=\"simpletable\">\n",
       "<caption>OLS Regression Results</caption>\n",
       "<tr>\n",
       "  <th>Dep. Variable:</th>          <td>BRKA</td>       <th>  R-squared:         </th> <td>   0.290</td>\n",
       "</tr>\n",
       "<tr>\n",
       "  <th>Model:</th>                   <td>OLS</td>       <th>  Adj. R-squared:    </th> <td>   0.282</td>\n",
       "</tr>\n",
       "<tr>\n",
       "  <th>Method:</th>             <td>Least Squares</td>  <th>  F-statistic:       </th> <td>   36.06</td>\n",
       "</tr>\n",
       "<tr>\n",
       "  <th>Date:</th>             <td>Sat, 22 Jul 2023</td> <th>  Prob (F-statistic):</th> <td>1.41e-19</td>\n",
       "</tr>\n",
       "<tr>\n",
       "  <th>Time:</th>                 <td>21:49:24</td>     <th>  Log-Likelihood:    </th> <td>  412.09</td>\n",
       "</tr>\n",
       "<tr>\n",
       "  <th>No. Observations:</th>      <td>   269</td>      <th>  AIC:               </th> <td>  -816.2</td>\n",
       "</tr>\n",
       "<tr>\n",
       "  <th>Df Residuals:</th>          <td>   265</td>      <th>  BIC:               </th> <td>  -801.8</td>\n",
       "</tr>\n",
       "<tr>\n",
       "  <th>Df Model:</th>              <td>     3</td>      <th>                     </th>     <td> </td>   \n",
       "</tr>\n",
       "<tr>\n",
       "  <th>Covariance Type:</th>      <td>nonrobust</td>    <th>                     </th>     <td> </td>   \n",
       "</tr>\n",
       "</table>\n",
       "<table class=\"simpletable\">\n",
       "<tr>\n",
       "      <td></td>        <th>coef</th>     <th>std err</th>      <th>t</th>      <th>P>|t|</th>  <th>[0.025</th>    <th>0.975]</th>  \n",
       "</tr>\n",
       "<tr>\n",
       "  <th>Mkt-RF</th>   <td>    0.6761</td> <td>    0.074</td> <td>    9.155</td> <td> 0.000</td> <td>    0.531</td> <td>    0.821</td>\n",
       "</tr>\n",
       "<tr>\n",
       "  <th>Constant</th> <td>    0.0055</td> <td>    0.003</td> <td>    1.679</td> <td> 0.094</td> <td>   -0.001</td> <td>    0.012</td>\n",
       "</tr>\n",
       "<tr>\n",
       "  <th>Value</th>    <td>    0.3814</td> <td>    0.109</td> <td>    3.508</td> <td> 0.001</td> <td>    0.167</td> <td>    0.595</td>\n",
       "</tr>\n",
       "<tr>\n",
       "  <th>Size</th>     <td>   -0.5023</td> <td>    0.101</td> <td>   -4.962</td> <td> 0.000</td> <td>   -0.702</td> <td>   -0.303</td>\n",
       "</tr>\n",
       "</table>\n",
       "<table class=\"simpletable\">\n",
       "<tr>\n",
       "  <th>Omnibus:</th>       <td>42.261</td> <th>  Durbin-Watson:     </th> <td>   2.146</td>\n",
       "</tr>\n",
       "<tr>\n",
       "  <th>Prob(Omnibus):</th> <td> 0.000</td> <th>  Jarque-Bera (JB):  </th> <td>  67.954</td>\n",
       "</tr>\n",
       "<tr>\n",
       "  <th>Skew:</th>          <td> 0.904</td> <th>  Prob(JB):          </th> <td>1.75e-15</td>\n",
       "</tr>\n",
       "<tr>\n",
       "  <th>Kurtosis:</th>      <td> 4.671</td> <th>  Cond. No.          </th> <td>    37.2</td>\n",
       "</tr>\n",
       "</table><br/><br/>Notes:<br/>[1] Standard Errors assume that the covariance matrix of the errors is correctly specified."
      ],
      "text/plain": [
       "<class 'statsmodels.iolib.summary.Summary'>\n",
       "\"\"\"\n",
       "                            OLS Regression Results                            \n",
       "==============================================================================\n",
       "Dep. Variable:                   BRKA   R-squared:                       0.290\n",
       "Model:                            OLS   Adj. R-squared:                  0.282\n",
       "Method:                 Least Squares   F-statistic:                     36.06\n",
       "Date:                Sat, 22 Jul 2023   Prob (F-statistic):           1.41e-19\n",
       "Time:                        21:49:24   Log-Likelihood:                 412.09\n",
       "No. Observations:                 269   AIC:                            -816.2\n",
       "Df Residuals:                     265   BIC:                            -801.8\n",
       "Df Model:                           3                                         \n",
       "Covariance Type:            nonrobust                                         \n",
       "==============================================================================\n",
       "                 coef    std err          t      P>|t|      [0.025      0.975]\n",
       "------------------------------------------------------------------------------\n",
       "Mkt-RF         0.6761      0.074      9.155      0.000       0.531       0.821\n",
       "Constant       0.0055      0.003      1.679      0.094      -0.001       0.012\n",
       "Value          0.3814      0.109      3.508      0.001       0.167       0.595\n",
       "Size          -0.5023      0.101     -4.962      0.000      -0.702      -0.303\n",
       "==============================================================================\n",
       "Omnibus:                       42.261   Durbin-Watson:                   2.146\n",
       "Prob(Omnibus):                  0.000   Jarque-Bera (JB):               67.954\n",
       "Skew:                           0.904   Prob(JB):                     1.75e-15\n",
       "Kurtosis:                       4.671   Cond. No.                         37.2\n",
       "==============================================================================\n",
       "\n",
       "Notes:\n",
       "[1] Standard Errors assume that the covariance matrix of the errors is correctly specified.\n",
       "\"\"\""
      ]
     },
     "execution_count": 11,
     "metadata": {},
     "output_type": "execute_result"
    }
   ],
   "source": [
    "lm = sm.OLS(brka_excess, exp_var).fit()\n",
    "lm.summary()"
   ]
  },
  {
   "cell_type": "code",
   "execution_count": 15,
   "metadata": {},
   "outputs": [
    {
     "data": {
      "text/html": [
       "<table class=\"simpletable\">\n",
       "<caption>OLS Regression Results</caption>\n",
       "<tr>\n",
       "  <th>Dep. Variable:</th>          <td>BRKA</td>       <th>  R-squared:         </th> <td>   0.290</td>\n",
       "</tr>\n",
       "<tr>\n",
       "  <th>Model:</th>                   <td>OLS</td>       <th>  Adj. R-squared:    </th> <td>   0.282</td>\n",
       "</tr>\n",
       "<tr>\n",
       "  <th>Method:</th>             <td>Least Squares</td>  <th>  F-statistic:       </th> <td>   36.06</td>\n",
       "</tr>\n",
       "<tr>\n",
       "  <th>Date:</th>             <td>Sat, 22 Jul 2023</td> <th>  Prob (F-statistic):</th> <td>1.41e-19</td>\n",
       "</tr>\n",
       "<tr>\n",
       "  <th>Time:</th>                 <td>22:01:03</td>     <th>  Log-Likelihood:    </th> <td>  412.09</td>\n",
       "</tr>\n",
       "<tr>\n",
       "  <th>No. Observations:</th>      <td>   269</td>      <th>  AIC:               </th> <td>  -816.2</td>\n",
       "</tr>\n",
       "<tr>\n",
       "  <th>Df Residuals:</th>          <td>   265</td>      <th>  BIC:               </th> <td>  -801.8</td>\n",
       "</tr>\n",
       "<tr>\n",
       "  <th>Df Model:</th>              <td>     3</td>      <th>                     </th>     <td> </td>   \n",
       "</tr>\n",
       "<tr>\n",
       "  <th>Covariance Type:</th>      <td>nonrobust</td>    <th>                     </th>     <td> </td>   \n",
       "</tr>\n",
       "</table>\n",
       "<table class=\"simpletable\">\n",
       "<tr>\n",
       "      <td></td>        <th>coef</th>     <th>std err</th>      <th>t</th>      <th>P>|t|</th>  <th>[0.025</th>    <th>0.975]</th>  \n",
       "</tr>\n",
       "<tr>\n",
       "  <th>Mkt-RF</th>   <td>    0.6761</td> <td>    0.074</td> <td>    9.155</td> <td> 0.000</td> <td>    0.531</td> <td>    0.821</td>\n",
       "</tr>\n",
       "<tr>\n",
       "  <th>Constant</th> <td>    0.0055</td> <td>    0.003</td> <td>    1.679</td> <td> 0.094</td> <td>   -0.001</td> <td>    0.012</td>\n",
       "</tr>\n",
       "<tr>\n",
       "  <th>Value</th>    <td>    0.3814</td> <td>    0.109</td> <td>    3.508</td> <td> 0.001</td> <td>    0.167</td> <td>    0.595</td>\n",
       "</tr>\n",
       "<tr>\n",
       "  <th>Size</th>     <td>   -0.5023</td> <td>    0.101</td> <td>   -4.962</td> <td> 0.000</td> <td>   -0.702</td> <td>   -0.303</td>\n",
       "</tr>\n",
       "</table>\n",
       "<table class=\"simpletable\">\n",
       "<tr>\n",
       "  <th>Omnibus:</th>       <td>42.261</td> <th>  Durbin-Watson:     </th> <td>   2.146</td>\n",
       "</tr>\n",
       "<tr>\n",
       "  <th>Prob(Omnibus):</th> <td> 0.000</td> <th>  Jarque-Bera (JB):  </th> <td>  67.954</td>\n",
       "</tr>\n",
       "<tr>\n",
       "  <th>Skew:</th>          <td> 0.904</td> <th>  Prob(JB):          </th> <td>1.75e-15</td>\n",
       "</tr>\n",
       "<tr>\n",
       "  <th>Kurtosis:</th>      <td> 4.671</td> <th>  Cond. No.          </th> <td>    37.2</td>\n",
       "</tr>\n",
       "</table><br/><br/>Notes:<br/>[1] Standard Errors assume that the covariance matrix of the errors is correctly specified."
      ],
      "text/plain": [
       "<class 'statsmodels.iolib.summary.Summary'>\n",
       "\"\"\"\n",
       "                            OLS Regression Results                            \n",
       "==============================================================================\n",
       "Dep. Variable:                   BRKA   R-squared:                       0.290\n",
       "Model:                            OLS   Adj. R-squared:                  0.282\n",
       "Method:                 Least Squares   F-statistic:                     36.06\n",
       "Date:                Sat, 22 Jul 2023   Prob (F-statistic):           1.41e-19\n",
       "Time:                        22:01:03   Log-Likelihood:                 412.09\n",
       "No. Observations:                 269   AIC:                            -816.2\n",
       "Df Residuals:                     265   BIC:                            -801.8\n",
       "Df Model:                           3                                         \n",
       "Covariance Type:            nonrobust                                         \n",
       "==============================================================================\n",
       "                 coef    std err          t      P>|t|      [0.025      0.975]\n",
       "------------------------------------------------------------------------------\n",
       "Mkt-RF         0.6761      0.074      9.155      0.000       0.531       0.821\n",
       "Constant       0.0055      0.003      1.679      0.094      -0.001       0.012\n",
       "Value          0.3814      0.109      3.508      0.001       0.167       0.595\n",
       "Size          -0.5023      0.101     -4.962      0.000      -0.702      -0.303\n",
       "==============================================================================\n",
       "Omnibus:                       42.261   Durbin-Watson:                   2.146\n",
       "Prob(Omnibus):                  0.000   Jarque-Bera (JB):               67.954\n",
       "Skew:                           0.904   Prob(JB):                     1.75e-15\n",
       "Kurtosis:                       4.671   Cond. No.                         37.2\n",
       "==============================================================================\n",
       "\n",
       "Notes:\n",
       "[1] Standard Errors assume that the covariance matrix of the errors is correctly specified.\n",
       "\"\"\""
      ]
     },
     "execution_count": 15,
     "metadata": {},
     "output_type": "execute_result"
    }
   ],
   "source": [
    "lm = rk.regress(brka_excess, exp_var, alpha = False)\n",
    "lm.summary()"
   ]
  },
  {
   "attachments": {},
   "cell_type": "markdown",
   "metadata": {},
   "source": [
    "# Performing Sharpe Style Analysis\n",
    "\n",
    "The key to obtaining the weights is our old friend, the quadriatic optimizer. We are asking the optimizer to find the weights that minimizes the square of the difference between the observed series and the returns of a benchmark portfolio that holds the explanatory building blocks in those same weights. This is equivalent to minimizing the _tracking error_ between the two return series.\n",
    "\n",
    "A **low** tracking error indicates that the portofilio closely follows the benchmark, which generally considered desirable for investments aiming to replicate the benchmark's returns. On the other hand, a **higher** tracking error suggests that the portfolio's performance significantly differs from the benchmark, indicating active management or deviation from the benchmark's performance."
   ]
  },
  {
   "cell_type": "code",
   "execution_count": 17,
   "metadata": {},
   "outputs": [],
   "source": [
    "ind = rk.get_ind_returns()['2000':]"
   ]
  },
  {
   "attachments": {},
   "cell_type": "markdown",
   "metadata": {},
   "source": [
    "Let's construct a manager that invests in 30% Beer, 50% in Smoke and 20% in other things that have an average return of 0% and an annualized vol of 15%"
   ]
  },
  {
   "cell_type": "code",
   "execution_count": 18,
   "metadata": {},
   "outputs": [],
   "source": [
    "mgr_r = 0.3*ind[\"Beer\"] + 0.5*ind[\"Smoke\"] + 0.2*np.random.normal(scale=0.15/(12**.5), size=ind.shape[0])"
   ]
  },
  {
   "attachments": {},
   "cell_type": "markdown",
   "metadata": {},
   "source": [
    "Now, assume we knew absolutely nothing about this manager and all we observed was the returns. How could we tell what she was invested in?"
   ]
  },
  {
   "cell_type": "code",
   "execution_count": 25,
   "metadata": {},
   "outputs": [],
   "source": [
    "weights = rk.style_analysis(mgr_r, ind)*100"
   ]
  },
  {
   "cell_type": "code",
   "execution_count": 26,
   "metadata": {},
   "outputs": [
    {
     "data": {
      "text/plain": [
       "<Axes: >"
      ]
     },
     "execution_count": 26,
     "metadata": {},
     "output_type": "execute_result"
    },
    {
     "data": {
      "image/png": "[encoded data removed]",
      "text/plain": [
       "<Figure size 640x480 with 1 Axes>"
      ]
     },
     "metadata": {},
     "output_type": "display_data"
    }
   ],
   "source": [
    "weights.sort_values(ascending=False).head(6).plot.bar()"
   ]
  },
  {
   "cell_type": "code",
   "execution_count": 28,
   "metadata": {},
   "outputs": [
    {
     "data": {
      "text/plain": [
       "Chems   -7.125470\n",
       "ElcEq   -4.027274\n",
       "Telcm   -3.620433\n",
       "BusEq   -3.034226\n",
       "Whlsl   -3.006555\n",
       "dtype: float64"
      ]
     },
     "execution_count": 28,
     "metadata": {},
     "output_type": "execute_result"
    }
   ],
   "source": [
    "coeffs = rk.regress(mgr_r, ind).params*100\n",
    "coeffs.sort_values().head()"
   ]
  },
  {
   "cell_type": "code",
   "execution_count": 29,
   "metadata": {},
   "outputs": [
    {
     "data": {
      "text/plain": [
       "<Axes: >"
      ]
     },
     "execution_count": 29,
     "metadata": {},
     "output_type": "execute_result"
    },
    {
     "data": {
      "image/png": "[encoded data removed]",
      "text/plain": [
       "<Figure size 640x480 with 1 Axes>"
      ]
     },
     "metadata": {},
     "output_type": "display_data"
    }
   ],
   "source": [
    "coeffs.sort_values(ascending=False).head(6).plot.bar()"
   ]
  },
  {
   "attachments": {},
   "cell_type": "markdown",
   "metadata": {},
   "source": [
    "# Warning: Potential Misuse of Style Analysis\n",
    "\n",
    "Style Analysis works best when the explanatory indices are in fact a good specification of what is happening. For instance, it usually gives you very useful and revealing insight if you use a stock market index (such as SPY) and other broad indices, ETFs or mutual funds (such as a Value Fund, a Growth Fund, an International Fund, a Bond Fund etc).\n",
    "\n",
    "Part of the skill in extracting meaningful results is to pick the right set of explanatory variables.\n",
    "\n",
    "However, a part of the challenge with Style Analysis is that it will _always_ return a portfolio. Although it is possible to develop a figure of merit of fit quality similar to an $R^2$, it will still always give you an answer, however unreasonable it might be, and it's not always obvious how much one can rely on the result.\n",
    "\n",
    "For instance, we can try and extract the major industries that Buffer invested in since 2000 as follows:"
   ]
  },
  {
   "cell_type": "code",
   "execution_count": 62,
   "metadata": {},
   "outputs": [
    {
     "data": {
      "text/html": [
       "<div>\n",
       "<style scoped>\n",
       "    .dataframe tbody tr th:only-of-type {\n",
       "        vertical-align: middle;\n",
       "    }\n",
       "\n",
       "    .dataframe tbody tr th {\n",
       "        vertical-align: top;\n",
       "    }\n",
       "\n",
       "    .dataframe thead th {\n",
       "        text-align: right;\n",
       "    }\n",
       "</style>\n",
       "<table border=\"1\" class=\"dataframe\">\n",
       "  <thead>\n",
       "    <tr style=\"text-align: right;\">\n",
       "      <th></th>\n",
       "      <th>BRKA</th>\n",
       "    </tr>\n",
       "    <tr>\n",
       "      <th>DATE</th>\n",
       "      <th></th>\n",
       "    </tr>\n",
       "  </thead>\n",
       "  <tbody>\n",
       "    <tr>\n",
       "      <th>1990-01</th>\n",
       "      <td>-0.140634</td>\n",
       "    </tr>\n",
       "    <tr>\n",
       "      <th>1990-02</th>\n",
       "      <td>-0.030852</td>\n",
       "    </tr>\n",
       "    <tr>\n",
       "      <th>1990-03</th>\n",
       "      <td>-0.069204</td>\n",
       "    </tr>\n",
       "    <tr>\n",
       "      <th>1990-04</th>\n",
       "      <td>-0.003717</td>\n",
       "    </tr>\n",
       "    <tr>\n",
       "      <th>1990-05</th>\n",
       "      <td>0.067164</td>\n",
       "    </tr>\n",
       "  </tbody>\n",
       "</table>\n",
       "</div>"
      ],
      "text/plain": [
       "             BRKA\n",
       "DATE             \n",
       "1990-01 -0.140634\n",
       "1990-02 -0.030852\n",
       "1990-03 -0.069204\n",
       "1990-04 -0.003717\n",
       "1990-05  0.067164"
      ]
     },
     "execution_count": 62,
     "metadata": {},
     "output_type": "execute_result"
    }
   ],
   "source": [
    "brka_m = pd.read_csv(\"data/brka_m.csv\", index_col=0, parse_dates=True).to_period('M')\n",
    "brka_m.head()"
   ]
  },
  {
   "cell_type": "code",
   "execution_count": 68,
   "metadata": {},
   "outputs": [
    {
     "data": {
      "text/plain": [
       "Food     41.35\n",
       "Fin      17.61\n",
       "Meals    12.11\n",
       "Other    11.03\n",
       "Util      7.19\n",
       "Clths     5.99\n",
       "dtype: float64"
      ]
     },
     "execution_count": 68,
     "metadata": {},
     "output_type": "execute_result"
    }
   ],
   "source": [
    "mgr_r_b = brka_m['2000':]['BRKA']\n",
    "weights_b = rk.style_analysis(mgr_r_b, ind)\n",
    "weights_b.sort_values(ascending=False).head(6).round(4)*100"
   ]
  },
  {
   "cell_type": "code",
   "execution_count": 69,
   "metadata": {},
   "outputs": [
    {
     "name": "stdout",
     "output_type": "stream",
     "text": [
      "[*********************100%***********************]  5 of 5 completed\n"
     ]
    },
    {
     "data": {
      "text/html": [
       "<div>\n",
       "<style scoped>\n",
       "    .dataframe tbody tr th:only-of-type {\n",
       "        vertical-align: middle;\n",
       "    }\n",
       "\n",
       "    .dataframe tbody tr th {\n",
       "        vertical-align: top;\n",
       "    }\n",
       "\n",
       "    .dataframe thead th {\n",
       "        text-align: right;\n",
       "    }\n",
       "</style>\n",
       "<table border=\"1\" class=\"dataframe\">\n",
       "  <thead>\n",
       "    <tr style=\"text-align: right;\">\n",
       "      <th></th>\n",
       "      <th>OEF</th>\n",
       "      <th>SLY</th>\n",
       "      <th>SPYG</th>\n",
       "      <th>^GSPC</th>\n",
       "      <th>^IXIC</th>\n",
       "    </tr>\n",
       "    <tr>\n",
       "      <th>Date</th>\n",
       "      <th></th>\n",
       "      <th></th>\n",
       "      <th></th>\n",
       "      <th></th>\n",
       "      <th></th>\n",
       "    </tr>\n",
       "  </thead>\n",
       "  <tbody>\n",
       "    <tr>\n",
       "      <th>2018-02-01</th>\n",
       "      <td>-0.038541</td>\n",
       "      <td>-0.037700</td>\n",
       "      <td>-0.021204</td>\n",
       "      <td>-0.038947</td>\n",
       "      <td>-0.018683</td>\n",
       "    </tr>\n",
       "    <tr>\n",
       "      <th>2018-03-01</th>\n",
       "      <td>-0.039341</td>\n",
       "      <td>0.013643</td>\n",
       "      <td>-0.031774</td>\n",
       "      <td>-0.026884</td>\n",
       "      <td>-0.028813</td>\n",
       "    </tr>\n",
       "    <tr>\n",
       "      <th>2018-04-01</th>\n",
       "      <td>0.007905</td>\n",
       "      <td>0.012407</td>\n",
       "      <td>0.004934</td>\n",
       "      <td>0.002719</td>\n",
       "      <td>0.000399</td>\n",
       "    </tr>\n",
       "    <tr>\n",
       "      <th>2018-05-01</th>\n",
       "      <td>0.027150</td>\n",
       "      <td>0.066771</td>\n",
       "      <td>0.043466</td>\n",
       "      <td>0.021608</td>\n",
       "      <td>0.053189</td>\n",
       "    </tr>\n",
       "    <tr>\n",
       "      <th>2018-06-01</th>\n",
       "      <td>0.000418</td>\n",
       "      <td>0.006753</td>\n",
       "      <td>0.002282</td>\n",
       "      <td>0.004842</td>\n",
       "      <td>0.009161</td>\n",
       "    </tr>\n",
       "  </tbody>\n",
       "</table>\n",
       "</div>"
      ],
      "text/plain": [
       "                 OEF       SLY      SPYG     ^GSPC     ^IXIC\n",
       "Date                                                        \n",
       "2018-02-01 -0.038541 -0.037700 -0.021204 -0.038947 -0.018683\n",
       "2018-03-01 -0.039341  0.013643 -0.031774 -0.026884 -0.028813\n",
       "2018-04-01  0.007905  0.012407  0.004934  0.002719  0.000399\n",
       "2018-05-01  0.027150  0.066771  0.043466  0.021608  0.053189\n",
       "2018-06-01  0.000418  0.006753  0.002282  0.004842  0.009161"
      ]
     },
     "execution_count": 69,
     "metadata": {},
     "output_type": "execute_result"
    }
   ],
   "source": [
    "import yfinance as yf\n",
    "tickers = [\"^GSPC\", \"^IXIC\",\"SPYG\",\"OEF\",\"SLY\"]\n",
    "\n",
    "data = yf.download(tickers, start = \"2018-01-01\", end = \"2023-07-31\", interval=\"1mo\")\n",
    "\n",
    "monthly_returns = data['Adj Close'].pct_change()\n",
    "\n",
    "monthly_returns = monthly_returns.dropna()\n",
    "\n",
    "monthly_returns.head()\n"
   ]
  },
  {
   "cell_type": "code",
   "execution_count": 79,
   "metadata": {},
   "outputs": [
    {
     "data": {
      "text/plain": [
       "Food     3.33\n",
       "Beer     3.33\n",
       "Fin      3.33\n",
       "Meals    3.33\n",
       "Rtail    3.33\n",
       "Whlsl    3.33\n",
       "dtype: float64"
      ]
     },
     "execution_count": 79,
     "metadata": {},
     "output_type": "execute_result"
    }
   ],
   "source": [
    "\n",
    "exp = monthly_returns[:][\"^IXIC\"]\n",
    "weights_y = rk.style_analysis(exp, ind)\n",
    "weights_y.sort_values(ascending=False).head(6).round(4)*100"
   ]
  },
  {
   "attachments": {},
   "cell_type": "markdown",
   "metadata": {},
   "source": [
    "# Comparing EW and CapWeighted Portfolios\n",
    "\n",
    "Load the EW and VW versions of the returns of the industry portfolios."
   ]
  },
  {
   "cell_type": "code",
   "execution_count": 90,
   "metadata": {},
   "outputs": [],
   "source": [
    "ind_cw = rk.get_ind_returns(ew = False)\n",
    "ind_ew = rk.get_ind_returns(ew=True)"
   ]
  },
  {
   "cell_type": "code",
   "execution_count": 92,
   "metadata": {},
   "outputs": [],
   "source": [
    "sr = pd.DataFrame({\"CW\": rk.sharpe_ratio(ind_cw[\"1945\":], 0.03, 12), \"EW\": rk.sharpe_ratio(ind_ew[\"1945\":], 0.03, 12)})"
   ]
  },
  {
   "cell_type": "code",
   "execution_count": 93,
   "metadata": {},
   "outputs": [
    {
     "data": {
      "text/plain": [
       "<Axes: >"
      ]
     },
     "execution_count": 93,
     "metadata": {},
     "output_type": "execute_result"
    },
    {
     "data": {
      "image/png": "[encoded data removed]",
      "text/plain": [
       "<Figure size 1200x600 with 1 Axes>"
      ]
     },
     "metadata": {},
     "output_type": "display_data"
    }
   ],
   "source": [
    "sr.plot.bar(figsize=(12, 6))"
   ]
  },
  {
   "cell_type": "code",
   "execution_count": 94,
   "metadata": {},
   "outputs": [
    {
     "data": {
      "text/plain": [
       "63.333333333333336"
      ]
     },
     "execution_count": 94,
     "metadata": {},
     "output_type": "execute_result"
    }
   ],
   "source": [
    "(sr['EW'] > sr[\"CW\"]).sum()*100/sr.shape[0]"
   ]
  },
  {
   "cell_type": "code",
   "execution_count": 95,
   "metadata": {},
   "outputs": [
    {
     "data": {
      "text/plain": [
       "Text(0.5, 1.0, 'Average Trailing 5 year Sharpe Ratio across 30 Industry Portfolios 1945-2018')"
      ]
     },
     "execution_count": 95,
     "metadata": {},
     "output_type": "execute_result"
    },
    {
     "data": {
      "image/png": "[encoded data removed]",
      "text/plain": [
       "<Figure size 1200x500 with 1 Axes>"
      ]
     },
     "metadata": {},
     "output_type": "display_data"
    }
   ],
   "source": [
    "ax = ind_cw.rolling(60).apply(rk.sharpe_ratio, raw=True, kwargs={\"riskfree_rate\":0.03, \"periods_per_year\":12}).mean(axis=1)[\"1945\":].plot(figsize=(12,5), label=\"CW\", legend=True)\n",
    "ind_ew.rolling(60).apply(rk.sharpe_ratio, raw=True, kwargs={\"riskfree_rate\":0.03, \"periods_per_year\":12}).mean(axis=1)[\"1945\":].plot(ax=ax, label=\"EW\", legend=True)\n",
    "ax.set_title(\"Average Trailing 5 year Sharpe Ratio across 30 Industry Portfolios 1945-2018\")"
   ]
  },
  {
   "attachments": {},
   "cell_type": "markdown",
   "metadata": {},
   "source": [
    "# Backtesting: EW vs CW"
   ]
  },
  {
   "cell_type": "code",
   "execution_count": 99,
   "metadata": {},
   "outputs": [
    {
     "name": "stdout",
     "output_type": "stream",
     "text": [
      "The autoreload extension is already loaded. To reload it, use:\n",
      "  %reload_ext autoreload\n"
     ]
    }
   ],
   "source": [
    "%load_ext autoreload\n",
    "%autoreload 2"
   ]
  },
  {
   "cell_type": "code",
   "execution_count": 101,
   "metadata": {},
   "outputs": [
    {
     "name": "stderr",
     "output_type": "stream",
     "text": [
      "/Users/ahmet/Desktop/Investment Banking & Asset Management/Investment-Banking-Asset-Management/Advanced Portfolio Construction and Analysis with Python/risk_kit.py:173: SyntaxWarning: \"is\" with a literal. Did you mean \"==\"?\n",
      "  if filetype is \"returns\":\n",
      "/Users/ahmet/Desktop/Investment Banking & Asset Management/Investment-Banking-Asset-Management/Advanced Portfolio Construction and Analysis with Python/risk_kit.py:176: SyntaxWarning: \"is\" with a literal. Did you mean \"==\"?\n",
      "  elif filetype is \"nfirms\":\n",
      "/Users/ahmet/Desktop/Investment Banking & Asset Management/Investment-Banking-Asset-Management/Advanced Portfolio Construction and Analysis with Python/risk_kit.py:179: SyntaxWarning: \"is\" with a literal. Did you mean \"==\"?\n",
      "  elif filetype is \"size\":\n"
     ]
    }
   ],
   "source": [
    "ind49_rets = rk.get_ind_returns(weighting = \"vw\", n_inds = 49)[\"1974\":]\n",
    "ind49_mcap = rk.get_ind_market_caps(49, weights = True)[\"1974\":]"
   ]
  },
  {
   "cell_type": "code",
   "execution_count": 102,
   "metadata": {},
   "outputs": [
    {
     "name": "stderr",
     "output_type": "stream",
     "text": [
      "/Users/ahmet/Desktop/Investment Banking & Asset Management/Investment-Banking-Asset-Management/Advanced Portfolio Construction and Analysis with Python/risk_kit.py:173: SyntaxWarning: \"is\" with a literal. Did you mean \"==\"?\n",
      "  if filetype is \"returns\":\n",
      "/Users/ahmet/Desktop/Investment Banking & Asset Management/Investment-Banking-Asset-Management/Advanced Portfolio Construction and Analysis with Python/risk_kit.py:176: SyntaxWarning: \"is\" with a literal. Did you mean \"==\"?\n",
      "  elif filetype is \"nfirms\":\n",
      "/Users/ahmet/Desktop/Investment Banking & Asset Management/Investment-Banking-Asset-Management/Advanced Portfolio Construction and Analysis with Python/risk_kit.py:179: SyntaxWarning: \"is\" with a literal. Did you mean \"==\"?\n",
      "  elif filetype is \"size\":\n"
     ]
    },
    {
     "data": {
      "text/plain": [
       "<Axes: title={'center': '49 Industries - Equally Weighted'}>"
      ]
     },
     "execution_count": 102,
     "metadata": {},
     "output_type": "execute_result"
    },
    {
     "data": {
      "image/png": "[encoded data removed]",
      "text/plain": [
       "<Figure size 1200x600 with 1 Axes>"
      ]
     },
     "metadata": {},
     "output_type": "display_data"
    }
   ],
   "source": [
    "ewr = rk.backtest_ws(ind49_rets, weighting = rk.weight_ew)\n",
    "ewi = (1+ewr).cumprod()\n",
    "ewi.plot(figsize=(12,6), title=\"49 Industries - Equally Weighted\")"
   ]
  },
  {
   "cell_type": "code",
   "execution_count": 103,
   "metadata": {},
   "outputs": [
    {
     "name": "stderr",
     "output_type": "stream",
     "text": [
      "/Users/ahmet/Desktop/Investment Banking & Asset Management/Investment-Banking-Asset-Management/Advanced Portfolio Construction and Analysis with Python/risk_kit.py:173: SyntaxWarning: \"is\" with a literal. Did you mean \"==\"?\n",
      "  if filetype is \"returns\":\n",
      "/Users/ahmet/Desktop/Investment Banking & Asset Management/Investment-Banking-Asset-Management/Advanced Portfolio Construction and Analysis with Python/risk_kit.py:176: SyntaxWarning: \"is\" with a literal. Did you mean \"==\"?\n",
      "  elif filetype is \"nfirms\":\n",
      "/Users/ahmet/Desktop/Investment Banking & Asset Management/Investment-Banking-Asset-Management/Advanced Portfolio Construction and Analysis with Python/risk_kit.py:179: SyntaxWarning: \"is\" with a literal. Did you mean \"==\"?\n",
      "  elif filetype is \"size\":\n"
     ]
    },
    {
     "ename": "NameError",
     "evalue": "name 'weight_cw' is not defined",
     "output_type": "error",
     "traceback": [
      "\u001b[0;31m---------------------------------------------------------------------------\u001b[0m",
      "\u001b[0;31mNameError\u001b[0m                                 Traceback (most recent call last)",
      "Cell \u001b[0;32mIn[103], line 2\u001b[0m\n\u001b[1;32m      1\u001b[0m ewr \u001b[39m=\u001b[39m rk\u001b[39m.\u001b[39mbacktest_ws(ind49_rets)\n\u001b[0;32m----> 2\u001b[0m cwr \u001b[39m=\u001b[39m rk\u001b[39m.\u001b[39mbacktest_ws(ind49_rets, weighting\u001b[39m=\u001b[39mweight_cw, cap_weights\u001b[39m=\u001b[39mind49_mcap)\n\u001b[1;32m      3\u001b[0m btr \u001b[39m=\u001b[39m pd\u001b[39m.\u001b[39mDataFrame({\u001b[39m\"\u001b[39m\u001b[39mEW\u001b[39m\u001b[39m\"\u001b[39m: ewr, \u001b[39m\"\u001b[39m\u001b[39mCW\u001b[39m\u001b[39m\"\u001b[39m: cwr})\n\u001b[1;32m      4\u001b[0m (\u001b[39m1\u001b[39m\u001b[39m+\u001b[39mbtr)\u001b[39m.\u001b[39mcumprod()\u001b[39m.\u001b[39mplot(figsize\u001b[39m=\u001b[39m(\u001b[39m12\u001b[39m,\u001b[39m5\u001b[39m), title\u001b[39m=\u001b[39m\u001b[39m\"\u001b[39m\u001b[39m49 Industries - CapWeighted vs Equally Weighted\u001b[39m\u001b[39m\"\u001b[39m)\n",
      "\u001b[0;31mNameError\u001b[0m: name 'weight_cw' is not defined"
     ]
    }
   ],
   "source": [
    "ewr = rk.backtest_ws(ind49_rets)\n",
    "cwr = rk.backtest_ws(ind49_rets, weighting=rk.weight_cw, cap_weights=ind49_mcap)\n",
    "btr = pd.DataFrame({\"EW\": ewr, \"CW\": cwr})\n",
    "(1+btr).cumprod().plot(figsize=(12,5), title=\"49 Industries - CapWeighted vs Equally Weighted\")\n",
    "rk.summary_stats(btr.dropna())"
   ]
  },
  {
   "cell_type": "code",
   "execution_count": null,
   "metadata": {},
   "outputs": [],
   "source": []
  }
 ],
 "metadata": {
  "kernelspec": {
   "display_name": "base",
   "language": "python",
   "name": "python3"
  },
  "language_info": {
   "codemirror_mode": {
    "name": "ipython",
    "version": 3
   },
   "file_extension": ".py",
   "mimetype": "text/x-python",
   "name": "python",
   "nbconvert_exporter": "python",
   "pygments_lexer": "ipython3",
   "version": "3.10.9"
  },
  "orig_nbformat": 4
 },
 "nbformat": 4,
 "nbformat_minor": 2
}
