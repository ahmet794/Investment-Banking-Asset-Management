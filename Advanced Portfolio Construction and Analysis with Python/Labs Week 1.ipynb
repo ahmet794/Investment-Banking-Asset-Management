{
 "cells": [
  {
   "attachments": {},
   "cell_type": "markdown",
   "metadata": {},
   "source": [
    "# Investing with 'FACTOR INVESTING'\n",
    "\n",
    "## What is the CAPM?\n",
    "\n",
    "**Capital Asset Pricing Model** CAPM is a financial model to evaluate the expected return of an asset. It provides a framework for understanding the relationship between the asset's risk and its expected return.\n",
    "\n",
    "- CAPM considers market risk to be the primary determinant of an asset's expected return.\n",
    "- Market risk is measured by beta, which represents the asset's sensitivity to market movements.\n",
    "- The CAPM formula is: E(X) = risk free rate + Beta * (Market Return - Risk Free Rate)\n",
    "- The **risk free rate** represents the return on a risk free investment, for example; government bonds.\n",
    "- The CAPM model helps investors determine if the asset value is undervalued or overvalued. \n",
    "\n",
    "\n",
    "\n",
    "\n",
    "\n"
   ]
  },
  {
   "cell_type": "code",
   "execution_count": null,
   "metadata": {},
   "outputs": [],
   "source": []
  }
 ],
 "metadata": {
  "kernelspec": {
   "display_name": "base",
   "language": "python",
   "name": "python3"
  },
  "language_info": {
   "name": "python",
   "version": "3.10.9"
  },
  "orig_nbformat": 4
 },
 "nbformat": 4,
 "nbformat_minor": 2
}
