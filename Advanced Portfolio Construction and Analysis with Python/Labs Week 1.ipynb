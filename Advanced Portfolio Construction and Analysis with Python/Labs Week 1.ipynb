{
 "cells": [
  {
   "attachments": {},
   "cell_type": "markdown",
   "metadata": {},
   "source": [
    "# Investing with 'FACTOR INVESTING'\n",
    "\n",
    "## What is the CAPM?\n",
    "\n",
    "**Capital Asset Pricing Model** CAPM is a financial model to evaluate the expected return of an asset. It provides a framework for understanding the relationship between the asset's risk and its expected return.\n",
    "\n",
    "- CAPM considers market risk to be the primary determinant of an asset's expected return.\n",
    "- Market risk is measured by beta, which represents the asset's sensitivity to market movements.\n",
    "- The CAPM formula is: E(X) = risk free rate + Beta * (Market Return - Risk Free Rate)\n",
    "- The **risk free rate** represents the return on a risk free investment, for example; government bonds.\n",
    "- The CAPM model helps investors determine if the asset value is undervalued or overvalued. \n",
    "\n",
    "\n",
    "\n",
    "\n",
    "\n"
   ]
  },
  {
   "attachments": {},
   "cell_type": "markdown",
   "metadata": {},
   "source": [
    "## What is the Fama-French Three-Factor Model\n",
    "\n",
    "**The Fama-French Three Factor Model** is an extension of the CAPM. This model tries to explain expected returns of an asset by adding three more additional factors.\n",
    "\n",
    "**Key Factors of Fama-French**\n",
    "- Market Risk\n",
    "- Size - Measures the difference in returns between small-cap and large-cap stocks\n",
    "- Value - Measures the difference in returns betweeen high book-to-market ratio and low book-to-market ratio stocks\n",
    "\n",
    "Fama French Model: E(X) = risk free rate + Beta * (Market Return - risk free rate) + size + value\n",
    "\n",
    "By using the additional three factors the Fama-French model aims to better explain the cross-sectional variation in asset returns and provide a more comprehensive approach to asset pricing beyond CAPM's market risk consideration. \n"
   ]
  },
  {
   "attachments": {},
   "cell_type": "markdown",
   "metadata": {},
   "source": [
    "## Cap - Weighted Benchmarks\n",
    "\n",
    "Default approach is to use a **Cap-Weighted Index** as a *Benchmark* for **Active** or **Passive** managers.\n",
    "\n",
    "But Cap-Weighted Indices are very inefficient. They tend to be **heavily concentrated** poorly diversified portfolios.\n",
    "\n",
    "**Smart(Weighted) Benchmarks** have been introduced to fix the problem.\n",
    "\n",
    "For example: \n",
    "- Equally-Weighted Benchmarks\n",
    "- Minimum Variance Benchmarks\n",
    "- Risk Parity Benchmarks"
   ]
  },
  {
   "cell_type": "code",
   "execution_count": null,
   "metadata": {},
   "outputs": [],
   "source": []
  }
 ],
 "metadata": {
  "kernelspec": {
   "display_name": "base",
   "language": "python",
   "name": "python3"
  },
  "language_info": {
   "name": "python",
   "version": "3.10.9"
  },
  "orig_nbformat": 4
 },
 "nbformat": 4,
 "nbformat_minor": 2
}
