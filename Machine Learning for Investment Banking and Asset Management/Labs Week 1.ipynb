{
 "cells": [
  {
   "cell_type": "markdown",
   "metadata": {},
   "source": [
    "# Supervised Learning\n",
    "\n",
    "- Machine identifies objects by training over massive number of examples (adequate data?).\n",
    "\n",
    "- Machine Learning operates on large chunk of data.\n",
    "\n",
    "- Supervised learning depends on labeling and classification. "
   ]
  },
  {
   "cell_type": "markdown",
   "metadata": {},
   "source": [
    "# Comparing the Traditional Statistics with Machine Learning\n",
    "\n",
    "- **Traditional Statistics**\n",
    "- Build a model to estimate a relationship.\n",
    "Fit the model to data perhaps with a subset of a data reserved for out of sample data.\n",
    "\n",
    "- Make a case for the validity of the data by means of a story.\n",
    "\n",
    "- **Machine Learning**\n",
    "- Let data identify features for classification.\n",
    "\n",
    "- Add parameters to traditional statistical methods.\n",
    "\n",
    "- Evaluate the results though a primary focus on."
   ]
  },
  {
   "cell_type": "code",
   "execution_count": null,
   "metadata": {},
   "outputs": [],
   "source": []
  }
 ],
 "metadata": {
  "language_info": {
   "name": "python"
  },
  "orig_nbformat": 4
 },
 "nbformat": 4,
 "nbformat_minor": 2
}
